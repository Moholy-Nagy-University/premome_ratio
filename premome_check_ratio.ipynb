{
 "cells": [
  {
   "cell_type": "code",
   "execution_count": 66,
   "metadata": {
    "collapsed": true,
    "ExecuteTime": {
     "end_time": "2023-10-10T12:42:20.134071400Z",
     "start_time": "2023-10-10T12:42:12.423229600Z"
    }
   },
   "outputs": [],
   "source": [
    "import os\n",
    "\n",
    "import numpy as np\n",
    "import pandas as pd\n",
    "from fuzzywuzzy import process, fuzz\n",
    "import requests\n",
    "from tqdm import tqdm\n",
    "import plotly.express as px\n",
    "\n",
    "tqdm.pandas()\n",
    "import matplotlib.pyplot as plt\n",
    "import plotly.graph_objects as go"
   ]
  },
  {
   "cell_type": "code",
   "execution_count": 4,
   "outputs": [],
   "source": [
    "def get_neptun_fdl(neptun_request):\n",
    "    o_auth_ur_l = \"https://host.sdakft.hu/mome_adatinterface/FDLSzuroFuttato?FDLNeve=\" + neptun_request\n",
    "    headers_get = {'Accept': 'application/json'}\n",
    "    response_body = requests.get(url=o_auth_ur_l, headers=headers_get,\n",
    "                                 auth=requests.auth.HTTPBasicAuth(\"ISBF3Z\", \"123456\"))\n",
    "    print(response_body)\n",
    "    return pd.json_normalize(response_body.json()[\"Eredmeny\"])"
   ],
   "metadata": {
    "collapsed": false,
    "ExecuteTime": {
     "end_time": "2023-10-10T11:54:57.485819900Z",
     "start_time": "2023-10-10T11:54:55.585094300Z"
    }
   }
  },
  {
   "cell_type": "code",
   "execution_count": 5,
   "outputs": [],
   "source": [
    "df_felvi = pd.read_excel('data/Jelentkezések_20230307.xlsx')"
   ],
   "metadata": {
    "collapsed": false,
    "ExecuteTime": {
     "end_time": "2023-10-10T11:55:10.974669700Z",
     "start_time": "2023-10-10T11:54:55.596190100Z"
    }
   }
  },
  {
   "cell_type": "code",
   "execution_count": 6,
   "outputs": [],
   "source": [
    "df_felvi = df_felvi[['Születési dátum', 'Felvételi azonosítószám', 'Név', 'Anyja neve']].drop_duplicates()"
   ],
   "metadata": {
    "collapsed": false,
    "ExecuteTime": {
     "end_time": "2023-10-10T11:55:10.986193600Z",
     "start_time": "2023-10-10T11:55:10.768922400Z"
    }
   }
  },
  {
   "cell_type": "code",
   "execution_count": 7,
   "outputs": [
    {
     "name": "stdout",
     "output_type": "stream",
     "text": [
      "<Response [200]>\n"
     ]
    }
   ],
   "source": [
    "df_neptun = get_neptun_fdl('jrysztv_hallgatok')\n",
    "df_neptun.columns = ['édesanyja neve', 'hallgató neve', 'neptunkód', 'születési dátum', 'születési hely',\n",
    "                     'felvétel dátuma',\n",
    "                     'felvétel féléve', 'felvétel módja', 'hallgató képzése', 'felvételi azonosító']"
   ],
   "metadata": {
    "collapsed": false,
    "ExecuteTime": {
     "end_time": "2023-10-10T11:55:15.322968200Z",
     "start_time": "2023-10-10T11:55:10.975219500Z"
    }
   }
  },
  {
   "cell_type": "code",
   "execution_count": 8,
   "outputs": [],
   "source": [
    "df_neptun = df_neptun[df_neptun['felvételi azonosító'].notna()]"
   ],
   "metadata": {
    "collapsed": false,
    "ExecuteTime": {
     "end_time": "2023-10-10T11:55:15.326974500Z",
     "start_time": "2023-10-10T11:55:15.295957300Z"
    }
   }
  },
  {
   "cell_type": "code",
   "execution_count": 9,
   "outputs": [],
   "source": [
    "df_neptun['felvételi azonosító'] = df_neptun['felvételi azonosító'].astype('Int64')"
   ],
   "metadata": {
    "collapsed": false,
    "ExecuteTime": {
     "end_time": "2023-10-10T11:55:15.524249400Z",
     "start_time": "2023-10-10T11:55:15.329494500Z"
    }
   }
  },
  {
   "cell_type": "code",
   "execution_count": 10,
   "outputs": [],
   "source": [
    "df_felvi_neptun = pd.merge(df_felvi.rename(\n",
    "    {'Anyja neve': 'édesanyja neve', 'Név': 'hallgató neve', 'Felvételi azonosítószám': 'felvételi azonosító',\n",
    "     'Születési dátum': 'születési dátum'}, axis=1),\n",
    "    df_neptun, on='felvételi azonosító', how='outer', indicator=True)"
   ],
   "metadata": {
    "collapsed": false,
    "ExecuteTime": {
     "end_time": "2023-10-10T11:55:15.683938700Z",
     "start_time": "2023-10-10T11:55:15.355219400Z"
    }
   }
  },
  {
   "cell_type": "code",
   "execution_count": 11,
   "outputs": [],
   "source": [
    "df_felvi_neptun['felvett'] = df_felvi_neptun['_merge'] != 'left_only'  # aki neptunos, az fel van véve\n",
    "df_felvi_neptun['jelentkezett'] = True  # Aki felvis, vagy felvett, az jelentkezett by definition :)"
   ],
   "metadata": {
    "collapsed": false,
    "ExecuteTime": {
     "end_time": "2023-10-10T11:55:15.811769500Z",
     "start_time": "2023-10-10T11:55:15.454174100Z"
    }
   }
  },
  {
   "cell_type": "code",
   "execution_count": 12,
   "outputs": [
    {
     "data": {
      "text/plain": "_merge\nleft_only     1961\nright_only       0\nboth           178\ndtype: int64"
     },
     "execution_count": 12,
     "metadata": {},
     "output_type": "execute_result"
    }
   ],
   "source": [
    "df_felvi_neptun.groupby('_merge').size()"
   ],
   "metadata": {
    "collapsed": false,
    "ExecuteTime": {
     "end_time": "2023-10-10T11:55:16.096758300Z",
     "start_time": "2023-10-10T11:55:15.511806300Z"
    }
   }
  },
  {
   "cell_type": "code",
   "execution_count": 13,
   "outputs": [],
   "source": [
    "df_felvi_neptun.drop('_merge', inplace=True, axis=1)"
   ],
   "metadata": {
    "collapsed": false,
    "ExecuteTime": {
     "end_time": "2023-10-10T11:55:16.097757700Z",
     "start_time": "2023-10-10T11:55:15.577948700Z"
    }
   }
  },
  {
   "cell_type": "code",
   "execution_count": 14,
   "outputs": [],
   "source": [
    "df_felvi_neptun['hallgató neve'] = df_felvi_neptun['hallgató neve_x'].fillna(\n",
    "    df_felvi_neptun['hallgató neve_y']).str.strip()\n",
    "df_felvi_neptun['édesanyja neve'] = df_felvi_neptun['édesanyja neve_x'].fillna(\n",
    "    df_felvi_neptun['édesanyja neve_y']).str.strip()\n",
    "df_felvi_neptun['születési dátum'] = df_felvi_neptun['születési dátum_x'].fillna(\n",
    "    df_felvi_neptun['születési dátum_y']).str.strip()"
   ],
   "metadata": {
    "collapsed": false,
    "ExecuteTime": {
     "end_time": "2023-10-10T11:55:16.105039400Z",
     "start_time": "2023-10-10T11:55:15.642130500Z"
    }
   }
  },
  {
   "cell_type": "code",
   "execution_count": 15,
   "outputs": [],
   "source": [
    "df_felvi_neptun.drop(['hallgató neve_x', 'hallgató neve_y', 'édesanyja neve_x', 'édesanyja neve_y'], axis=1,\n",
    "                     inplace=True)"
   ],
   "metadata": {
    "collapsed": false,
    "ExecuteTime": {
     "end_time": "2023-10-10T11:55:16.152668500Z",
     "start_time": "2023-10-10T11:55:15.698277200Z"
    }
   }
  },
  {
   "cell_type": "code",
   "execution_count": 16,
   "outputs": [],
   "source": [
    "df_felvi_neptun['id'] = df_felvi_neptun['hallgató neve'].str.cat(\n",
    "    df_felvi_neptun[['édesanyja neve', 'születési dátum']].values, sep=', ')"
   ],
   "metadata": {
    "collapsed": false,
    "ExecuteTime": {
     "end_time": "2023-10-10T11:55:16.154662400Z",
     "start_time": "2023-10-10T11:55:15.744121300Z"
    }
   }
  },
  {
   "cell_type": "markdown",
   "source": [
    "# Premome\n",
    "## Tisztítás"
   ],
   "metadata": {
    "collapsed": false
   }
  },
  {
   "cell_type": "code",
   "execution_count": 17,
   "outputs": [],
   "source": [
    "premome_data = pd.read_excel('data/premome_participants.xlsx', sheet_name=None)"
   ],
   "metadata": {
    "collapsed": false,
    "ExecuteTime": {
     "end_time": "2023-10-10T11:55:16.671990Z",
     "start_time": "2023-10-10T11:55:15.798185800Z"
    }
   }
  },
  {
   "cell_type": "code",
   "execution_count": 18,
   "outputs": [],
   "source": [
    "df_premome = pd.concat(premome_data.values(), keys=premome_data.keys(), names=['tanfolyam']).reset_index().drop(\n",
    "    'level_1', axis=1)"
   ],
   "metadata": {
    "collapsed": false,
    "ExecuteTime": {
     "end_time": "2023-10-10T11:55:17.035333300Z",
     "start_time": "2023-10-10T11:55:16.442511100Z"
    }
   }
  },
  {
   "cell_type": "code",
   "execution_count": 19,
   "outputs": [],
   "source": [
    "kurzusmapping = {'Textil szakirány': 'textiltervezés', 'Tervezőgrafika': 'tervezőgrafika',\n",
    "                 'Tervezőgrafika - Haladó': 'tervezőgrafika',\n",
    "                 'Tervezőgrafika - Kezdő': \"tervezőgrafika\", 'Textiltervezés': 'textiltervezés',\n",
    "                 'Designkultúra': 'designkultúra',\n",
    "                 'Média design': 'média design', 'Média Design': 'média design',\n",
    "                 'Fotográfia': 'fotográfia', 'Fotográfia szakirány': 'fotográfia',\n",
    "                 'Formatervezés': 'formatervezés', 'Formatervezés szakirány': 'formatervezés szakirány',\n",
    "                 'Tárgyalkotás': 'tárgyalkotás', '7 alkalmas textil': 'textiltervezés',\n",
    "                 'Rajzbérlet 19 alkalmas': 'rajz', 'Rajzbérlet 19 alkalmas ': 'rajz', 'Rajzbérlet 10 alkalmas': 'rajz',\n",
    "                 'Rajzbérlet 10 alkalmas ': 'rajz', 'Rajz': 'rajz', '7 alkalmas rajz': 'rajz',\n",
    "                 'Délelőtti rajz': 'rajz', 'Animáció': 'animáció', 'Építészet': 'építészet',\n",
    "                 'Animáció szakirány': 'animáció', 'Tervezőgrafika szakirány': 'tervezőgrafika',\n",
    "                 '7 alklamas rajz': 'rajz'}"
   ],
   "metadata": {
    "collapsed": false,
    "ExecuteTime": {
     "end_time": "2023-10-10T11:55:17.036352400Z",
     "start_time": "2023-10-10T11:55:16.518588200Z"
    }
   }
  },
  {
   "cell_type": "code",
   "execution_count": 20,
   "outputs": [],
   "source": [
    "pd.DataFrame(pd.Series(kurzusmapping)).reset_index().rename({'index': 'eredeti név', 0: 'harmonizált név'},\n",
    "                                                            axis=1).sort_values('harmonizált név').to_excel(\n",
    "    'results/harmonizálás.xlsx')"
   ],
   "metadata": {
    "collapsed": false,
    "ExecuteTime": {
     "end_time": "2023-10-10T11:55:17.445466900Z",
     "start_time": "2023-10-10T11:55:16.549490300Z"
    }
   }
  },
  {
   "cell_type": "code",
   "execution_count": 21,
   "outputs": [],
   "source": [
    "df_premome['kurzus neve (harmonizált)'] = df_premome['kurzus neve'].replace(kurzusmapping)"
   ],
   "metadata": {
    "collapsed": false,
    "ExecuteTime": {
     "end_time": "2023-10-10T11:55:17.477392200Z",
     "start_time": "2023-10-10T11:55:16.925170200Z"
    }
   }
  },
  {
   "cell_type": "code",
   "execution_count": 22,
   "outputs": [],
   "source": [
    "df_premome['kurzus azonosító'] = (df_premome['tanfolyam'] + ', ' + df_premome['kurzus neve']).str.lower()"
   ],
   "metadata": {
    "collapsed": false,
    "ExecuteTime": {
     "end_time": "2023-10-10T11:55:17.478812600Z",
     "start_time": "2023-10-10T11:55:16.976897200Z"
    }
   }
  },
  {
   "cell_type": "code",
   "execution_count": 23,
   "outputs": [],
   "source": [
    "df_premome['születési idő'] = df_premome['születési idő'].dt.strftime('%Y-%m-%d')\n",
    "df_premome.rename({'születési idő': 'születési dátum'}, axis=1, inplace=True)"
   ],
   "metadata": {
    "collapsed": false,
    "ExecuteTime": {
     "end_time": "2023-10-10T11:55:17.480107800Z",
     "start_time": "2023-10-10T11:55:17.027661200Z"
    }
   }
  },
  {
   "cell_type": "markdown",
   "source": [
    "## Fuzzy merge előkészítés"
   ],
   "metadata": {
    "collapsed": false
   }
  },
  {
   "cell_type": "code",
   "execution_count": 24,
   "outputs": [],
   "source": [
    "df_premome['résztvevő neve'] = df_premome['résztvevő neve'].str.strip()\n",
    "df_premome['édesanyja neve'] = df_premome['édesanyja neve'].str.strip()"
   ],
   "metadata": {
    "collapsed": false,
    "ExecuteTime": {
     "end_time": "2023-10-10T11:55:17.481711500Z",
     "start_time": "2023-10-10T11:55:17.086992300Z"
    }
   }
  },
  {
   "cell_type": "code",
   "execution_count": 25,
   "outputs": [],
   "source": [
    "df_premome['id'] = df_premome['résztvevő neve'].str.cat(df_premome[['édesanyja neve', 'születési dátum']].values,\n",
    "                                                        sep=', ')"
   ],
   "metadata": {
    "collapsed": false,
    "ExecuteTime": {
     "end_time": "2023-10-10T11:55:17.482685Z",
     "start_time": "2023-10-10T11:55:17.125505800Z"
    }
   }
  },
  {
   "cell_type": "code",
   "execution_count": 26,
   "outputs": [
    {
     "name": "stderr",
     "output_type": "stream",
     "text": [
      "100%|██████████| 296/296 [02:48<00:00,  1.76it/s]\n"
     ]
    }
   ],
   "source": [
    "def get_closest_match(row, column1, df2, column2, scorer):\n",
    "    closest_match_tuple = process.extractOne(row[column1], df2[column2], scorer=scorer)\n",
    "    return pd.Series([closest_match_tuple[0], closest_match_tuple[1]])\n",
    "\n",
    "\n",
    "def fuzzy_match(df1, df2, column1, column2, scorer=None, score_value=90):\n",
    "    \"\"\"\n",
    "    Fuzzy match columns of two dataframes and return the closest match and score.\n",
    "\n",
    "    Parameters:\n",
    "    - df1, df2: Dataframes to match.\n",
    "    - column1, column2: The columns in df1 and df2 respectively to match on.\n",
    "    - scorer: A scoring function from fuzzywuzzy.fuzz. Default is fuzz.WRatio.\n",
    "\n",
    "    Returns:\n",
    "    - df1 with two new columns: 'closest_match' and 'score'.\n",
    "    \"\"\"\n",
    "    if scorer is None:\n",
    "        scorer = fuzz.WRatio\n",
    "\n",
    "    df1[['closest_match', 'score']] = df1.progress_apply(\n",
    "        lambda row: get_closest_match(row, column1, df2, column2, scorer),\n",
    "        axis=1\n",
    "    )\n",
    "    df1.loc[df1['score'] < score_value, ['score', 'closest_match']] = (np.nan, None)\n",
    "    return df1\n",
    "\n",
    "\n",
    "df_premome = fuzzy_match(df_premome, df_felvi_neptun, 'id', 'id')"
   ],
   "metadata": {
    "collapsed": false,
    "ExecuteTime": {
     "end_time": "2023-10-10T11:58:05.934179300Z",
     "start_time": "2023-10-10T11:55:17.159861Z"
    }
   }
  },
  {
   "cell_type": "code",
   "execution_count": 27,
   "outputs": [],
   "source": [
    "df_premome.rename({'closest_match': 'id neptun'}, axis=1, inplace=True)"
   ],
   "metadata": {
    "collapsed": false,
    "ExecuteTime": {
     "end_time": "2023-10-10T11:58:05.937893400Z",
     "start_time": "2023-10-10T11:58:05.918503900Z"
    }
   }
  },
  {
   "cell_type": "code",
   "execution_count": 28,
   "outputs": [],
   "source": [
    "df_premome.drop('score', axis=1, inplace=True)"
   ],
   "metadata": {
    "collapsed": false,
    "ExecuteTime": {
     "end_time": "2023-10-10T11:58:05.937893400Z",
     "start_time": "2023-10-10T11:58:05.924565100Z"
    }
   }
  },
  {
   "cell_type": "code",
   "execution_count": 29,
   "outputs": [],
   "source": [
    "df_premome['id'] = df_premome['id neptun'].fillna(df_premome['id'])"
   ],
   "metadata": {
    "collapsed": false,
    "ExecuteTime": {
     "end_time": "2023-10-10T11:58:05.982468300Z",
     "start_time": "2023-10-10T11:58:05.924687600Z"
    }
   }
  },
  {
   "cell_type": "code",
   "execution_count": 30,
   "outputs": [],
   "source": [
    "df = pd.merge(df_felvi_neptun, df_premome[['id', 'résztvevő neve', 'kurzus neve (harmonizált)', 'kurzus azonosító']],\n",
    "              how='outer', indicator=True, on='id').rename({'kurzus neve (harmonizált)': 'kurzus neve'}, axis=1)"
   ],
   "metadata": {
    "collapsed": false,
    "ExecuteTime": {
     "end_time": "2023-10-10T11:58:06.159793300Z",
     "start_time": "2023-10-10T11:58:05.924687600Z"
    }
   }
  },
  {
   "cell_type": "code",
   "execution_count": 31,
   "outputs": [],
   "source": [
    "df['premomés'] = df['_merge'] != 'left_only'"
   ],
   "metadata": {
    "collapsed": false,
    "ExecuteTime": {
     "end_time": "2023-10-10T11:58:06.164180600Z",
     "start_time": "2023-10-10T11:58:05.992484600Z"
    }
   }
  },
  {
   "cell_type": "code",
   "execution_count": 32,
   "outputs": [
    {
     "data": {
      "text/plain": "premomés  jelentkezett  felvett\nFalse     True          False      1884\n                        True        150\nTrue      True          False       113\n                        True         52\n          NaN           NaN         131\ndtype: int64"
     },
     "execution_count": 32,
     "metadata": {},
     "output_type": "execute_result"
    }
   ],
   "source": [
    "df.groupby(['premomés', 'jelentkezett', 'felvett'], dropna=False).size()"
   ],
   "metadata": {
    "collapsed": false,
    "ExecuteTime": {
     "end_time": "2023-10-10T11:58:06.221964Z",
     "start_time": "2023-10-10T11:58:06.020533300Z"
    }
   }
  },
  {
   "cell_type": "code",
   "execution_count": 33,
   "outputs": [],
   "source": [
    "df['jelentkezett'] = df['jelentkezett'].fillna(False)\n",
    "df['felvett'] = df['felvett'].fillna(False)"
   ],
   "metadata": {
    "collapsed": false,
    "ExecuteTime": {
     "end_time": "2023-10-10T11:58:06.222969Z",
     "start_time": "2023-10-10T11:58:06.074226700Z"
    }
   }
  },
  {
   "cell_type": "code",
   "execution_count": 34,
   "outputs": [],
   "source": [
    "df.drop(['_merge', 'felvétel dátuma', 'felvétel módja'], axis=1, inplace=True)"
   ],
   "metadata": {
    "collapsed": false,
    "ExecuteTime": {
     "end_time": "2023-10-10T11:58:06.225969Z",
     "start_time": "2023-10-10T11:58:06.098157100Z"
    }
   }
  },
  {
   "cell_type": "code",
   "execution_count": 35,
   "outputs": [],
   "source": [
    "df.loc[df['felvett'], 'felvételi kategória'] = 'felvett'\n",
    "df.loc[(~df['felvett']) & df['jelentkezett'], 'felvételi kategória'] = 'nem felvett'\n",
    "df.fillna({'felvételi kategória': 'nem jelentkezett'}, inplace=True)"
   ],
   "metadata": {
    "collapsed": false,
    "ExecuteTime": {
     "end_time": "2023-10-10T11:58:06.306401900Z",
     "start_time": "2023-10-10T11:58:06.124201500Z"
    }
   }
  },
  {
   "cell_type": "code",
   "execution_count": 36,
   "outputs": [],
   "source": [
    "df['név'] = df['hallgató neve'].fillna(df['résztvevő neve'])"
   ],
   "metadata": {
    "collapsed": false,
    "ExecuteTime": {
     "end_time": "2023-10-10T11:58:06.307401400Z",
     "start_time": "2023-10-10T11:58:06.153384Z"
    }
   }
  },
  {
   "cell_type": "code",
   "execution_count": 37,
   "outputs": [],
   "source": [
    "df.drop(['hallgató neve', 'résztvevő neve'], axis=1, inplace=True)"
   ],
   "metadata": {
    "collapsed": false,
    "ExecuteTime": {
     "end_time": "2023-10-10T11:58:06.400710300Z",
     "start_time": "2023-10-10T11:58:06.179301600Z"
    }
   }
  },
  {
   "cell_type": "code",
   "execution_count": 38,
   "outputs": [],
   "source": [
    "df['előkészítő típusa'] = df['premomés'].replace({True: 'premomés', False: 'nem premomés'})"
   ],
   "metadata": {
    "collapsed": false,
    "ExecuteTime": {
     "end_time": "2023-10-10T11:58:06.402570100Z",
     "start_time": "2023-10-10T11:58:06.211600800Z"
    }
   }
  },
  {
   "cell_type": "code",
   "execution_count": 39,
   "outputs": [],
   "source": [
    "df_totals = df.drop_duplicates(['id'])"
   ],
   "metadata": {
    "collapsed": false,
    "ExecuteTime": {
     "end_time": "2023-10-10T11:58:06.402570100Z",
     "start_time": "2023-10-10T11:58:06.241981500Z"
    }
   }
  },
  {
   "cell_type": "code",
   "execution_count": 49,
   "outputs": [],
   "source": [
    "pd.DataFrame(df_totals.groupby(['előkészítő típusa', 'felvételi kategória'], dropna=False).size()).reset_index().pivot(\n",
    "    index='felvételi kategória', columns='előkészítő típusa', values=0).to_excel('results/felvételi arányok.xlsx')"
   ],
   "metadata": {
    "collapsed": false,
    "ExecuteTime": {
     "end_time": "2023-09-14T12:03:41.420338900Z",
     "start_time": "2023-09-14T12:03:41.155245800Z"
    }
   }
  },
  {
   "cell_type": "code",
   "execution_count": 50,
   "outputs": [],
   "source": [
    "pd.DataFrame(df_totals.groupby(['hallgató képzése', 'előkészítő típusa', 'felvételi kategória'],\n",
    "                               dropna=False).size()).reset_index().pivot(\n",
    "    index=['felvételi kategória', 'hallgató képzése'], columns='előkészítő típusa', values=0).to_excel(\n",
    "    'results/felvételi arányok hallgató képzése szerint.xlsx')"
   ],
   "metadata": {
    "collapsed": false,
    "ExecuteTime": {
     "end_time": "2023-09-14T12:03:41.449247700Z",
     "start_time": "2023-09-14T12:03:41.197059900Z"
    }
   }
  },
  {
   "cell_type": "code",
   "execution_count": 135,
   "outputs": [],
   "source": [
    "def gen_application_admission_dfs(dataframe, coursevar_name='kurzus azonosító'):\n",
    "    prepcourse_df = pd.DataFrame(\n",
    "        dataframe.groupby([coursevar_name, 'előkészítő típusa', 'felvételi kategória'],\n",
    "                          dropna=False).size()).reset_index().pivot(\n",
    "        index=[coursevar_name, 'felvételi kategória'], columns='előkészítő típusa',\n",
    "        values=0)  #.to_excel('results/felvételi arányok kurzus azonosító szerint.xlsx')\n",
    "    prepcourse_df.reset_index(inplace=True)\n",
    "    prepcourse_df.loc[prepcourse_df[coursevar_name].isna(), coursevar_name] = 'nem járt'\n",
    "    prepcourse_df.set_index([coursevar_name, 'felvételi kategória'], inplace=True)\n",
    "    prepcourse_df = prepcourse_df.join(\n",
    "        prepcourse_df.fillna(0).groupby(coursevar_name, dropna=False).sum().sum(axis=1).rename(\n",
    "            'teljes létszám')).fillna(0)\n",
    "    prepcourse_df = prepcourse_df.reset_index().set_index('felvételi kategória').drop('nem jelentkezett',\n",
    "                                                                                      axis=0).reset_index().set_index(\n",
    "        [coursevar_name, 'felvételi kategória'])\n",
    "    prepcourse_df = prepcourse_df.join(\n",
    "        prepcourse_df[['premomés', 'nem premomés']].fillna(0).groupby(coursevar_name, dropna=False).sum().sum(\n",
    "            axis=1).rename(\n",
    "            'felvételiző létszám')).fillna(0)\n",
    "    prepcourse_df.reset_index(inplace=True)\n",
    "    prepcourse_df.loc[\n",
    "        prepcourse_df['felvételi kategória']\n",
    "        == 'felvett', 'felvételi ráta'] = (prepcourse_df.loc[\n",
    "                                               prepcourse_df['felvételi kategória'] == 'felvett', 'nem premomés'] +\n",
    "                                           prepcourse_df.loc[prepcourse_df[\n",
    "                                                                 'felvételi kategória'] == 'felvett', 'premomés']) / \\\n",
    "                                          prepcourse_df.loc[prepcourse_df[\n",
    "                                                                'felvételi kategória'] == 'felvett', 'felvételiző létszám']\n",
    "    prepcourse_df.loc[\n",
    "        prepcourse_df['felvételi kategória']\n",
    "        == 'felvett', 'jelentkezési ráta'] = prepcourse_df.loc[prepcourse_df[\n",
    "                                                                   'felvételi kategória'] == 'felvett', 'felvételiző létszám'] / \\\n",
    "                                             prepcourse_df.loc[prepcourse_df[\n",
    "                                                                   'felvételi kategória'] == 'felvett', 'teljes létszám']\n",
    "    prepcourse_df.set_index([coursevar_name, 'felvételi kategória'], inplace=True)\n",
    "    prepcourse_df = prepcourse_df.fillna(0)\n",
    "    return prepcourse_df"
   ],
   "metadata": {
    "collapsed": false,
    "ExecuteTime": {
     "end_time": "2023-10-11T08:34:50.332701900Z",
     "start_time": "2023-10-11T08:34:50.285892200Z"
    }
   }
  },
  {
   "cell_type": "code",
   "execution_count": 136,
   "outputs": [
    {
     "data": {
      "text/plain": "                                                              nem premomés  \\\nkurzus azonosító                         felvételi kategória                 \nnem járt                                 felvett                     150.0   \n                                         nem felvett                1884.0   \n7_alkalmas_őszi_2022, 7 alkalmas textil  felvett                       0.0   \n                                         nem felvett                   0.0   \n7_alkalmas_őszi_2022, 7 alklamas rajz    felvett                       0.0   \n                                         nem felvett                   0.0   \nelőkészítő_2022, animáció                nem felvett                   0.0   \nelőkészítő_2022, designkultúra           felvett                       0.0   \nelőkészítő_2022, délelőtti rajz          nem felvett                   0.0   \nelőkészítő_2022, formatervezés           felvett                       0.0   \n                                         nem felvett                   0.0   \nelőkészítő_2022, fotográfia              felvett                       0.0   \n                                         nem felvett                   0.0   \nelőkészítő_2022, média design            felvett                       0.0   \n                                         nem felvett                   0.0   \nelőkészítő_2022, rajzbérlet 10 alkalmas  felvett                       0.0   \n                                         nem felvett                   0.0   \nelőkészítő_2022, rajzbérlet 19 alkalmas  felvett                       0.0   \n                                         nem felvett                   0.0   \nelőkészítő_2022, tervezőgrafika - haladó felvett                       0.0   \n                                         nem felvett                   0.0   \nelőkészítő_2022, tervezőgrafika - kezdő  felvett                       0.0   \n                                         nem felvett                   0.0   \nelőkészítő_2022, textiltervezés          felvett                       0.0   \n                                         nem felvett                   0.0   \nelőkészítő_2022, tárgyalkotás            felvett                       0.0   \n                                         nem felvett                   0.0   \nelőkészítő_2022, építészet               nem felvett                   0.0   \nintenzív 2022, animáció szakirány        nem felvett                   0.0   \nintenzív 2022, formatervezés szakirány   felvett                       0.0   \nintenzív 2022, fotográfia szakirány      felvett                       0.0   \nintenzív 2022, rajz                      felvett                       0.0   \n                                         nem felvett                   0.0   \nintenzív 2022, tervezőgrafika szakirány  nem felvett                   0.0   \nintenzív 2022, textil szakirány          felvett                       0.0   \n                                         nem felvett                   0.0   \nintenzív 2023, formatervezés             felvett                       0.0   \n                                         nem felvett                   0.0   \nintenzív 2023, média design              felvett                       0.0   \n                                         nem felvett                   0.0   \nintenzív 2023, rajz                      nem felvett                   0.0   \nintenzív 2023, tervezőgrafika            felvett                       0.0   \n                                         nem felvett                   0.0   \nintenzív 2023, textiltervezés            felvett                       0.0   \n                                         nem felvett                   0.0   \nintenzív 2023, tárgyalkotás              felvett                       0.0   \n                                         nem felvett                   0.0   \n\n                                                              premomés  \\\nkurzus azonosító                         felvételi kategória             \nnem járt                                 felvett                   0.0   \n                                         nem felvett               0.0   \n7_alkalmas_őszi_2022, 7 alkalmas textil  felvett                   2.0   \n                                         nem felvett               7.0   \n7_alkalmas_őszi_2022, 7 alklamas rajz    felvett                   2.0   \n                                         nem felvett              12.0   \nelőkészítő_2022, animáció                nem felvett              14.0   \nelőkészítő_2022, designkultúra           felvett                   3.0   \nelőkészítő_2022, délelőtti rajz          nem felvett               4.0   \nelőkészítő_2022, formatervezés           felvett                   5.0   \n                                         nem felvett               5.0   \nelőkészítő_2022, fotográfia              felvett                   2.0   \n                                         nem felvett               3.0   \nelőkészítő_2022, média design            felvett                   1.0   \n                                         nem felvett              11.0   \nelőkészítő_2022, rajzbérlet 10 alkalmas  felvett                   1.0   \n                                         nem felvett               9.0   \nelőkészítő_2022, rajzbérlet 19 alkalmas  felvett                   3.0   \n                                         nem felvett              10.0   \nelőkészítő_2022, tervezőgrafika - haladó felvett                   6.0   \n                                         nem felvett               2.0   \nelőkészítő_2022, tervezőgrafika - kezdő  felvett                   1.0   \n                                         nem felvett               5.0   \nelőkészítő_2022, textiltervezés          felvett                   2.0   \n                                         nem felvett               6.0   \nelőkészítő_2022, tárgyalkotás            felvett                   2.0   \n                                         nem felvett               2.0   \nelőkészítő_2022, építészet               nem felvett              10.0   \nintenzív 2022, animáció szakirány        nem felvett               2.0   \nintenzív 2022, formatervezés szakirány   felvett                   1.0   \nintenzív 2022, fotográfia szakirány      felvett                   1.0   \nintenzív 2022, rajz                      felvett                   1.0   \n                                         nem felvett               1.0   \nintenzív 2022, tervezőgrafika szakirány  nem felvett               1.0   \nintenzív 2022, textil szakirány          felvett                   1.0   \n                                         nem felvett               1.0   \nintenzív 2023, formatervezés             felvett                   6.0   \n                                         nem felvett               2.0   \nintenzív 2023, média design              felvett                   2.0   \n                                         nem felvett               2.0   \nintenzív 2023, rajz                      nem felvett               1.0   \nintenzív 2023, tervezőgrafika            felvett                   6.0   \n                                         nem felvett               1.0   \nintenzív 2023, textiltervezés            felvett                   2.0   \n                                         nem felvett               1.0   \nintenzív 2023, tárgyalkotás              felvett                   2.0   \n                                         nem felvett               1.0   \n\n                                                              teljes létszám  \\\nkurzus azonosító                         felvételi kategória                   \nnem járt                                 felvett                      2034.0   \n                                         nem felvett                  2034.0   \n7_alkalmas_őszi_2022, 7 alkalmas textil  felvett                        21.0   \n                                         nem felvett                    21.0   \n7_alkalmas_őszi_2022, 7 alklamas rajz    felvett                        34.0   \n                                         nem felvett                    34.0   \nelőkészítő_2022, animáció                nem felvett                    18.0   \nelőkészítő_2022, designkultúra           felvett                         4.0   \nelőkészítő_2022, délelőtti rajz          nem felvett                    15.0   \nelőkészítő_2022, formatervezés           felvett                        12.0   \n                                         nem felvett                    12.0   \nelőkészítő_2022, fotográfia              felvett                         7.0   \n                                         nem felvett                     7.0   \nelőkészítő_2022, média design            felvett                        13.0   \n                                         nem felvett                    13.0   \nelőkészítő_2022, rajzbérlet 10 alkalmas  felvett                        11.0   \n                                         nem felvett                    11.0   \nelőkészítő_2022, rajzbérlet 19 alkalmas  felvett                        19.0   \n                                         nem felvett                    19.0   \nelőkészítő_2022, tervezőgrafika - haladó felvett                         9.0   \n                                         nem felvett                     9.0   \nelőkészítő_2022, tervezőgrafika - kezdő  felvett                        15.0   \n                                         nem felvett                    15.0   \nelőkészítő_2022, textiltervezés          felvett                        12.0   \n                                         nem felvett                    12.0   \nelőkészítő_2022, tárgyalkotás            felvett                         5.0   \n                                         nem felvett                     5.0   \nelőkészítő_2022, építészet               nem felvett                    13.0   \nintenzív 2022, animáció szakirány        nem felvett                     3.0   \nintenzív 2022, formatervezés szakirány   felvett                         4.0   \nintenzív 2022, fotográfia szakirány      felvett                         5.0   \nintenzív 2022, rajz                      felvett                         6.0   \n                                         nem felvett                     6.0   \nintenzív 2022, tervezőgrafika szakirány  nem felvett                     6.0   \nintenzív 2022, textil szakirány          felvett                         8.0   \n                                         nem felvett                     8.0   \nintenzív 2023, formatervezés             felvett                         8.0   \n                                         nem felvett                     8.0   \nintenzív 2023, média design              felvett                         4.0   \n                                         nem felvett                     4.0   \nintenzív 2023, rajz                      nem felvett                     9.0   \nintenzív 2023, tervezőgrafika            felvett                         8.0   \n                                         nem felvett                     8.0   \nintenzív 2023, textiltervezés            felvett                         3.0   \n                                         nem felvett                     3.0   \nintenzív 2023, tárgyalkotás              felvett                         4.0   \n                                         nem felvett                     4.0   \n\n                                                              felvételiző létszám  \\\nkurzus azonosító                         felvételi kategória                        \nnem járt                                 felvett                           2034.0   \n                                         nem felvett                       2034.0   \n7_alkalmas_őszi_2022, 7 alkalmas textil  felvett                              9.0   \n                                         nem felvett                          9.0   \n7_alkalmas_őszi_2022, 7 alklamas rajz    felvett                             14.0   \n                                         nem felvett                         14.0   \nelőkészítő_2022, animáció                nem felvett                         14.0   \nelőkészítő_2022, designkultúra           felvett                              3.0   \nelőkészítő_2022, délelőtti rajz          nem felvett                          4.0   \nelőkészítő_2022, formatervezés           felvett                             10.0   \n                                         nem felvett                         10.0   \nelőkészítő_2022, fotográfia              felvett                              5.0   \n                                         nem felvett                          5.0   \nelőkészítő_2022, média design            felvett                             12.0   \n                                         nem felvett                         12.0   \nelőkészítő_2022, rajzbérlet 10 alkalmas  felvett                             10.0   \n                                         nem felvett                         10.0   \nelőkészítő_2022, rajzbérlet 19 alkalmas  felvett                             13.0   \n                                         nem felvett                         13.0   \nelőkészítő_2022, tervezőgrafika - haladó felvett                              8.0   \n                                         nem felvett                          8.0   \nelőkészítő_2022, tervezőgrafika - kezdő  felvett                              6.0   \n                                         nem felvett                          6.0   \nelőkészítő_2022, textiltervezés          felvett                              8.0   \n                                         nem felvett                          8.0   \nelőkészítő_2022, tárgyalkotás            felvett                              4.0   \n                                         nem felvett                          4.0   \nelőkészítő_2022, építészet               nem felvett                         10.0   \nintenzív 2022, animáció szakirány        nem felvett                          2.0   \nintenzív 2022, formatervezés szakirány   felvett                              1.0   \nintenzív 2022, fotográfia szakirány      felvett                              1.0   \nintenzív 2022, rajz                      felvett                              2.0   \n                                         nem felvett                          2.0   \nintenzív 2022, tervezőgrafika szakirány  nem felvett                          1.0   \nintenzív 2022, textil szakirány          felvett                              2.0   \n                                         nem felvett                          2.0   \nintenzív 2023, formatervezés             felvett                              8.0   \n                                         nem felvett                          8.0   \nintenzív 2023, média design              felvett                              4.0   \n                                         nem felvett                          4.0   \nintenzív 2023, rajz                      nem felvett                          1.0   \nintenzív 2023, tervezőgrafika            felvett                              7.0   \n                                         nem felvett                          7.0   \nintenzív 2023, textiltervezés            felvett                              3.0   \n                                         nem felvett                          3.0   \nintenzív 2023, tárgyalkotás              felvett                              3.0   \n                                         nem felvett                          3.0   \n\n                                                              felvételi ráta  \\\nkurzus azonosító                         felvételi kategória                   \nnem járt                                 felvett                    0.073746   \n                                         nem felvett                0.000000   \n7_alkalmas_őszi_2022, 7 alkalmas textil  felvett                    0.222222   \n                                         nem felvett                0.000000   \n7_alkalmas_őszi_2022, 7 alklamas rajz    felvett                    0.142857   \n                                         nem felvett                0.000000   \nelőkészítő_2022, animáció                nem felvett                0.000000   \nelőkészítő_2022, designkultúra           felvett                    1.000000   \nelőkészítő_2022, délelőtti rajz          nem felvett                0.000000   \nelőkészítő_2022, formatervezés           felvett                    0.500000   \n                                         nem felvett                0.000000   \nelőkészítő_2022, fotográfia              felvett                    0.400000   \n                                         nem felvett                0.000000   \nelőkészítő_2022, média design            felvett                    0.083333   \n                                         nem felvett                0.000000   \nelőkészítő_2022, rajzbérlet 10 alkalmas  felvett                    0.100000   \n                                         nem felvett                0.000000   \nelőkészítő_2022, rajzbérlet 19 alkalmas  felvett                    0.230769   \n                                         nem felvett                0.000000   \nelőkészítő_2022, tervezőgrafika - haladó felvett                    0.750000   \n                                         nem felvett                0.000000   \nelőkészítő_2022, tervezőgrafika - kezdő  felvett                    0.166667   \n                                         nem felvett                0.000000   \nelőkészítő_2022, textiltervezés          felvett                    0.250000   \n                                         nem felvett                0.000000   \nelőkészítő_2022, tárgyalkotás            felvett                    0.500000   \n                                         nem felvett                0.000000   \nelőkészítő_2022, építészet               nem felvett                0.000000   \nintenzív 2022, animáció szakirány        nem felvett                0.000000   \nintenzív 2022, formatervezés szakirány   felvett                    1.000000   \nintenzív 2022, fotográfia szakirány      felvett                    1.000000   \nintenzív 2022, rajz                      felvett                    0.500000   \n                                         nem felvett                0.000000   \nintenzív 2022, tervezőgrafika szakirány  nem felvett                0.000000   \nintenzív 2022, textil szakirány          felvett                    0.500000   \n                                         nem felvett                0.000000   \nintenzív 2023, formatervezés             felvett                    0.750000   \n                                         nem felvett                0.000000   \nintenzív 2023, média design              felvett                    0.500000   \n                                         nem felvett                0.000000   \nintenzív 2023, rajz                      nem felvett                0.000000   \nintenzív 2023, tervezőgrafika            felvett                    0.857143   \n                                         nem felvett                0.000000   \nintenzív 2023, textiltervezés            felvett                    0.666667   \n                                         nem felvett                0.000000   \nintenzív 2023, tárgyalkotás              felvett                    0.666667   \n                                         nem felvett                0.000000   \n\n                                                              jelentkezési ráta  \nkurzus azonosító                         felvételi kategória                     \nnem járt                                 felvett                       1.000000  \n                                         nem felvett                   0.000000  \n7_alkalmas_őszi_2022, 7 alkalmas textil  felvett                       0.428571  \n                                         nem felvett                   0.000000  \n7_alkalmas_őszi_2022, 7 alklamas rajz    felvett                       0.411765  \n                                         nem felvett                   0.000000  \nelőkészítő_2022, animáció                nem felvett                   0.000000  \nelőkészítő_2022, designkultúra           felvett                       0.750000  \nelőkészítő_2022, délelőtti rajz          nem felvett                   0.000000  \nelőkészítő_2022, formatervezés           felvett                       0.833333  \n                                         nem felvett                   0.000000  \nelőkészítő_2022, fotográfia              felvett                       0.714286  \n                                         nem felvett                   0.000000  \nelőkészítő_2022, média design            felvett                       0.923077  \n                                         nem felvett                   0.000000  \nelőkészítő_2022, rajzbérlet 10 alkalmas  felvett                       0.909091  \n                                         nem felvett                   0.000000  \nelőkészítő_2022, rajzbérlet 19 alkalmas  felvett                       0.684211  \n                                         nem felvett                   0.000000  \nelőkészítő_2022, tervezőgrafika - haladó felvett                       0.888889  \n                                         nem felvett                   0.000000  \nelőkészítő_2022, tervezőgrafika - kezdő  felvett                       0.400000  \n                                         nem felvett                   0.000000  \nelőkészítő_2022, textiltervezés          felvett                       0.666667  \n                                         nem felvett                   0.000000  \nelőkészítő_2022, tárgyalkotás            felvett                       0.800000  \n                                         nem felvett                   0.000000  \nelőkészítő_2022, építészet               nem felvett                   0.000000  \nintenzív 2022, animáció szakirány        nem felvett                   0.000000  \nintenzív 2022, formatervezés szakirány   felvett                       0.250000  \nintenzív 2022, fotográfia szakirány      felvett                       0.200000  \nintenzív 2022, rajz                      felvett                       0.333333  \n                                         nem felvett                   0.000000  \nintenzív 2022, tervezőgrafika szakirány  nem felvett                   0.000000  \nintenzív 2022, textil szakirány          felvett                       0.250000  \n                                         nem felvett                   0.000000  \nintenzív 2023, formatervezés             felvett                       1.000000  \n                                         nem felvett                   0.000000  \nintenzív 2023, média design              felvett                       1.000000  \n                                         nem felvett                   0.000000  \nintenzív 2023, rajz                      nem felvett                   0.000000  \nintenzív 2023, tervezőgrafika            felvett                       0.875000  \n                                         nem felvett                   0.000000  \nintenzív 2023, textiltervezés            felvett                       1.000000  \n                                         nem felvett                   0.000000  \nintenzív 2023, tárgyalkotás              felvett                       0.750000  \n                                         nem felvett                   0.000000  ",
      "text/html": "<div>\n<style scoped>\n    .dataframe tbody tr th:only-of-type {\n        vertical-align: middle;\n    }\n\n    .dataframe tbody tr th {\n        vertical-align: top;\n    }\n\n    .dataframe thead th {\n        text-align: right;\n    }\n</style>\n<table border=\"1\" class=\"dataframe\">\n  <thead>\n    <tr style=\"text-align: right;\">\n      <th></th>\n      <th></th>\n      <th>nem premomés</th>\n      <th>premomés</th>\n      <th>teljes létszám</th>\n      <th>felvételiző létszám</th>\n      <th>felvételi ráta</th>\n      <th>jelentkezési ráta</th>\n    </tr>\n    <tr>\n      <th>kurzus azonosító</th>\n      <th>felvételi kategória</th>\n      <th></th>\n      <th></th>\n      <th></th>\n      <th></th>\n      <th></th>\n      <th></th>\n    </tr>\n  </thead>\n  <tbody>\n    <tr>\n      <th rowspan=\"2\" valign=\"top\">nem járt</th>\n      <th>felvett</th>\n      <td>150.0</td>\n      <td>0.0</td>\n      <td>2034.0</td>\n      <td>2034.0</td>\n      <td>0.073746</td>\n      <td>1.000000</td>\n    </tr>\n    <tr>\n      <th>nem felvett</th>\n      <td>1884.0</td>\n      <td>0.0</td>\n      <td>2034.0</td>\n      <td>2034.0</td>\n      <td>0.000000</td>\n      <td>0.000000</td>\n    </tr>\n    <tr>\n      <th rowspan=\"2\" valign=\"top\">7_alkalmas_őszi_2022, 7 alkalmas textil</th>\n      <th>felvett</th>\n      <td>0.0</td>\n      <td>2.0</td>\n      <td>21.0</td>\n      <td>9.0</td>\n      <td>0.222222</td>\n      <td>0.428571</td>\n    </tr>\n    <tr>\n      <th>nem felvett</th>\n      <td>0.0</td>\n      <td>7.0</td>\n      <td>21.0</td>\n      <td>9.0</td>\n      <td>0.000000</td>\n      <td>0.000000</td>\n    </tr>\n    <tr>\n      <th rowspan=\"2\" valign=\"top\">7_alkalmas_őszi_2022, 7 alklamas rajz</th>\n      <th>felvett</th>\n      <td>0.0</td>\n      <td>2.0</td>\n      <td>34.0</td>\n      <td>14.0</td>\n      <td>0.142857</td>\n      <td>0.411765</td>\n    </tr>\n    <tr>\n      <th>nem felvett</th>\n      <td>0.0</td>\n      <td>12.0</td>\n      <td>34.0</td>\n      <td>14.0</td>\n      <td>0.000000</td>\n      <td>0.000000</td>\n    </tr>\n    <tr>\n      <th>előkészítő_2022, animáció</th>\n      <th>nem felvett</th>\n      <td>0.0</td>\n      <td>14.0</td>\n      <td>18.0</td>\n      <td>14.0</td>\n      <td>0.000000</td>\n      <td>0.000000</td>\n    </tr>\n    <tr>\n      <th>előkészítő_2022, designkultúra</th>\n      <th>felvett</th>\n      <td>0.0</td>\n      <td>3.0</td>\n      <td>4.0</td>\n      <td>3.0</td>\n      <td>1.000000</td>\n      <td>0.750000</td>\n    </tr>\n    <tr>\n      <th>előkészítő_2022, délelőtti rajz</th>\n      <th>nem felvett</th>\n      <td>0.0</td>\n      <td>4.0</td>\n      <td>15.0</td>\n      <td>4.0</td>\n      <td>0.000000</td>\n      <td>0.000000</td>\n    </tr>\n    <tr>\n      <th rowspan=\"2\" valign=\"top\">előkészítő_2022, formatervezés</th>\n      <th>felvett</th>\n      <td>0.0</td>\n      <td>5.0</td>\n      <td>12.0</td>\n      <td>10.0</td>\n      <td>0.500000</td>\n      <td>0.833333</td>\n    </tr>\n    <tr>\n      <th>nem felvett</th>\n      <td>0.0</td>\n      <td>5.0</td>\n      <td>12.0</td>\n      <td>10.0</td>\n      <td>0.000000</td>\n      <td>0.000000</td>\n    </tr>\n    <tr>\n      <th rowspan=\"2\" valign=\"top\">előkészítő_2022, fotográfia</th>\n      <th>felvett</th>\n      <td>0.0</td>\n      <td>2.0</td>\n      <td>7.0</td>\n      <td>5.0</td>\n      <td>0.400000</td>\n      <td>0.714286</td>\n    </tr>\n    <tr>\n      <th>nem felvett</th>\n      <td>0.0</td>\n      <td>3.0</td>\n      <td>7.0</td>\n      <td>5.0</td>\n      <td>0.000000</td>\n      <td>0.000000</td>\n    </tr>\n    <tr>\n      <th rowspan=\"2\" valign=\"top\">előkészítő_2022, média design</th>\n      <th>felvett</th>\n      <td>0.0</td>\n      <td>1.0</td>\n      <td>13.0</td>\n      <td>12.0</td>\n      <td>0.083333</td>\n      <td>0.923077</td>\n    </tr>\n    <tr>\n      <th>nem felvett</th>\n      <td>0.0</td>\n      <td>11.0</td>\n      <td>13.0</td>\n      <td>12.0</td>\n      <td>0.000000</td>\n      <td>0.000000</td>\n    </tr>\n    <tr>\n      <th rowspan=\"2\" valign=\"top\">előkészítő_2022, rajzbérlet 10 alkalmas</th>\n      <th>felvett</th>\n      <td>0.0</td>\n      <td>1.0</td>\n      <td>11.0</td>\n      <td>10.0</td>\n      <td>0.100000</td>\n      <td>0.909091</td>\n    </tr>\n    <tr>\n      <th>nem felvett</th>\n      <td>0.0</td>\n      <td>9.0</td>\n      <td>11.0</td>\n      <td>10.0</td>\n      <td>0.000000</td>\n      <td>0.000000</td>\n    </tr>\n    <tr>\n      <th rowspan=\"2\" valign=\"top\">előkészítő_2022, rajzbérlet 19 alkalmas</th>\n      <th>felvett</th>\n      <td>0.0</td>\n      <td>3.0</td>\n      <td>19.0</td>\n      <td>13.0</td>\n      <td>0.230769</td>\n      <td>0.684211</td>\n    </tr>\n    <tr>\n      <th>nem felvett</th>\n      <td>0.0</td>\n      <td>10.0</td>\n      <td>19.0</td>\n      <td>13.0</td>\n      <td>0.000000</td>\n      <td>0.000000</td>\n    </tr>\n    <tr>\n      <th rowspan=\"2\" valign=\"top\">előkészítő_2022, tervezőgrafika - haladó</th>\n      <th>felvett</th>\n      <td>0.0</td>\n      <td>6.0</td>\n      <td>9.0</td>\n      <td>8.0</td>\n      <td>0.750000</td>\n      <td>0.888889</td>\n    </tr>\n    <tr>\n      <th>nem felvett</th>\n      <td>0.0</td>\n      <td>2.0</td>\n      <td>9.0</td>\n      <td>8.0</td>\n      <td>0.000000</td>\n      <td>0.000000</td>\n    </tr>\n    <tr>\n      <th rowspan=\"2\" valign=\"top\">előkészítő_2022, tervezőgrafika - kezdő</th>\n      <th>felvett</th>\n      <td>0.0</td>\n      <td>1.0</td>\n      <td>15.0</td>\n      <td>6.0</td>\n      <td>0.166667</td>\n      <td>0.400000</td>\n    </tr>\n    <tr>\n      <th>nem felvett</th>\n      <td>0.0</td>\n      <td>5.0</td>\n      <td>15.0</td>\n      <td>6.0</td>\n      <td>0.000000</td>\n      <td>0.000000</td>\n    </tr>\n    <tr>\n      <th rowspan=\"2\" valign=\"top\">előkészítő_2022, textiltervezés</th>\n      <th>felvett</th>\n      <td>0.0</td>\n      <td>2.0</td>\n      <td>12.0</td>\n      <td>8.0</td>\n      <td>0.250000</td>\n      <td>0.666667</td>\n    </tr>\n    <tr>\n      <th>nem felvett</th>\n      <td>0.0</td>\n      <td>6.0</td>\n      <td>12.0</td>\n      <td>8.0</td>\n      <td>0.000000</td>\n      <td>0.000000</td>\n    </tr>\n    <tr>\n      <th rowspan=\"2\" valign=\"top\">előkészítő_2022, tárgyalkotás</th>\n      <th>felvett</th>\n      <td>0.0</td>\n      <td>2.0</td>\n      <td>5.0</td>\n      <td>4.0</td>\n      <td>0.500000</td>\n      <td>0.800000</td>\n    </tr>\n    <tr>\n      <th>nem felvett</th>\n      <td>0.0</td>\n      <td>2.0</td>\n      <td>5.0</td>\n      <td>4.0</td>\n      <td>0.000000</td>\n      <td>0.000000</td>\n    </tr>\n    <tr>\n      <th>előkészítő_2022, építészet</th>\n      <th>nem felvett</th>\n      <td>0.0</td>\n      <td>10.0</td>\n      <td>13.0</td>\n      <td>10.0</td>\n      <td>0.000000</td>\n      <td>0.000000</td>\n    </tr>\n    <tr>\n      <th>intenzív 2022, animáció szakirány</th>\n      <th>nem felvett</th>\n      <td>0.0</td>\n      <td>2.0</td>\n      <td>3.0</td>\n      <td>2.0</td>\n      <td>0.000000</td>\n      <td>0.000000</td>\n    </tr>\n    <tr>\n      <th>intenzív 2022, formatervezés szakirány</th>\n      <th>felvett</th>\n      <td>0.0</td>\n      <td>1.0</td>\n      <td>4.0</td>\n      <td>1.0</td>\n      <td>1.000000</td>\n      <td>0.250000</td>\n    </tr>\n    <tr>\n      <th>intenzív 2022, fotográfia szakirány</th>\n      <th>felvett</th>\n      <td>0.0</td>\n      <td>1.0</td>\n      <td>5.0</td>\n      <td>1.0</td>\n      <td>1.000000</td>\n      <td>0.200000</td>\n    </tr>\n    <tr>\n      <th rowspan=\"2\" valign=\"top\">intenzív 2022, rajz</th>\n      <th>felvett</th>\n      <td>0.0</td>\n      <td>1.0</td>\n      <td>6.0</td>\n      <td>2.0</td>\n      <td>0.500000</td>\n      <td>0.333333</td>\n    </tr>\n    <tr>\n      <th>nem felvett</th>\n      <td>0.0</td>\n      <td>1.0</td>\n      <td>6.0</td>\n      <td>2.0</td>\n      <td>0.000000</td>\n      <td>0.000000</td>\n    </tr>\n    <tr>\n      <th>intenzív 2022, tervezőgrafika szakirány</th>\n      <th>nem felvett</th>\n      <td>0.0</td>\n      <td>1.0</td>\n      <td>6.0</td>\n      <td>1.0</td>\n      <td>0.000000</td>\n      <td>0.000000</td>\n    </tr>\n    <tr>\n      <th rowspan=\"2\" valign=\"top\">intenzív 2022, textil szakirány</th>\n      <th>felvett</th>\n      <td>0.0</td>\n      <td>1.0</td>\n      <td>8.0</td>\n      <td>2.0</td>\n      <td>0.500000</td>\n      <td>0.250000</td>\n    </tr>\n    <tr>\n      <th>nem felvett</th>\n      <td>0.0</td>\n      <td>1.0</td>\n      <td>8.0</td>\n      <td>2.0</td>\n      <td>0.000000</td>\n      <td>0.000000</td>\n    </tr>\n    <tr>\n      <th rowspan=\"2\" valign=\"top\">intenzív 2023, formatervezés</th>\n      <th>felvett</th>\n      <td>0.0</td>\n      <td>6.0</td>\n      <td>8.0</td>\n      <td>8.0</td>\n      <td>0.750000</td>\n      <td>1.000000</td>\n    </tr>\n    <tr>\n      <th>nem felvett</th>\n      <td>0.0</td>\n      <td>2.0</td>\n      <td>8.0</td>\n      <td>8.0</td>\n      <td>0.000000</td>\n      <td>0.000000</td>\n    </tr>\n    <tr>\n      <th rowspan=\"2\" valign=\"top\">intenzív 2023, média design</th>\n      <th>felvett</th>\n      <td>0.0</td>\n      <td>2.0</td>\n      <td>4.0</td>\n      <td>4.0</td>\n      <td>0.500000</td>\n      <td>1.000000</td>\n    </tr>\n    <tr>\n      <th>nem felvett</th>\n      <td>0.0</td>\n      <td>2.0</td>\n      <td>4.0</td>\n      <td>4.0</td>\n      <td>0.000000</td>\n      <td>0.000000</td>\n    </tr>\n    <tr>\n      <th>intenzív 2023, rajz</th>\n      <th>nem felvett</th>\n      <td>0.0</td>\n      <td>1.0</td>\n      <td>9.0</td>\n      <td>1.0</td>\n      <td>0.000000</td>\n      <td>0.000000</td>\n    </tr>\n    <tr>\n      <th rowspan=\"2\" valign=\"top\">intenzív 2023, tervezőgrafika</th>\n      <th>felvett</th>\n      <td>0.0</td>\n      <td>6.0</td>\n      <td>8.0</td>\n      <td>7.0</td>\n      <td>0.857143</td>\n      <td>0.875000</td>\n    </tr>\n    <tr>\n      <th>nem felvett</th>\n      <td>0.0</td>\n      <td>1.0</td>\n      <td>8.0</td>\n      <td>7.0</td>\n      <td>0.000000</td>\n      <td>0.000000</td>\n    </tr>\n    <tr>\n      <th rowspan=\"2\" valign=\"top\">intenzív 2023, textiltervezés</th>\n      <th>felvett</th>\n      <td>0.0</td>\n      <td>2.0</td>\n      <td>3.0</td>\n      <td>3.0</td>\n      <td>0.666667</td>\n      <td>1.000000</td>\n    </tr>\n    <tr>\n      <th>nem felvett</th>\n      <td>0.0</td>\n      <td>1.0</td>\n      <td>3.0</td>\n      <td>3.0</td>\n      <td>0.000000</td>\n      <td>0.000000</td>\n    </tr>\n    <tr>\n      <th rowspan=\"2\" valign=\"top\">intenzív 2023, tárgyalkotás</th>\n      <th>felvett</th>\n      <td>0.0</td>\n      <td>2.0</td>\n      <td>4.0</td>\n      <td>3.0</td>\n      <td>0.666667</td>\n      <td>0.750000</td>\n    </tr>\n    <tr>\n      <th>nem felvett</th>\n      <td>0.0</td>\n      <td>1.0</td>\n      <td>4.0</td>\n      <td>3.0</td>\n      <td>0.000000</td>\n      <td>0.000000</td>\n    </tr>\n  </tbody>\n</table>\n</div>"
     },
     "execution_count": 136,
     "metadata": {},
     "output_type": "execute_result"
    }
   ],
   "source": [
    "gen_application_admission_dfs(df)"
   ],
   "metadata": {
    "collapsed": false,
    "ExecuteTime": {
     "end_time": "2023-10-11T08:34:51.414575300Z",
     "start_time": "2023-10-11T08:34:51.151451400Z"
    }
   }
  },
  {
   "cell_type": "code",
   "execution_count": 149,
   "outputs": [],
   "source": [
    "def plot_barchart(prepcourse_df, coursevar_name='kurzus neve', save_dir='results/plots',\n",
    "                  filename='felveteli_rata_plot.png'):\n",
    "\n",
    "    data = prepcourse_df.reset_index().groupby(coursevar_name)['felvételi ráta'].max()\n",
    "    data.sort_values(ascending=True, inplace=True)\n",
    "\n",
    "    # Plot the horizontal bar graph\n",
    "    ax = data.plot(kind='barh', align='center', color='C0')\n",
    "\n",
    "    # Highlight zero-length bars in red\n",
    "    for idx, value in enumerate(data):\n",
    "        if value == 0:\n",
    "            ax.get_children()[idx].set_color('red')\n",
    "            ax.get_yticklabels()[idx].set_color('red')\n",
    "        if value == 1:\n",
    "            ax.get_children()[idx].set_color('green')\n",
    "            ax.get_yticklabels()[idx].set_color('green')\n",
    "        if data.index[idx] == 'nem járt':\n",
    "            ax.get_children()[idx].set_color('yellow')\n",
    "            ax.get_yticklabels()[idx].set_color('yellow')\n",
    "\n",
    "    # Adjust x-axis limit for better visibility\n",
    "    ax.set_xlim(0, 1)\n",
    "\n",
    "    # Set smaller font size for y-axis labels\n",
    "    ax.set_yticklabels(data.index, fontsize=8)\n",
    "\n",
    "    # Make the y-axis label fancier by rotating it\n",
    "    ax.set_ylabel(data.index.name, rotation=90, labelpad=20, fontsize=12)\n",
    "\n",
    "    ax.set_title(\"Felvételi arány\")\n",
    "\n",
    "    plt.ioff()\n",
    "    plt.figure(dpi=300)\n",
    "    # Show the plot\n",
    "    # Ensure the save directory exists, if not create it\n",
    "    if not os.path.exists(save_dir):\n",
    "        os.makedirs(save_dir)\n",
    "\n",
    "    # Save the plot as an HTML file\n",
    "    file_path = os.path.join(save_dir, filename)\n",
    "\n",
    "    plt.savefig(file_path, dpi=300, pad_inches=0.1)\n",
    "    plt.close()\n",
    "    #plt.show()\n",
    "\n",
    "#\n",
    "# ax = data.plot(kind='barh', align='center')\n",
    "#\n",
    "# # Adjust y-axis limit for better visibility\n",
    "# ax.set_xlim(0, 1.05)\n",
    "#\n",
    "# # Set smaller font and rotation for x-axis labels\n",
    "# ax.set_yticklabels(data.index, fontsize=8)\n",
    "# ax.axvline(1.0, color='C0', linestyle='--')\n",
    "# ax.set_ylabel(data.index.name, rotation=45, labelpad=20, fontsize=12)\n",
    "#\n",
    "# plt.show()"
   ],
   "metadata": {
    "collapsed": false,
    "ExecuteTime": {
     "end_time": "2023-10-11T08:47:34.267865800Z",
     "start_time": "2023-10-11T08:47:34.094852900Z"
    }
   }
  },
  {
   "cell_type": "code",
   "execution_count": 166,
   "outputs": [],
   "source": [
    "def interactive_scatter(df, coursevar_name='kurzus neve', save_dir='results/plots',\n",
    "                        filename=\"interactive_scatter_with_line.html\", analysis_type='felveteli'):\n",
    "    rate = {'felveteli': 'felvételi ráta', 'jelentkezo': 'jelentkezési ráta'}[analysis_type]\n",
    "    number_of_personnel = {'felveteli': 'felvételiző létszám', 'jelentkezo': 'teljes létszám'}[analysis_type]\n",
    "    title = {'felveteli': 'Felvételi arányszámok', 'jelentkezo': 'Jelentkezési arányszámok'}[analysis_type]\n",
    "    student_type = {'felveteli':'Felvett hallgató', 'jelentkezo':'Jelentkező hallgató'}[analysis_type]\n",
    "\n",
    "    df = pd.merge(df.reset_index().groupby(coursevar_name)[rate].max(), df.reset_index().groupby(coursevar_name)[\n",
    "        number_of_personnel].max(), left_index=True, right_index=True).reset_index()\n",
    "\n",
    "    df[student_type] = df[rate] * df[number_of_personnel]\n",
    "\n",
    "    # Ensure 'felvételi ráta' is in a proper numeric format\n",
    "    df[rate] = df[rate].astype(str).apply(lambda x: x.replace(',', '.')).astype(float)\n",
    "\n",
    "    # Create color conditions\n",
    "    conditions = [\n",
    "        (df[rate] == 1.0),\n",
    "        (df[rate] == 0.0)\n",
    "\n",
    "    ]\n",
    "\n",
    "    # Color choices for each condition\n",
    "    choices = ['green', 'red']\n",
    "\n",
    "    # Create a new 'colors' column in the DataFrame\n",
    "    df['colors'] = np.select(conditions, choices, default='blue')\n",
    "\n",
    "    # Extract \"nem járt\" rate\n",
    "    nem_jart_rate = df[df[coursevar_name] == 'nem járt'][rate].values[0]\n",
    "\n",
    "    # Remove \"nem járt\" from the data for the scatter plot\n",
    "    df = df[df[coursevar_name] != 'nem járt']\n",
    "\n",
    "    # Create a scatter plot using plotly express\n",
    "    fig = px.scatter(df,\n",
    "                     x=number_of_personnel,\n",
    "                     y=rate,\n",
    "                     color='colors',\n",
    "                     hover_name=coursevar_name,\n",
    "                     hover_data=[student_type],\n",
    "                     color_discrete_map='identity',\n",
    "                     title=title,\n",
    "                     labels={number_of_personnel: number_of_personnel.capitalize(),\n",
    "                             rate: rate.capitalize()}\n",
    "                     )\n",
    "\n",
    "    if analysis_type == 'felveteli':\n",
    "        # Adding a horizontal line for \"nem járt\"\n",
    "        fig.add_trace(go.Scatter(x=[df[number_of_personnel].min(), df[number_of_personnel].max()],\n",
    "                                 y=[nem_jart_rate, nem_jart_rate],\n",
    "                                 mode='lines',\n",
    "                                 line=dict(color='yellow', width=2),\n",
    "                                 name='nem járt',\n",
    "                                 hoverinfo='name+y'\n",
    "                                 ))\n",
    "\n",
    "    # Ensure the save directory exists, if not create it\n",
    "    if not os.path.exists(save_dir):\n",
    "        os.makedirs(save_dir)\n",
    "\n",
    "    # Save the plot as an HTML file\n",
    "    file_path = os.path.join(save_dir, filename)\n",
    "    fig.write_html(file_path)\n",
    "\n",
    "    # Display the interactive plot\n",
    "    fig.show()\n",
    "\n",
    "# Example usage:\n",
    "# Assuming `df` is your DataFrame containing the data\n",
    "# interactive_scatter(df, 'results/plots')\n"
   ],
   "metadata": {
    "collapsed": false,
    "ExecuteTime": {
     "end_time": "2023-10-11T09:03:37.502378300Z",
     "start_time": "2023-10-11T09:03:37.346688100Z"
    }
   }
  },
  {
   "cell_type": "code",
   "execution_count": 162,
   "outputs": [],
   "source": [
    "def analize_acceptance_ratio(dataframe, save_dir='prezi/plots'):\n",
    "    for analysis_type in ['felveteli', 'jelentkezo']:\n",
    "        for coursevar_name in ['kurzus neve', 'kurzus azonosító']:\n",
    "            print({'kurzus neve': 'Kurzus típusok szerint (harmonizáltan)',\n",
    "                   'kurzus azonosító': 'Kurzusok szerint (nem harmonizáltan)'}[coursevar_name])\n",
    "            course_df = gen_application_admission_dfs(dataframe, coursevar_name=coursevar_name)\n",
    "            course_df.to_excel(f'results/felvételi arányok {coursevar_name} szerint.xlsx')\n",
    "            plot_barchart(course_df, coursevar_name=coursevar_name,\n",
    "                          filename=f'felveteli_rata_{coursevar_name.replace(\" \", \"_\")}_barplot.png', save_dir=save_dir)\n",
    "            interactive_scatter(course_df, coursevar_name=coursevar_name,\n",
    "                                filename=f'{analysis_type}_rata_{coursevar_name.replace(\" \", \"_\")}_interactive_plot.html',\n",
    "                                save_dir=save_dir, analysis_type=analysis_type)"
   ],
   "metadata": {
    "collapsed": false,
    "ExecuteTime": {
     "end_time": "2023-10-11T09:00:40.577825600Z",
     "start_time": "2023-10-11T09:00:40.452313Z"
    }
   }
  },
  {
   "cell_type": "code",
   "execution_count": 127,
   "outputs": [
    {
     "data": {
      "text/plain": "                                                              nem premomés  \\\nkurzus azonosító                         felvételi kategória                 \nnem járt                                 felvett                     150.0   \n                                         nem felvett                1884.0   \n7_alkalmas_őszi_2022, 7 alkalmas textil  felvett                       0.0   \n                                         nem felvett                   0.0   \n7_alkalmas_őszi_2022, 7 alklamas rajz    felvett                       0.0   \n                                         nem felvett                   0.0   \nelőkészítő_2022, animáció                nem felvett                   0.0   \nelőkészítő_2022, designkultúra           felvett                       0.0   \nelőkészítő_2022, délelőtti rajz          nem felvett                   0.0   \nelőkészítő_2022, formatervezés           felvett                       0.0   \n                                         nem felvett                   0.0   \nelőkészítő_2022, fotográfia              felvett                       0.0   \n                                         nem felvett                   0.0   \nelőkészítő_2022, média design            felvett                       0.0   \n                                         nem felvett                   0.0   \nelőkészítő_2022, rajzbérlet 10 alkalmas  felvett                       0.0   \n                                         nem felvett                   0.0   \nelőkészítő_2022, rajzbérlet 19 alkalmas  felvett                       0.0   \n                                         nem felvett                   0.0   \nelőkészítő_2022, tervezőgrafika - haladó felvett                       0.0   \n                                         nem felvett                   0.0   \nelőkészítő_2022, tervezőgrafika - kezdő  felvett                       0.0   \n                                         nem felvett                   0.0   \nelőkészítő_2022, textiltervezés          felvett                       0.0   \n                                         nem felvett                   0.0   \nelőkészítő_2022, tárgyalkotás            felvett                       0.0   \n                                         nem felvett                   0.0   \nelőkészítő_2022, építészet               nem felvett                   0.0   \nintenzív 2022, animáció szakirány        nem felvett                   0.0   \nintenzív 2022, formatervezés szakirány   felvett                       0.0   \nintenzív 2022, fotográfia szakirány      felvett                       0.0   \nintenzív 2022, rajz                      felvett                       0.0   \n                                         nem felvett                   0.0   \nintenzív 2022, tervezőgrafika szakirány  nem felvett                   0.0   \nintenzív 2022, textil szakirány          felvett                       0.0   \n                                         nem felvett                   0.0   \nintenzív 2023, formatervezés             felvett                       0.0   \n                                         nem felvett                   0.0   \nintenzív 2023, média design              felvett                       0.0   \n                                         nem felvett                   0.0   \nintenzív 2023, rajz                      nem felvett                   0.0   \nintenzív 2023, tervezőgrafika            felvett                       0.0   \n                                         nem felvett                   0.0   \nintenzív 2023, textiltervezés            felvett                       0.0   \n                                         nem felvett                   0.0   \nintenzív 2023, tárgyalkotás              felvett                       0.0   \n                                         nem felvett                   0.0   \n\n                                                              premomés  \\\nkurzus azonosító                         felvételi kategória             \nnem járt                                 felvett                   0.0   \n                                         nem felvett               0.0   \n7_alkalmas_őszi_2022, 7 alkalmas textil  felvett                   2.0   \n                                         nem felvett               7.0   \n7_alkalmas_őszi_2022, 7 alklamas rajz    felvett                   2.0   \n                                         nem felvett              12.0   \nelőkészítő_2022, animáció                nem felvett              14.0   \nelőkészítő_2022, designkultúra           felvett                   3.0   \nelőkészítő_2022, délelőtti rajz          nem felvett               4.0   \nelőkészítő_2022, formatervezés           felvett                   5.0   \n                                         nem felvett               5.0   \nelőkészítő_2022, fotográfia              felvett                   2.0   \n                                         nem felvett               3.0   \nelőkészítő_2022, média design            felvett                   1.0   \n                                         nem felvett              11.0   \nelőkészítő_2022, rajzbérlet 10 alkalmas  felvett                   1.0   \n                                         nem felvett               9.0   \nelőkészítő_2022, rajzbérlet 19 alkalmas  felvett                   3.0   \n                                         nem felvett              10.0   \nelőkészítő_2022, tervezőgrafika - haladó felvett                   6.0   \n                                         nem felvett               2.0   \nelőkészítő_2022, tervezőgrafika - kezdő  felvett                   1.0   \n                                         nem felvett               5.0   \nelőkészítő_2022, textiltervezés          felvett                   2.0   \n                                         nem felvett               6.0   \nelőkészítő_2022, tárgyalkotás            felvett                   2.0   \n                                         nem felvett               2.0   \nelőkészítő_2022, építészet               nem felvett              10.0   \nintenzív 2022, animáció szakirány        nem felvett               2.0   \nintenzív 2022, formatervezés szakirány   felvett                   1.0   \nintenzív 2022, fotográfia szakirány      felvett                   1.0   \nintenzív 2022, rajz                      felvett                   1.0   \n                                         nem felvett               1.0   \nintenzív 2022, tervezőgrafika szakirány  nem felvett               1.0   \nintenzív 2022, textil szakirány          felvett                   1.0   \n                                         nem felvett               1.0   \nintenzív 2023, formatervezés             felvett                   6.0   \n                                         nem felvett               2.0   \nintenzív 2023, média design              felvett                   2.0   \n                                         nem felvett               2.0   \nintenzív 2023, rajz                      nem felvett               1.0   \nintenzív 2023, tervezőgrafika            felvett                   6.0   \n                                         nem felvett               1.0   \nintenzív 2023, textiltervezés            felvett                   2.0   \n                                         nem felvett               1.0   \nintenzív 2023, tárgyalkotás              felvett                   2.0   \n                                         nem felvett               1.0   \n\n                                                              teljes létszám  \\\nkurzus azonosító                         felvételi kategória                   \nnem járt                                 felvett                      2034.0   \n                                         nem felvett                  2034.0   \n7_alkalmas_őszi_2022, 7 alkalmas textil  felvett                        21.0   \n                                         nem felvett                    21.0   \n7_alkalmas_őszi_2022, 7 alklamas rajz    felvett                        34.0   \n                                         nem felvett                    34.0   \nelőkészítő_2022, animáció                nem felvett                    18.0   \nelőkészítő_2022, designkultúra           felvett                         4.0   \nelőkészítő_2022, délelőtti rajz          nem felvett                    15.0   \nelőkészítő_2022, formatervezés           felvett                        12.0   \n                                         nem felvett                    12.0   \nelőkészítő_2022, fotográfia              felvett                         7.0   \n                                         nem felvett                     7.0   \nelőkészítő_2022, média design            felvett                        13.0   \n                                         nem felvett                    13.0   \nelőkészítő_2022, rajzbérlet 10 alkalmas  felvett                        11.0   \n                                         nem felvett                    11.0   \nelőkészítő_2022, rajzbérlet 19 alkalmas  felvett                        19.0   \n                                         nem felvett                    19.0   \nelőkészítő_2022, tervezőgrafika - haladó felvett                         9.0   \n                                         nem felvett                     9.0   \nelőkészítő_2022, tervezőgrafika - kezdő  felvett                        15.0   \n                                         nem felvett                    15.0   \nelőkészítő_2022, textiltervezés          felvett                        12.0   \n                                         nem felvett                    12.0   \nelőkészítő_2022, tárgyalkotás            felvett                         5.0   \n                                         nem felvett                     5.0   \nelőkészítő_2022, építészet               nem felvett                    13.0   \nintenzív 2022, animáció szakirány        nem felvett                     3.0   \nintenzív 2022, formatervezés szakirány   felvett                         4.0   \nintenzív 2022, fotográfia szakirány      felvett                         5.0   \nintenzív 2022, rajz                      felvett                         6.0   \n                                         nem felvett                     6.0   \nintenzív 2022, tervezőgrafika szakirány  nem felvett                     6.0   \nintenzív 2022, textil szakirány          felvett                         8.0   \n                                         nem felvett                     8.0   \nintenzív 2023, formatervezés             felvett                         8.0   \n                                         nem felvett                     8.0   \nintenzív 2023, média design              felvett                         4.0   \n                                         nem felvett                     4.0   \nintenzív 2023, rajz                      nem felvett                     9.0   \nintenzív 2023, tervezőgrafika            felvett                         8.0   \n                                         nem felvett                     8.0   \nintenzív 2023, textiltervezés            felvett                         3.0   \n                                         nem felvett                     3.0   \nintenzív 2023, tárgyalkotás              felvett                         4.0   \n                                         nem felvett                     4.0   \n\n                                                              felvételiző létszám  \\\nkurzus azonosító                         felvételi kategória                        \nnem járt                                 felvett                           2034.0   \n                                         nem felvett                       2034.0   \n7_alkalmas_őszi_2022, 7 alkalmas textil  felvett                              9.0   \n                                         nem felvett                          9.0   \n7_alkalmas_őszi_2022, 7 alklamas rajz    felvett                             14.0   \n                                         nem felvett                         14.0   \nelőkészítő_2022, animáció                nem felvett                         14.0   \nelőkészítő_2022, designkultúra           felvett                              3.0   \nelőkészítő_2022, délelőtti rajz          nem felvett                          4.0   \nelőkészítő_2022, formatervezés           felvett                             10.0   \n                                         nem felvett                         10.0   \nelőkészítő_2022, fotográfia              felvett                              5.0   \n                                         nem felvett                          5.0   \nelőkészítő_2022, média design            felvett                             12.0   \n                                         nem felvett                         12.0   \nelőkészítő_2022, rajzbérlet 10 alkalmas  felvett                             10.0   \n                                         nem felvett                         10.0   \nelőkészítő_2022, rajzbérlet 19 alkalmas  felvett                             13.0   \n                                         nem felvett                         13.0   \nelőkészítő_2022, tervezőgrafika - haladó felvett                              8.0   \n                                         nem felvett                          8.0   \nelőkészítő_2022, tervezőgrafika - kezdő  felvett                              6.0   \n                                         nem felvett                          6.0   \nelőkészítő_2022, textiltervezés          felvett                              8.0   \n                                         nem felvett                          8.0   \nelőkészítő_2022, tárgyalkotás            felvett                              4.0   \n                                         nem felvett                          4.0   \nelőkészítő_2022, építészet               nem felvett                         10.0   \nintenzív 2022, animáció szakirány        nem felvett                          2.0   \nintenzív 2022, formatervezés szakirány   felvett                              1.0   \nintenzív 2022, fotográfia szakirány      felvett                              1.0   \nintenzív 2022, rajz                      felvett                              2.0   \n                                         nem felvett                          2.0   \nintenzív 2022, tervezőgrafika szakirány  nem felvett                          1.0   \nintenzív 2022, textil szakirány          felvett                              2.0   \n                                         nem felvett                          2.0   \nintenzív 2023, formatervezés             felvett                              8.0   \n                                         nem felvett                          8.0   \nintenzív 2023, média design              felvett                              4.0   \n                                         nem felvett                          4.0   \nintenzív 2023, rajz                      nem felvett                          1.0   \nintenzív 2023, tervezőgrafika            felvett                              7.0   \n                                         nem felvett                          7.0   \nintenzív 2023, textiltervezés            felvett                              3.0   \n                                         nem felvett                          3.0   \nintenzív 2023, tárgyalkotás              felvett                              3.0   \n                                         nem felvett                          3.0   \n\n                                                              felvételi ráta  \nkurzus azonosító                         felvételi kategória                  \nnem járt                                 felvett                    0.073746  \n                                         nem felvett                0.000000  \n7_alkalmas_őszi_2022, 7 alkalmas textil  felvett                    0.222222  \n                                         nem felvett                0.000000  \n7_alkalmas_őszi_2022, 7 alklamas rajz    felvett                    0.142857  \n                                         nem felvett                0.000000  \nelőkészítő_2022, animáció                nem felvett                0.000000  \nelőkészítő_2022, designkultúra           felvett                    1.000000  \nelőkészítő_2022, délelőtti rajz          nem felvett                0.000000  \nelőkészítő_2022, formatervezés           felvett                    0.500000  \n                                         nem felvett                0.000000  \nelőkészítő_2022, fotográfia              felvett                    0.400000  \n                                         nem felvett                0.000000  \nelőkészítő_2022, média design            felvett                    0.083333  \n                                         nem felvett                0.000000  \nelőkészítő_2022, rajzbérlet 10 alkalmas  felvett                    0.100000  \n                                         nem felvett                0.000000  \nelőkészítő_2022, rajzbérlet 19 alkalmas  felvett                    0.230769  \n                                         nem felvett                0.000000  \nelőkészítő_2022, tervezőgrafika - haladó felvett                    0.750000  \n                                         nem felvett                0.000000  \nelőkészítő_2022, tervezőgrafika - kezdő  felvett                    0.166667  \n                                         nem felvett                0.000000  \nelőkészítő_2022, textiltervezés          felvett                    0.250000  \n                                         nem felvett                0.000000  \nelőkészítő_2022, tárgyalkotás            felvett                    0.500000  \n                                         nem felvett                0.000000  \nelőkészítő_2022, építészet               nem felvett                0.000000  \nintenzív 2022, animáció szakirány        nem felvett                0.000000  \nintenzív 2022, formatervezés szakirány   felvett                    1.000000  \nintenzív 2022, fotográfia szakirány      felvett                    1.000000  \nintenzív 2022, rajz                      felvett                    0.500000  \n                                         nem felvett                0.000000  \nintenzív 2022, tervezőgrafika szakirány  nem felvett                0.000000  \nintenzív 2022, textil szakirány          felvett                    0.500000  \n                                         nem felvett                0.000000  \nintenzív 2023, formatervezés             felvett                    0.750000  \n                                         nem felvett                0.000000  \nintenzív 2023, média design              felvett                    0.500000  \n                                         nem felvett                0.000000  \nintenzív 2023, rajz                      nem felvett                0.000000  \nintenzív 2023, tervezőgrafika            felvett                    0.857143  \n                                         nem felvett                0.000000  \nintenzív 2023, textiltervezés            felvett                    0.666667  \n                                         nem felvett                0.000000  \nintenzív 2023, tárgyalkotás              felvett                    0.666667  \n                                         nem felvett                0.000000  ",
      "text/html": "<div>\n<style scoped>\n    .dataframe tbody tr th:only-of-type {\n        vertical-align: middle;\n    }\n\n    .dataframe tbody tr th {\n        vertical-align: top;\n    }\n\n    .dataframe thead th {\n        text-align: right;\n    }\n</style>\n<table border=\"1\" class=\"dataframe\">\n  <thead>\n    <tr style=\"text-align: right;\">\n      <th></th>\n      <th></th>\n      <th>nem premomés</th>\n      <th>premomés</th>\n      <th>teljes létszám</th>\n      <th>felvételiző létszám</th>\n      <th>felvételi ráta</th>\n    </tr>\n    <tr>\n      <th>kurzus azonosító</th>\n      <th>felvételi kategória</th>\n      <th></th>\n      <th></th>\n      <th></th>\n      <th></th>\n      <th></th>\n    </tr>\n  </thead>\n  <tbody>\n    <tr>\n      <th rowspan=\"2\" valign=\"top\">nem járt</th>\n      <th>felvett</th>\n      <td>150.0</td>\n      <td>0.0</td>\n      <td>2034.0</td>\n      <td>2034.0</td>\n      <td>0.073746</td>\n    </tr>\n    <tr>\n      <th>nem felvett</th>\n      <td>1884.0</td>\n      <td>0.0</td>\n      <td>2034.0</td>\n      <td>2034.0</td>\n      <td>0.000000</td>\n    </tr>\n    <tr>\n      <th rowspan=\"2\" valign=\"top\">7_alkalmas_őszi_2022, 7 alkalmas textil</th>\n      <th>felvett</th>\n      <td>0.0</td>\n      <td>2.0</td>\n      <td>21.0</td>\n      <td>9.0</td>\n      <td>0.222222</td>\n    </tr>\n    <tr>\n      <th>nem felvett</th>\n      <td>0.0</td>\n      <td>7.0</td>\n      <td>21.0</td>\n      <td>9.0</td>\n      <td>0.000000</td>\n    </tr>\n    <tr>\n      <th rowspan=\"2\" valign=\"top\">7_alkalmas_őszi_2022, 7 alklamas rajz</th>\n      <th>felvett</th>\n      <td>0.0</td>\n      <td>2.0</td>\n      <td>34.0</td>\n      <td>14.0</td>\n      <td>0.142857</td>\n    </tr>\n    <tr>\n      <th>nem felvett</th>\n      <td>0.0</td>\n      <td>12.0</td>\n      <td>34.0</td>\n      <td>14.0</td>\n      <td>0.000000</td>\n    </tr>\n    <tr>\n      <th>előkészítő_2022, animáció</th>\n      <th>nem felvett</th>\n      <td>0.0</td>\n      <td>14.0</td>\n      <td>18.0</td>\n      <td>14.0</td>\n      <td>0.000000</td>\n    </tr>\n    <tr>\n      <th>előkészítő_2022, designkultúra</th>\n      <th>felvett</th>\n      <td>0.0</td>\n      <td>3.0</td>\n      <td>4.0</td>\n      <td>3.0</td>\n      <td>1.000000</td>\n    </tr>\n    <tr>\n      <th>előkészítő_2022, délelőtti rajz</th>\n      <th>nem felvett</th>\n      <td>0.0</td>\n      <td>4.0</td>\n      <td>15.0</td>\n      <td>4.0</td>\n      <td>0.000000</td>\n    </tr>\n    <tr>\n      <th rowspan=\"2\" valign=\"top\">előkészítő_2022, formatervezés</th>\n      <th>felvett</th>\n      <td>0.0</td>\n      <td>5.0</td>\n      <td>12.0</td>\n      <td>10.0</td>\n      <td>0.500000</td>\n    </tr>\n    <tr>\n      <th>nem felvett</th>\n      <td>0.0</td>\n      <td>5.0</td>\n      <td>12.0</td>\n      <td>10.0</td>\n      <td>0.000000</td>\n    </tr>\n    <tr>\n      <th rowspan=\"2\" valign=\"top\">előkészítő_2022, fotográfia</th>\n      <th>felvett</th>\n      <td>0.0</td>\n      <td>2.0</td>\n      <td>7.0</td>\n      <td>5.0</td>\n      <td>0.400000</td>\n    </tr>\n    <tr>\n      <th>nem felvett</th>\n      <td>0.0</td>\n      <td>3.0</td>\n      <td>7.0</td>\n      <td>5.0</td>\n      <td>0.000000</td>\n    </tr>\n    <tr>\n      <th rowspan=\"2\" valign=\"top\">előkészítő_2022, média design</th>\n      <th>felvett</th>\n      <td>0.0</td>\n      <td>1.0</td>\n      <td>13.0</td>\n      <td>12.0</td>\n      <td>0.083333</td>\n    </tr>\n    <tr>\n      <th>nem felvett</th>\n      <td>0.0</td>\n      <td>11.0</td>\n      <td>13.0</td>\n      <td>12.0</td>\n      <td>0.000000</td>\n    </tr>\n    <tr>\n      <th rowspan=\"2\" valign=\"top\">előkészítő_2022, rajzbérlet 10 alkalmas</th>\n      <th>felvett</th>\n      <td>0.0</td>\n      <td>1.0</td>\n      <td>11.0</td>\n      <td>10.0</td>\n      <td>0.100000</td>\n    </tr>\n    <tr>\n      <th>nem felvett</th>\n      <td>0.0</td>\n      <td>9.0</td>\n      <td>11.0</td>\n      <td>10.0</td>\n      <td>0.000000</td>\n    </tr>\n    <tr>\n      <th rowspan=\"2\" valign=\"top\">előkészítő_2022, rajzbérlet 19 alkalmas</th>\n      <th>felvett</th>\n      <td>0.0</td>\n      <td>3.0</td>\n      <td>19.0</td>\n      <td>13.0</td>\n      <td>0.230769</td>\n    </tr>\n    <tr>\n      <th>nem felvett</th>\n      <td>0.0</td>\n      <td>10.0</td>\n      <td>19.0</td>\n      <td>13.0</td>\n      <td>0.000000</td>\n    </tr>\n    <tr>\n      <th rowspan=\"2\" valign=\"top\">előkészítő_2022, tervezőgrafika - haladó</th>\n      <th>felvett</th>\n      <td>0.0</td>\n      <td>6.0</td>\n      <td>9.0</td>\n      <td>8.0</td>\n      <td>0.750000</td>\n    </tr>\n    <tr>\n      <th>nem felvett</th>\n      <td>0.0</td>\n      <td>2.0</td>\n      <td>9.0</td>\n      <td>8.0</td>\n      <td>0.000000</td>\n    </tr>\n    <tr>\n      <th rowspan=\"2\" valign=\"top\">előkészítő_2022, tervezőgrafika - kezdő</th>\n      <th>felvett</th>\n      <td>0.0</td>\n      <td>1.0</td>\n      <td>15.0</td>\n      <td>6.0</td>\n      <td>0.166667</td>\n    </tr>\n    <tr>\n      <th>nem felvett</th>\n      <td>0.0</td>\n      <td>5.0</td>\n      <td>15.0</td>\n      <td>6.0</td>\n      <td>0.000000</td>\n    </tr>\n    <tr>\n      <th rowspan=\"2\" valign=\"top\">előkészítő_2022, textiltervezés</th>\n      <th>felvett</th>\n      <td>0.0</td>\n      <td>2.0</td>\n      <td>12.0</td>\n      <td>8.0</td>\n      <td>0.250000</td>\n    </tr>\n    <tr>\n      <th>nem felvett</th>\n      <td>0.0</td>\n      <td>6.0</td>\n      <td>12.0</td>\n      <td>8.0</td>\n      <td>0.000000</td>\n    </tr>\n    <tr>\n      <th rowspan=\"2\" valign=\"top\">előkészítő_2022, tárgyalkotás</th>\n      <th>felvett</th>\n      <td>0.0</td>\n      <td>2.0</td>\n      <td>5.0</td>\n      <td>4.0</td>\n      <td>0.500000</td>\n    </tr>\n    <tr>\n      <th>nem felvett</th>\n      <td>0.0</td>\n      <td>2.0</td>\n      <td>5.0</td>\n      <td>4.0</td>\n      <td>0.000000</td>\n    </tr>\n    <tr>\n      <th>előkészítő_2022, építészet</th>\n      <th>nem felvett</th>\n      <td>0.0</td>\n      <td>10.0</td>\n      <td>13.0</td>\n      <td>10.0</td>\n      <td>0.000000</td>\n    </tr>\n    <tr>\n      <th>intenzív 2022, animáció szakirány</th>\n      <th>nem felvett</th>\n      <td>0.0</td>\n      <td>2.0</td>\n      <td>3.0</td>\n      <td>2.0</td>\n      <td>0.000000</td>\n    </tr>\n    <tr>\n      <th>intenzív 2022, formatervezés szakirány</th>\n      <th>felvett</th>\n      <td>0.0</td>\n      <td>1.0</td>\n      <td>4.0</td>\n      <td>1.0</td>\n      <td>1.000000</td>\n    </tr>\n    <tr>\n      <th>intenzív 2022, fotográfia szakirány</th>\n      <th>felvett</th>\n      <td>0.0</td>\n      <td>1.0</td>\n      <td>5.0</td>\n      <td>1.0</td>\n      <td>1.000000</td>\n    </tr>\n    <tr>\n      <th rowspan=\"2\" valign=\"top\">intenzív 2022, rajz</th>\n      <th>felvett</th>\n      <td>0.0</td>\n      <td>1.0</td>\n      <td>6.0</td>\n      <td>2.0</td>\n      <td>0.500000</td>\n    </tr>\n    <tr>\n      <th>nem felvett</th>\n      <td>0.0</td>\n      <td>1.0</td>\n      <td>6.0</td>\n      <td>2.0</td>\n      <td>0.000000</td>\n    </tr>\n    <tr>\n      <th>intenzív 2022, tervezőgrafika szakirány</th>\n      <th>nem felvett</th>\n      <td>0.0</td>\n      <td>1.0</td>\n      <td>6.0</td>\n      <td>1.0</td>\n      <td>0.000000</td>\n    </tr>\n    <tr>\n      <th rowspan=\"2\" valign=\"top\">intenzív 2022, textil szakirány</th>\n      <th>felvett</th>\n      <td>0.0</td>\n      <td>1.0</td>\n      <td>8.0</td>\n      <td>2.0</td>\n      <td>0.500000</td>\n    </tr>\n    <tr>\n      <th>nem felvett</th>\n      <td>0.0</td>\n      <td>1.0</td>\n      <td>8.0</td>\n      <td>2.0</td>\n      <td>0.000000</td>\n    </tr>\n    <tr>\n      <th rowspan=\"2\" valign=\"top\">intenzív 2023, formatervezés</th>\n      <th>felvett</th>\n      <td>0.0</td>\n      <td>6.0</td>\n      <td>8.0</td>\n      <td>8.0</td>\n      <td>0.750000</td>\n    </tr>\n    <tr>\n      <th>nem felvett</th>\n      <td>0.0</td>\n      <td>2.0</td>\n      <td>8.0</td>\n      <td>8.0</td>\n      <td>0.000000</td>\n    </tr>\n    <tr>\n      <th rowspan=\"2\" valign=\"top\">intenzív 2023, média design</th>\n      <th>felvett</th>\n      <td>0.0</td>\n      <td>2.0</td>\n      <td>4.0</td>\n      <td>4.0</td>\n      <td>0.500000</td>\n    </tr>\n    <tr>\n      <th>nem felvett</th>\n      <td>0.0</td>\n      <td>2.0</td>\n      <td>4.0</td>\n      <td>4.0</td>\n      <td>0.000000</td>\n    </tr>\n    <tr>\n      <th>intenzív 2023, rajz</th>\n      <th>nem felvett</th>\n      <td>0.0</td>\n      <td>1.0</td>\n      <td>9.0</td>\n      <td>1.0</td>\n      <td>0.000000</td>\n    </tr>\n    <tr>\n      <th rowspan=\"2\" valign=\"top\">intenzív 2023, tervezőgrafika</th>\n      <th>felvett</th>\n      <td>0.0</td>\n      <td>6.0</td>\n      <td>8.0</td>\n      <td>7.0</td>\n      <td>0.857143</td>\n    </tr>\n    <tr>\n      <th>nem felvett</th>\n      <td>0.0</td>\n      <td>1.0</td>\n      <td>8.0</td>\n      <td>7.0</td>\n      <td>0.000000</td>\n    </tr>\n    <tr>\n      <th rowspan=\"2\" valign=\"top\">intenzív 2023, textiltervezés</th>\n      <th>felvett</th>\n      <td>0.0</td>\n      <td>2.0</td>\n      <td>3.0</td>\n      <td>3.0</td>\n      <td>0.666667</td>\n    </tr>\n    <tr>\n      <th>nem felvett</th>\n      <td>0.0</td>\n      <td>1.0</td>\n      <td>3.0</td>\n      <td>3.0</td>\n      <td>0.000000</td>\n    </tr>\n    <tr>\n      <th rowspan=\"2\" valign=\"top\">intenzív 2023, tárgyalkotás</th>\n      <th>felvett</th>\n      <td>0.0</td>\n      <td>2.0</td>\n      <td>4.0</td>\n      <td>3.0</td>\n      <td>0.666667</td>\n    </tr>\n    <tr>\n      <th>nem felvett</th>\n      <td>0.0</td>\n      <td>1.0</td>\n      <td>4.0</td>\n      <td>3.0</td>\n      <td>0.000000</td>\n    </tr>\n  </tbody>\n</table>\n</div>"
     },
     "execution_count": 127,
     "metadata": {},
     "output_type": "execute_result"
    }
   ],
   "source": [
    "gen_application_admission_dfs(df)"
   ],
   "metadata": {
    "collapsed": false,
    "ExecuteTime": {
     "end_time": "2023-10-11T08:15:01.211298100Z",
     "start_time": "2023-10-11T08:15:00.938686200Z"
    }
   }
  },
  {
   "cell_type": "code",
   "execution_count": 167,
   "outputs": [
    {
     "name": "stdout",
     "output_type": "stream",
     "text": [
      "Kurzus típusok szerint (harmonizáltan)\n"
     ]
    },
    {
     "data": {
      "application/vnd.plotly.v1+json": {
       "data": [
        {
         "customdata": [
          [
           0.0
          ],
          [
           0.0
          ]
         ],
         "hovertemplate": "<b>%{hovertext}</b><br><br>Felvételiző létszám=%{x}<br>Felvételi ráta=%{y}<br>Felvett hallgató=%{customdata[0]}<extra></extra>",
         "hovertext": [
          "animáció",
          "építészet"
         ],
         "legendgroup": "",
         "marker": {
          "color": "red",
          "symbol": "circle"
         },
         "mode": "markers",
         "name": "",
         "orientation": "v",
         "showlegend": false,
         "x": [
          16.0,
          10.0
         ],
         "xaxis": "x",
         "y": [
          0.0,
          0.0
         ],
         "yaxis": "y",
         "type": "scatter"
        },
        {
         "customdata": [
          [
           3.0
          ],
          [
           1.0
          ]
         ],
         "hovertemplate": "<b>%{hovertext}</b><br><br>Felvételiző létszám=%{x}<br>Felvételi ráta=%{y}<br>Felvett hallgató=%{customdata[0]}<extra></extra>",
         "hovertext": [
          "designkultúra",
          "formatervezés szakirány"
         ],
         "legendgroup": "",
         "marker": {
          "color": "green",
          "symbol": "circle"
         },
         "mode": "markers",
         "name": "",
         "orientation": "v",
         "showlegend": false,
         "x": [
          3.0,
          1.0
         ],
         "xaxis": "x",
         "y": [
          1.0,
          1.0
         ],
         "yaxis": "y",
         "type": "scatter"
        },
        {
         "customdata": [
          [
           11.0
          ],
          [
           3.0
          ],
          [
           3.0
          ],
          [
           7.0
          ],
          [
           13.0
          ],
          [
           7.0
          ],
          [
           4.0
          ]
         ],
         "hovertemplate": "<b>%{hovertext}</b><br><br>Felvételiző létszám=%{x}<br>Felvételi ráta=%{y}<br>Felvett hallgató=%{customdata[0]}<extra></extra>",
         "hovertext": [
          "formatervezés",
          "fotográfia",
          "média design",
          "rajz",
          "tervezőgrafika",
          "textiltervezés",
          "tárgyalkotás"
         ],
         "legendgroup": "",
         "marker": {
          "color": "blue",
          "symbol": "circle"
         },
         "mode": "markers",
         "name": "",
         "orientation": "v",
         "showlegend": false,
         "x": [
          18.0,
          6.0,
          16.0,
          44.0,
          22.0,
          22.0,
          7.0
         ],
         "xaxis": "x",
         "y": [
          0.6111111111111112,
          0.5,
          0.1875,
          0.1590909090909091,
          0.5909090909090909,
          0.3181818181818182,
          0.5714285714285714
         ],
         "yaxis": "y",
         "type": "scatter"
        },
        {
         "hoverinfo": "name+y",
         "line": {
          "color": "yellow",
          "width": 2
         },
         "mode": "lines",
         "name": "nem járt",
         "x": [
          1.0,
          44.0
         ],
         "y": [
          0.07374631268436578,
          0.07374631268436578
         ],
         "type": "scatter"
        }
       ],
       "layout": {
        "template": {
         "data": {
          "histogram2dcontour": [
           {
            "type": "histogram2dcontour",
            "colorbar": {
             "outlinewidth": 0,
             "ticks": ""
            },
            "colorscale": [
             [
              0.0,
              "#0d0887"
             ],
             [
              0.1111111111111111,
              "#46039f"
             ],
             [
              0.2222222222222222,
              "#7201a8"
             ],
             [
              0.3333333333333333,
              "#9c179e"
             ],
             [
              0.4444444444444444,
              "#bd3786"
             ],
             [
              0.5555555555555556,
              "#d8576b"
             ],
             [
              0.6666666666666666,
              "#ed7953"
             ],
             [
              0.7777777777777778,
              "#fb9f3a"
             ],
             [
              0.8888888888888888,
              "#fdca26"
             ],
             [
              1.0,
              "#f0f921"
             ]
            ]
           }
          ],
          "choropleth": [
           {
            "type": "choropleth",
            "colorbar": {
             "outlinewidth": 0,
             "ticks": ""
            }
           }
          ],
          "histogram2d": [
           {
            "type": "histogram2d",
            "colorbar": {
             "outlinewidth": 0,
             "ticks": ""
            },
            "colorscale": [
             [
              0.0,
              "#0d0887"
             ],
             [
              0.1111111111111111,
              "#46039f"
             ],
             [
              0.2222222222222222,
              "#7201a8"
             ],
             [
              0.3333333333333333,
              "#9c179e"
             ],
             [
              0.4444444444444444,
              "#bd3786"
             ],
             [
              0.5555555555555556,
              "#d8576b"
             ],
             [
              0.6666666666666666,
              "#ed7953"
             ],
             [
              0.7777777777777778,
              "#fb9f3a"
             ],
             [
              0.8888888888888888,
              "#fdca26"
             ],
             [
              1.0,
              "#f0f921"
             ]
            ]
           }
          ],
          "heatmap": [
           {
            "type": "heatmap",
            "colorbar": {
             "outlinewidth": 0,
             "ticks": ""
            },
            "colorscale": [
             [
              0.0,
              "#0d0887"
             ],
             [
              0.1111111111111111,
              "#46039f"
             ],
             [
              0.2222222222222222,
              "#7201a8"
             ],
             [
              0.3333333333333333,
              "#9c179e"
             ],
             [
              0.4444444444444444,
              "#bd3786"
             ],
             [
              0.5555555555555556,
              "#d8576b"
             ],
             [
              0.6666666666666666,
              "#ed7953"
             ],
             [
              0.7777777777777778,
              "#fb9f3a"
             ],
             [
              0.8888888888888888,
              "#fdca26"
             ],
             [
              1.0,
              "#f0f921"
             ]
            ]
           }
          ],
          "heatmapgl": [
           {
            "type": "heatmapgl",
            "colorbar": {
             "outlinewidth": 0,
             "ticks": ""
            },
            "colorscale": [
             [
              0.0,
              "#0d0887"
             ],
             [
              0.1111111111111111,
              "#46039f"
             ],
             [
              0.2222222222222222,
              "#7201a8"
             ],
             [
              0.3333333333333333,
              "#9c179e"
             ],
             [
              0.4444444444444444,
              "#bd3786"
             ],
             [
              0.5555555555555556,
              "#d8576b"
             ],
             [
              0.6666666666666666,
              "#ed7953"
             ],
             [
              0.7777777777777778,
              "#fb9f3a"
             ],
             [
              0.8888888888888888,
              "#fdca26"
             ],
             [
              1.0,
              "#f0f921"
             ]
            ]
           }
          ],
          "contourcarpet": [
           {
            "type": "contourcarpet",
            "colorbar": {
             "outlinewidth": 0,
             "ticks": ""
            }
           }
          ],
          "contour": [
           {
            "type": "contour",
            "colorbar": {
             "outlinewidth": 0,
             "ticks": ""
            },
            "colorscale": [
             [
              0.0,
              "#0d0887"
             ],
             [
              0.1111111111111111,
              "#46039f"
             ],
             [
              0.2222222222222222,
              "#7201a8"
             ],
             [
              0.3333333333333333,
              "#9c179e"
             ],
             [
              0.4444444444444444,
              "#bd3786"
             ],
             [
              0.5555555555555556,
              "#d8576b"
             ],
             [
              0.6666666666666666,
              "#ed7953"
             ],
             [
              0.7777777777777778,
              "#fb9f3a"
             ],
             [
              0.8888888888888888,
              "#fdca26"
             ],
             [
              1.0,
              "#f0f921"
             ]
            ]
           }
          ],
          "surface": [
           {
            "type": "surface",
            "colorbar": {
             "outlinewidth": 0,
             "ticks": ""
            },
            "colorscale": [
             [
              0.0,
              "#0d0887"
             ],
             [
              0.1111111111111111,
              "#46039f"
             ],
             [
              0.2222222222222222,
              "#7201a8"
             ],
             [
              0.3333333333333333,
              "#9c179e"
             ],
             [
              0.4444444444444444,
              "#bd3786"
             ],
             [
              0.5555555555555556,
              "#d8576b"
             ],
             [
              0.6666666666666666,
              "#ed7953"
             ],
             [
              0.7777777777777778,
              "#fb9f3a"
             ],
             [
              0.8888888888888888,
              "#fdca26"
             ],
             [
              1.0,
              "#f0f921"
             ]
            ]
           }
          ],
          "mesh3d": [
           {
            "type": "mesh3d",
            "colorbar": {
             "outlinewidth": 0,
             "ticks": ""
            }
           }
          ],
          "scatter": [
           {
            "marker": {
             "line": {
              "color": "#283442"
             }
            },
            "type": "scatter"
           }
          ],
          "parcoords": [
           {
            "type": "parcoords",
            "line": {
             "colorbar": {
              "outlinewidth": 0,
              "ticks": ""
             }
            }
           }
          ],
          "scatterpolargl": [
           {
            "type": "scatterpolargl",
            "marker": {
             "colorbar": {
              "outlinewidth": 0,
              "ticks": ""
             }
            }
           }
          ],
          "bar": [
           {
            "error_x": {
             "color": "#f2f5fa"
            },
            "error_y": {
             "color": "#f2f5fa"
            },
            "marker": {
             "line": {
              "color": "rgb(17,17,17)",
              "width": 0.5
             },
             "pattern": {
              "fillmode": "overlay",
              "size": 10,
              "solidity": 0.2
             }
            },
            "type": "bar"
           }
          ],
          "scattergeo": [
           {
            "type": "scattergeo",
            "marker": {
             "colorbar": {
              "outlinewidth": 0,
              "ticks": ""
             }
            }
           }
          ],
          "scatterpolar": [
           {
            "type": "scatterpolar",
            "marker": {
             "colorbar": {
              "outlinewidth": 0,
              "ticks": ""
             }
            }
           }
          ],
          "histogram": [
           {
            "marker": {
             "pattern": {
              "fillmode": "overlay",
              "size": 10,
              "solidity": 0.2
             }
            },
            "type": "histogram"
           }
          ],
          "scattergl": [
           {
            "marker": {
             "line": {
              "color": "#283442"
             }
            },
            "type": "scattergl"
           }
          ],
          "scatter3d": [
           {
            "type": "scatter3d",
            "line": {
             "colorbar": {
              "outlinewidth": 0,
              "ticks": ""
             }
            },
            "marker": {
             "colorbar": {
              "outlinewidth": 0,
              "ticks": ""
             }
            }
           }
          ],
          "scattermapbox": [
           {
            "type": "scattermapbox",
            "marker": {
             "colorbar": {
              "outlinewidth": 0,
              "ticks": ""
             }
            }
           }
          ],
          "scatterternary": [
           {
            "type": "scatterternary",
            "marker": {
             "colorbar": {
              "outlinewidth": 0,
              "ticks": ""
             }
            }
           }
          ],
          "scattercarpet": [
           {
            "type": "scattercarpet",
            "marker": {
             "colorbar": {
              "outlinewidth": 0,
              "ticks": ""
             }
            }
           }
          ],
          "carpet": [
           {
            "aaxis": {
             "endlinecolor": "#A2B1C6",
             "gridcolor": "#506784",
             "linecolor": "#506784",
             "minorgridcolor": "#506784",
             "startlinecolor": "#A2B1C6"
            },
            "baxis": {
             "endlinecolor": "#A2B1C6",
             "gridcolor": "#506784",
             "linecolor": "#506784",
             "minorgridcolor": "#506784",
             "startlinecolor": "#A2B1C6"
            },
            "type": "carpet"
           }
          ],
          "table": [
           {
            "cells": {
             "fill": {
              "color": "#506784"
             },
             "line": {
              "color": "rgb(17,17,17)"
             }
            },
            "header": {
             "fill": {
              "color": "#2a3f5f"
             },
             "line": {
              "color": "rgb(17,17,17)"
             }
            },
            "type": "table"
           }
          ],
          "barpolar": [
           {
            "marker": {
             "line": {
              "color": "rgb(17,17,17)",
              "width": 0.5
             },
             "pattern": {
              "fillmode": "overlay",
              "size": 10,
              "solidity": 0.2
             }
            },
            "type": "barpolar"
           }
          ],
          "pie": [
           {
            "automargin": true,
            "type": "pie"
           }
          ]
         },
         "layout": {
          "autotypenumbers": "strict",
          "colorway": [
           "#636efa",
           "#EF553B",
           "#00cc96",
           "#ab63fa",
           "#FFA15A",
           "#19d3f3",
           "#FF6692",
           "#B6E880",
           "#FF97FF",
           "#FECB52"
          ],
          "font": {
           "color": "#f2f5fa"
          },
          "hovermode": "closest",
          "hoverlabel": {
           "align": "left"
          },
          "paper_bgcolor": "rgb(17,17,17)",
          "plot_bgcolor": "rgb(17,17,17)",
          "polar": {
           "bgcolor": "rgb(17,17,17)",
           "angularaxis": {
            "gridcolor": "#506784",
            "linecolor": "#506784",
            "ticks": ""
           },
           "radialaxis": {
            "gridcolor": "#506784",
            "linecolor": "#506784",
            "ticks": ""
           }
          },
          "ternary": {
           "bgcolor": "rgb(17,17,17)",
           "aaxis": {
            "gridcolor": "#506784",
            "linecolor": "#506784",
            "ticks": ""
           },
           "baxis": {
            "gridcolor": "#506784",
            "linecolor": "#506784",
            "ticks": ""
           },
           "caxis": {
            "gridcolor": "#506784",
            "linecolor": "#506784",
            "ticks": ""
           }
          },
          "coloraxis": {
           "colorbar": {
            "outlinewidth": 0,
            "ticks": ""
           }
          },
          "colorscale": {
           "sequential": [
            [
             0.0,
             "#0d0887"
            ],
            [
             0.1111111111111111,
             "#46039f"
            ],
            [
             0.2222222222222222,
             "#7201a8"
            ],
            [
             0.3333333333333333,
             "#9c179e"
            ],
            [
             0.4444444444444444,
             "#bd3786"
            ],
            [
             0.5555555555555556,
             "#d8576b"
            ],
            [
             0.6666666666666666,
             "#ed7953"
            ],
            [
             0.7777777777777778,
             "#fb9f3a"
            ],
            [
             0.8888888888888888,
             "#fdca26"
            ],
            [
             1.0,
             "#f0f921"
            ]
           ],
           "sequentialminus": [
            [
             0.0,
             "#0d0887"
            ],
            [
             0.1111111111111111,
             "#46039f"
            ],
            [
             0.2222222222222222,
             "#7201a8"
            ],
            [
             0.3333333333333333,
             "#9c179e"
            ],
            [
             0.4444444444444444,
             "#bd3786"
            ],
            [
             0.5555555555555556,
             "#d8576b"
            ],
            [
             0.6666666666666666,
             "#ed7953"
            ],
            [
             0.7777777777777778,
             "#fb9f3a"
            ],
            [
             0.8888888888888888,
             "#fdca26"
            ],
            [
             1.0,
             "#f0f921"
            ]
           ],
           "diverging": [
            [
             0,
             "#8e0152"
            ],
            [
             0.1,
             "#c51b7d"
            ],
            [
             0.2,
             "#de77ae"
            ],
            [
             0.3,
             "#f1b6da"
            ],
            [
             0.4,
             "#fde0ef"
            ],
            [
             0.5,
             "#f7f7f7"
            ],
            [
             0.6,
             "#e6f5d0"
            ],
            [
             0.7,
             "#b8e186"
            ],
            [
             0.8,
             "#7fbc41"
            ],
            [
             0.9,
             "#4d9221"
            ],
            [
             1,
             "#276419"
            ]
           ]
          },
          "xaxis": {
           "gridcolor": "#283442",
           "linecolor": "#506784",
           "ticks": "",
           "title": {
            "standoff": 15
           },
           "zerolinecolor": "#283442",
           "automargin": true,
           "zerolinewidth": 2
          },
          "yaxis": {
           "gridcolor": "#283442",
           "linecolor": "#506784",
           "ticks": "",
           "title": {
            "standoff": 15
           },
           "zerolinecolor": "#283442",
           "automargin": true,
           "zerolinewidth": 2
          },
          "scene": {
           "xaxis": {
            "backgroundcolor": "rgb(17,17,17)",
            "gridcolor": "#506784",
            "linecolor": "#506784",
            "showbackground": true,
            "ticks": "",
            "zerolinecolor": "#C8D4E3",
            "gridwidth": 2
           },
           "yaxis": {
            "backgroundcolor": "rgb(17,17,17)",
            "gridcolor": "#506784",
            "linecolor": "#506784",
            "showbackground": true,
            "ticks": "",
            "zerolinecolor": "#C8D4E3",
            "gridwidth": 2
           },
           "zaxis": {
            "backgroundcolor": "rgb(17,17,17)",
            "gridcolor": "#506784",
            "linecolor": "#506784",
            "showbackground": true,
            "ticks": "",
            "zerolinecolor": "#C8D4E3",
            "gridwidth": 2
           }
          },
          "shapedefaults": {
           "line": {
            "color": "#f2f5fa"
           }
          },
          "annotationdefaults": {
           "arrowcolor": "#f2f5fa",
           "arrowhead": 0,
           "arrowwidth": 1
          },
          "geo": {
           "bgcolor": "rgb(17,17,17)",
           "landcolor": "rgb(17,17,17)",
           "subunitcolor": "#506784",
           "showland": true,
           "showlakes": true,
           "lakecolor": "rgb(17,17,17)"
          },
          "title": {
           "x": 0.05
          },
          "updatemenudefaults": {
           "bgcolor": "#506784",
           "borderwidth": 0
          },
          "sliderdefaults": {
           "bgcolor": "#C8D4E3",
           "borderwidth": 1,
           "bordercolor": "rgb(17,17,17)",
           "tickwidth": 0
          },
          "mapbox": {
           "style": "dark"
          }
         }
        },
        "xaxis": {
         "anchor": "y",
         "domain": [
          0.0,
          1.0
         ],
         "title": {
          "text": "Felvételiző létszám"
         }
        },
        "yaxis": {
         "anchor": "x",
         "domain": [
          0.0,
          1.0
         ],
         "title": {
          "text": "Felvételi ráta"
         }
        },
        "legend": {
         "tracegroupgap": 0
        },
        "title": {
         "text": "Felvételi arányszámok"
        }
       },
       "config": {
        "plotlyServerURL": "https://plot.ly"
       }
      },
      "text/html": "<div>                            <div id=\"6009a3ec-f3f9-4754-ad12-7d38184fa87b\" class=\"plotly-graph-div\" style=\"height:525px; width:100%;\"></div>            <script type=\"text/javascript\">                require([\"plotly\"], function(Plotly) {                    window.PLOTLYENV=window.PLOTLYENV || {};                                    if (document.getElementById(\"6009a3ec-f3f9-4754-ad12-7d38184fa87b\")) {                    Plotly.newPlot(                        \"6009a3ec-f3f9-4754-ad12-7d38184fa87b\",                        [{\"customdata\":[[0.0],[0.0]],\"hovertemplate\":\"<b>%{hovertext}</b><br><br>Felv\\u00e9teliz\\u0151 l\\u00e9tsz\\u00e1m=%{x}<br>Felv\\u00e9teli r\\u00e1ta=%{y}<br>Felvett hallgat\\u00f3=%{customdata[0]}<extra></extra>\",\"hovertext\":[\"anim\\u00e1ci\\u00f3\",\"\\u00e9p\\u00edt\\u00e9szet\"],\"legendgroup\":\"\",\"marker\":{\"color\":\"red\",\"symbol\":\"circle\"},\"mode\":\"markers\",\"name\":\"\",\"orientation\":\"v\",\"showlegend\":false,\"x\":[16.0,10.0],\"xaxis\":\"x\",\"y\":[0.0,0.0],\"yaxis\":\"y\",\"type\":\"scatter\"},{\"customdata\":[[3.0],[1.0]],\"hovertemplate\":\"<b>%{hovertext}</b><br><br>Felv\\u00e9teliz\\u0151 l\\u00e9tsz\\u00e1m=%{x}<br>Felv\\u00e9teli r\\u00e1ta=%{y}<br>Felvett hallgat\\u00f3=%{customdata[0]}<extra></extra>\",\"hovertext\":[\"designkult\\u00fara\",\"formatervez\\u00e9s szakir\\u00e1ny\"],\"legendgroup\":\"\",\"marker\":{\"color\":\"green\",\"symbol\":\"circle\"},\"mode\":\"markers\",\"name\":\"\",\"orientation\":\"v\",\"showlegend\":false,\"x\":[3.0,1.0],\"xaxis\":\"x\",\"y\":[1.0,1.0],\"yaxis\":\"y\",\"type\":\"scatter\"},{\"customdata\":[[11.0],[3.0],[3.0],[7.0],[13.0],[7.0],[4.0]],\"hovertemplate\":\"<b>%{hovertext}</b><br><br>Felv\\u00e9teliz\\u0151 l\\u00e9tsz\\u00e1m=%{x}<br>Felv\\u00e9teli r\\u00e1ta=%{y}<br>Felvett hallgat\\u00f3=%{customdata[0]}<extra></extra>\",\"hovertext\":[\"formatervez\\u00e9s\",\"fotogr\\u00e1fia\",\"m\\u00e9dia design\",\"rajz\",\"tervez\\u0151grafika\",\"textiltervez\\u00e9s\",\"t\\u00e1rgyalkot\\u00e1s\"],\"legendgroup\":\"\",\"marker\":{\"color\":\"blue\",\"symbol\":\"circle\"},\"mode\":\"markers\",\"name\":\"\",\"orientation\":\"v\",\"showlegend\":false,\"x\":[18.0,6.0,16.0,44.0,22.0,22.0,7.0],\"xaxis\":\"x\",\"y\":[0.6111111111111112,0.5,0.1875,0.1590909090909091,0.5909090909090909,0.3181818181818182,0.5714285714285714],\"yaxis\":\"y\",\"type\":\"scatter\"},{\"hoverinfo\":\"name+y\",\"line\":{\"color\":\"yellow\",\"width\":2},\"mode\":\"lines\",\"name\":\"nem j\\u00e1rt\",\"x\":[1.0,44.0],\"y\":[0.07374631268436578,0.07374631268436578],\"type\":\"scatter\"}],                        {\"template\":{\"data\":{\"histogram2dcontour\":[{\"type\":\"histogram2dcontour\",\"colorbar\":{\"outlinewidth\":0,\"ticks\":\"\"},\"colorscale\":[[0.0,\"#0d0887\"],[0.1111111111111111,\"#46039f\"],[0.2222222222222222,\"#7201a8\"],[0.3333333333333333,\"#9c179e\"],[0.4444444444444444,\"#bd3786\"],[0.5555555555555556,\"#d8576b\"],[0.6666666666666666,\"#ed7953\"],[0.7777777777777778,\"#fb9f3a\"],[0.8888888888888888,\"#fdca26\"],[1.0,\"#f0f921\"]]}],\"choropleth\":[{\"type\":\"choropleth\",\"colorbar\":{\"outlinewidth\":0,\"ticks\":\"\"}}],\"histogram2d\":[{\"type\":\"histogram2d\",\"colorbar\":{\"outlinewidth\":0,\"ticks\":\"\"},\"colorscale\":[[0.0,\"#0d0887\"],[0.1111111111111111,\"#46039f\"],[0.2222222222222222,\"#7201a8\"],[0.3333333333333333,\"#9c179e\"],[0.4444444444444444,\"#bd3786\"],[0.5555555555555556,\"#d8576b\"],[0.6666666666666666,\"#ed7953\"],[0.7777777777777778,\"#fb9f3a\"],[0.8888888888888888,\"#fdca26\"],[1.0,\"#f0f921\"]]}],\"heatmap\":[{\"type\":\"heatmap\",\"colorbar\":{\"outlinewidth\":0,\"ticks\":\"\"},\"colorscale\":[[0.0,\"#0d0887\"],[0.1111111111111111,\"#46039f\"],[0.2222222222222222,\"#7201a8\"],[0.3333333333333333,\"#9c179e\"],[0.4444444444444444,\"#bd3786\"],[0.5555555555555556,\"#d8576b\"],[0.6666666666666666,\"#ed7953\"],[0.7777777777777778,\"#fb9f3a\"],[0.8888888888888888,\"#fdca26\"],[1.0,\"#f0f921\"]]}],\"heatmapgl\":[{\"type\":\"heatmapgl\",\"colorbar\":{\"outlinewidth\":0,\"ticks\":\"\"},\"colorscale\":[[0.0,\"#0d0887\"],[0.1111111111111111,\"#46039f\"],[0.2222222222222222,\"#7201a8\"],[0.3333333333333333,\"#9c179e\"],[0.4444444444444444,\"#bd3786\"],[0.5555555555555556,\"#d8576b\"],[0.6666666666666666,\"#ed7953\"],[0.7777777777777778,\"#fb9f3a\"],[0.8888888888888888,\"#fdca26\"],[1.0,\"#f0f921\"]]}],\"contourcarpet\":[{\"type\":\"contourcarpet\",\"colorbar\":{\"outlinewidth\":0,\"ticks\":\"\"}}],\"contour\":[{\"type\":\"contour\",\"colorbar\":{\"outlinewidth\":0,\"ticks\":\"\"},\"colorscale\":[[0.0,\"#0d0887\"],[0.1111111111111111,\"#46039f\"],[0.2222222222222222,\"#7201a8\"],[0.3333333333333333,\"#9c179e\"],[0.4444444444444444,\"#bd3786\"],[0.5555555555555556,\"#d8576b\"],[0.6666666666666666,\"#ed7953\"],[0.7777777777777778,\"#fb9f3a\"],[0.8888888888888888,\"#fdca26\"],[1.0,\"#f0f921\"]]}],\"surface\":[{\"type\":\"surface\",\"colorbar\":{\"outlinewidth\":0,\"ticks\":\"\"},\"colorscale\":[[0.0,\"#0d0887\"],[0.1111111111111111,\"#46039f\"],[0.2222222222222222,\"#7201a8\"],[0.3333333333333333,\"#9c179e\"],[0.4444444444444444,\"#bd3786\"],[0.5555555555555556,\"#d8576b\"],[0.6666666666666666,\"#ed7953\"],[0.7777777777777778,\"#fb9f3a\"],[0.8888888888888888,\"#fdca26\"],[1.0,\"#f0f921\"]]}],\"mesh3d\":[{\"type\":\"mesh3d\",\"colorbar\":{\"outlinewidth\":0,\"ticks\":\"\"}}],\"scatter\":[{\"marker\":{\"line\":{\"color\":\"#283442\"}},\"type\":\"scatter\"}],\"parcoords\":[{\"type\":\"parcoords\",\"line\":{\"colorbar\":{\"outlinewidth\":0,\"ticks\":\"\"}}}],\"scatterpolargl\":[{\"type\":\"scatterpolargl\",\"marker\":{\"colorbar\":{\"outlinewidth\":0,\"ticks\":\"\"}}}],\"bar\":[{\"error_x\":{\"color\":\"#f2f5fa\"},\"error_y\":{\"color\":\"#f2f5fa\"},\"marker\":{\"line\":{\"color\":\"rgb(17,17,17)\",\"width\":0.5},\"pattern\":{\"fillmode\":\"overlay\",\"size\":10,\"solidity\":0.2}},\"type\":\"bar\"}],\"scattergeo\":[{\"type\":\"scattergeo\",\"marker\":{\"colorbar\":{\"outlinewidth\":0,\"ticks\":\"\"}}}],\"scatterpolar\":[{\"type\":\"scatterpolar\",\"marker\":{\"colorbar\":{\"outlinewidth\":0,\"ticks\":\"\"}}}],\"histogram\":[{\"marker\":{\"pattern\":{\"fillmode\":\"overlay\",\"size\":10,\"solidity\":0.2}},\"type\":\"histogram\"}],\"scattergl\":[{\"marker\":{\"line\":{\"color\":\"#283442\"}},\"type\":\"scattergl\"}],\"scatter3d\":[{\"type\":\"scatter3d\",\"line\":{\"colorbar\":{\"outlinewidth\":0,\"ticks\":\"\"}},\"marker\":{\"colorbar\":{\"outlinewidth\":0,\"ticks\":\"\"}}}],\"scattermapbox\":[{\"type\":\"scattermapbox\",\"marker\":{\"colorbar\":{\"outlinewidth\":0,\"ticks\":\"\"}}}],\"scatterternary\":[{\"type\":\"scatterternary\",\"marker\":{\"colorbar\":{\"outlinewidth\":0,\"ticks\":\"\"}}}],\"scattercarpet\":[{\"type\":\"scattercarpet\",\"marker\":{\"colorbar\":{\"outlinewidth\":0,\"ticks\":\"\"}}}],\"carpet\":[{\"aaxis\":{\"endlinecolor\":\"#A2B1C6\",\"gridcolor\":\"#506784\",\"linecolor\":\"#506784\",\"minorgridcolor\":\"#506784\",\"startlinecolor\":\"#A2B1C6\"},\"baxis\":{\"endlinecolor\":\"#A2B1C6\",\"gridcolor\":\"#506784\",\"linecolor\":\"#506784\",\"minorgridcolor\":\"#506784\",\"startlinecolor\":\"#A2B1C6\"},\"type\":\"carpet\"}],\"table\":[{\"cells\":{\"fill\":{\"color\":\"#506784\"},\"line\":{\"color\":\"rgb(17,17,17)\"}},\"header\":{\"fill\":{\"color\":\"#2a3f5f\"},\"line\":{\"color\":\"rgb(17,17,17)\"}},\"type\":\"table\"}],\"barpolar\":[{\"marker\":{\"line\":{\"color\":\"rgb(17,17,17)\",\"width\":0.5},\"pattern\":{\"fillmode\":\"overlay\",\"size\":10,\"solidity\":0.2}},\"type\":\"barpolar\"}],\"pie\":[{\"automargin\":true,\"type\":\"pie\"}]},\"layout\":{\"autotypenumbers\":\"strict\",\"colorway\":[\"#636efa\",\"#EF553B\",\"#00cc96\",\"#ab63fa\",\"#FFA15A\",\"#19d3f3\",\"#FF6692\",\"#B6E880\",\"#FF97FF\",\"#FECB52\"],\"font\":{\"color\":\"#f2f5fa\"},\"hovermode\":\"closest\",\"hoverlabel\":{\"align\":\"left\"},\"paper_bgcolor\":\"rgb(17,17,17)\",\"plot_bgcolor\":\"rgb(17,17,17)\",\"polar\":{\"bgcolor\":\"rgb(17,17,17)\",\"angularaxis\":{\"gridcolor\":\"#506784\",\"linecolor\":\"#506784\",\"ticks\":\"\"},\"radialaxis\":{\"gridcolor\":\"#506784\",\"linecolor\":\"#506784\",\"ticks\":\"\"}},\"ternary\":{\"bgcolor\":\"rgb(17,17,17)\",\"aaxis\":{\"gridcolor\":\"#506784\",\"linecolor\":\"#506784\",\"ticks\":\"\"},\"baxis\":{\"gridcolor\":\"#506784\",\"linecolor\":\"#506784\",\"ticks\":\"\"},\"caxis\":{\"gridcolor\":\"#506784\",\"linecolor\":\"#506784\",\"ticks\":\"\"}},\"coloraxis\":{\"colorbar\":{\"outlinewidth\":0,\"ticks\":\"\"}},\"colorscale\":{\"sequential\":[[0.0,\"#0d0887\"],[0.1111111111111111,\"#46039f\"],[0.2222222222222222,\"#7201a8\"],[0.3333333333333333,\"#9c179e\"],[0.4444444444444444,\"#bd3786\"],[0.5555555555555556,\"#d8576b\"],[0.6666666666666666,\"#ed7953\"],[0.7777777777777778,\"#fb9f3a\"],[0.8888888888888888,\"#fdca26\"],[1.0,\"#f0f921\"]],\"sequentialminus\":[[0.0,\"#0d0887\"],[0.1111111111111111,\"#46039f\"],[0.2222222222222222,\"#7201a8\"],[0.3333333333333333,\"#9c179e\"],[0.4444444444444444,\"#bd3786\"],[0.5555555555555556,\"#d8576b\"],[0.6666666666666666,\"#ed7953\"],[0.7777777777777778,\"#fb9f3a\"],[0.8888888888888888,\"#fdca26\"],[1.0,\"#f0f921\"]],\"diverging\":[[0,\"#8e0152\"],[0.1,\"#c51b7d\"],[0.2,\"#de77ae\"],[0.3,\"#f1b6da\"],[0.4,\"#fde0ef\"],[0.5,\"#f7f7f7\"],[0.6,\"#e6f5d0\"],[0.7,\"#b8e186\"],[0.8,\"#7fbc41\"],[0.9,\"#4d9221\"],[1,\"#276419\"]]},\"xaxis\":{\"gridcolor\":\"#283442\",\"linecolor\":\"#506784\",\"ticks\":\"\",\"title\":{\"standoff\":15},\"zerolinecolor\":\"#283442\",\"automargin\":true,\"zerolinewidth\":2},\"yaxis\":{\"gridcolor\":\"#283442\",\"linecolor\":\"#506784\",\"ticks\":\"\",\"title\":{\"standoff\":15},\"zerolinecolor\":\"#283442\",\"automargin\":true,\"zerolinewidth\":2},\"scene\":{\"xaxis\":{\"backgroundcolor\":\"rgb(17,17,17)\",\"gridcolor\":\"#506784\",\"linecolor\":\"#506784\",\"showbackground\":true,\"ticks\":\"\",\"zerolinecolor\":\"#C8D4E3\",\"gridwidth\":2},\"yaxis\":{\"backgroundcolor\":\"rgb(17,17,17)\",\"gridcolor\":\"#506784\",\"linecolor\":\"#506784\",\"showbackground\":true,\"ticks\":\"\",\"zerolinecolor\":\"#C8D4E3\",\"gridwidth\":2},\"zaxis\":{\"backgroundcolor\":\"rgb(17,17,17)\",\"gridcolor\":\"#506784\",\"linecolor\":\"#506784\",\"showbackground\":true,\"ticks\":\"\",\"zerolinecolor\":\"#C8D4E3\",\"gridwidth\":2}},\"shapedefaults\":{\"line\":{\"color\":\"#f2f5fa\"}},\"annotationdefaults\":{\"arrowcolor\":\"#f2f5fa\",\"arrowhead\":0,\"arrowwidth\":1},\"geo\":{\"bgcolor\":\"rgb(17,17,17)\",\"landcolor\":\"rgb(17,17,17)\",\"subunitcolor\":\"#506784\",\"showland\":true,\"showlakes\":true,\"lakecolor\":\"rgb(17,17,17)\"},\"title\":{\"x\":0.05},\"updatemenudefaults\":{\"bgcolor\":\"#506784\",\"borderwidth\":0},\"sliderdefaults\":{\"bgcolor\":\"#C8D4E3\",\"borderwidth\":1,\"bordercolor\":\"rgb(17,17,17)\",\"tickwidth\":0},\"mapbox\":{\"style\":\"dark\"}}},\"xaxis\":{\"anchor\":\"y\",\"domain\":[0.0,1.0],\"title\":{\"text\":\"Felv\\u00e9teliz\\u0151 l\\u00e9tsz\\u00e1m\"}},\"yaxis\":{\"anchor\":\"x\",\"domain\":[0.0,1.0],\"title\":{\"text\":\"Felv\\u00e9teli r\\u00e1ta\"}},\"legend\":{\"tracegroupgap\":0},\"title\":{\"text\":\"Felv\\u00e9teli ar\\u00e1nysz\\u00e1mok\"}},                        {\"responsive\": true}                    ).then(function(){\n                            \nvar gd = document.getElementById('6009a3ec-f3f9-4754-ad12-7d38184fa87b');\nvar x = new MutationObserver(function (mutations, observer) {{\n        var display = window.getComputedStyle(gd).display;\n        if (!display || display === 'none') {{\n            console.log([gd, 'removed!']);\n            Plotly.purge(gd);\n            observer.disconnect();\n        }}\n}});\n\n// Listen for the removal of the full notebook cells\nvar notebookContainer = gd.closest('#notebook-container');\nif (notebookContainer) {{\n    x.observe(notebookContainer, {childList: true});\n}}\n\n// Listen for the clearing of the current output cell\nvar outputEl = gd.closest('.output');\nif (outputEl) {{\n    x.observe(outputEl, {childList: true});\n}}\n\n                        })                };                });            </script>        </div>"
     },
     "metadata": {},
     "output_type": "display_data"
    },
    {
     "name": "stdout",
     "output_type": "stream",
     "text": [
      "Kurzusok szerint (nem harmonizáltan)\n"
     ]
    },
    {
     "data": {
      "application/vnd.plotly.v1+json": {
       "data": [
        {
         "customdata": [
          [
           2.0
          ],
          [
           2.0
          ],
          [
           5.0
          ],
          [
           2.0
          ],
          [
           1.0
          ],
          [
           1.0
          ],
          [
           3.0
          ],
          [
           6.0
          ],
          [
           1.0
          ],
          [
           2.0
          ],
          [
           2.0
          ],
          [
           1.0
          ],
          [
           1.0
          ],
          [
           6.0
          ],
          [
           2.0
          ],
          [
           6.0
          ],
          [
           2.0
          ],
          [
           2.0
          ]
         ],
         "hovertemplate": "<b>%{hovertext}</b><br><br>Felvételiző létszám=%{x}<br>Felvételi ráta=%{y}<br>Felvett hallgató=%{customdata[0]}<extra></extra>",
         "hovertext": [
          "7_alkalmas_őszi_2022, 7 alkalmas textil",
          "7_alkalmas_őszi_2022, 7 alklamas rajz",
          "előkészítő_2022, formatervezés",
          "előkészítő_2022, fotográfia",
          "előkészítő_2022, média design",
          "előkészítő_2022, rajzbérlet 10 alkalmas ",
          "előkészítő_2022, rajzbérlet 19 alkalmas ",
          "előkészítő_2022, tervezőgrafika - haladó",
          "előkészítő_2022, tervezőgrafika - kezdő",
          "előkészítő_2022, textiltervezés",
          "előkészítő_2022, tárgyalkotás",
          "intenzív 2022, rajz",
          "intenzív 2022, textil szakirány",
          "intenzív 2023, formatervezés",
          "intenzív 2023, média design",
          "intenzív 2023, tervezőgrafika",
          "intenzív 2023, textiltervezés",
          "intenzív 2023, tárgyalkotás"
         ],
         "legendgroup": "",
         "marker": {
          "color": "blue",
          "symbol": "circle"
         },
         "mode": "markers",
         "name": "",
         "orientation": "v",
         "showlegend": false,
         "x": [
          9.0,
          14.0,
          10.0,
          5.0,
          12.0,
          10.0,
          13.0,
          8.0,
          6.0,
          8.0,
          4.0,
          2.0,
          2.0,
          8.0,
          4.0,
          7.0,
          3.0,
          3.0
         ],
         "xaxis": "x",
         "y": [
          0.2222222222222222,
          0.14285714285714285,
          0.5,
          0.4,
          0.08333333333333333,
          0.1,
          0.23076923076923078,
          0.75,
          0.16666666666666666,
          0.25,
          0.5,
          0.5,
          0.5,
          0.75,
          0.5,
          0.8571428571428571,
          0.6666666666666666,
          0.6666666666666666
         ],
         "yaxis": "y",
         "type": "scatter"
        },
        {
         "customdata": [
          [
           0.0
          ],
          [
           0.0
          ],
          [
           0.0
          ],
          [
           0.0
          ],
          [
           0.0
          ],
          [
           0.0
          ]
         ],
         "hovertemplate": "<b>%{hovertext}</b><br><br>Felvételiző létszám=%{x}<br>Felvételi ráta=%{y}<br>Felvett hallgató=%{customdata[0]}<extra></extra>",
         "hovertext": [
          "előkészítő_2022, animáció",
          "előkészítő_2022, délelőtti rajz",
          "előkészítő_2022, építészet",
          "intenzív 2022, animáció szakirány",
          "intenzív 2022, tervezőgrafika szakirány",
          "intenzív 2023, rajz"
         ],
         "legendgroup": "",
         "marker": {
          "color": "red",
          "symbol": "circle"
         },
         "mode": "markers",
         "name": "",
         "orientation": "v",
         "showlegend": false,
         "x": [
          14.0,
          4.0,
          10.0,
          2.0,
          1.0,
          1.0
         ],
         "xaxis": "x",
         "y": [
          0.0,
          0.0,
          0.0,
          0.0,
          0.0,
          0.0
         ],
         "yaxis": "y",
         "type": "scatter"
        },
        {
         "customdata": [
          [
           3.0
          ],
          [
           1.0
          ],
          [
           1.0
          ]
         ],
         "hovertemplate": "<b>%{hovertext}</b><br><br>Felvételiző létszám=%{x}<br>Felvételi ráta=%{y}<br>Felvett hallgató=%{customdata[0]}<extra></extra>",
         "hovertext": [
          "előkészítő_2022, designkultúra",
          "intenzív 2022, formatervezés szakirány",
          "intenzív 2022, fotográfia szakirány"
         ],
         "legendgroup": "",
         "marker": {
          "color": "green",
          "symbol": "circle"
         },
         "mode": "markers",
         "name": "",
         "orientation": "v",
         "showlegend": false,
         "x": [
          3.0,
          1.0,
          1.0
         ],
         "xaxis": "x",
         "y": [
          1.0,
          1.0,
          1.0
         ],
         "yaxis": "y",
         "type": "scatter"
        },
        {
         "hoverinfo": "name+y",
         "line": {
          "color": "yellow",
          "width": 2
         },
         "mode": "lines",
         "name": "nem járt",
         "x": [
          1.0,
          14.0
         ],
         "y": [
          0.07374631268436578,
          0.07374631268436578
         ],
         "type": "scatter"
        }
       ],
       "layout": {
        "template": {
         "data": {
          "histogram2dcontour": [
           {
            "type": "histogram2dcontour",
            "colorbar": {
             "outlinewidth": 0,
             "ticks": ""
            },
            "colorscale": [
             [
              0.0,
              "#0d0887"
             ],
             [
              0.1111111111111111,
              "#46039f"
             ],
             [
              0.2222222222222222,
              "#7201a8"
             ],
             [
              0.3333333333333333,
              "#9c179e"
             ],
             [
              0.4444444444444444,
              "#bd3786"
             ],
             [
              0.5555555555555556,
              "#d8576b"
             ],
             [
              0.6666666666666666,
              "#ed7953"
             ],
             [
              0.7777777777777778,
              "#fb9f3a"
             ],
             [
              0.8888888888888888,
              "#fdca26"
             ],
             [
              1.0,
              "#f0f921"
             ]
            ]
           }
          ],
          "choropleth": [
           {
            "type": "choropleth",
            "colorbar": {
             "outlinewidth": 0,
             "ticks": ""
            }
           }
          ],
          "histogram2d": [
           {
            "type": "histogram2d",
            "colorbar": {
             "outlinewidth": 0,
             "ticks": ""
            },
            "colorscale": [
             [
              0.0,
              "#0d0887"
             ],
             [
              0.1111111111111111,
              "#46039f"
             ],
             [
              0.2222222222222222,
              "#7201a8"
             ],
             [
              0.3333333333333333,
              "#9c179e"
             ],
             [
              0.4444444444444444,
              "#bd3786"
             ],
             [
              0.5555555555555556,
              "#d8576b"
             ],
             [
              0.6666666666666666,
              "#ed7953"
             ],
             [
              0.7777777777777778,
              "#fb9f3a"
             ],
             [
              0.8888888888888888,
              "#fdca26"
             ],
             [
              1.0,
              "#f0f921"
             ]
            ]
           }
          ],
          "heatmap": [
           {
            "type": "heatmap",
            "colorbar": {
             "outlinewidth": 0,
             "ticks": ""
            },
            "colorscale": [
             [
              0.0,
              "#0d0887"
             ],
             [
              0.1111111111111111,
              "#46039f"
             ],
             [
              0.2222222222222222,
              "#7201a8"
             ],
             [
              0.3333333333333333,
              "#9c179e"
             ],
             [
              0.4444444444444444,
              "#bd3786"
             ],
             [
              0.5555555555555556,
              "#d8576b"
             ],
             [
              0.6666666666666666,
              "#ed7953"
             ],
             [
              0.7777777777777778,
              "#fb9f3a"
             ],
             [
              0.8888888888888888,
              "#fdca26"
             ],
             [
              1.0,
              "#f0f921"
             ]
            ]
           }
          ],
          "heatmapgl": [
           {
            "type": "heatmapgl",
            "colorbar": {
             "outlinewidth": 0,
             "ticks": ""
            },
            "colorscale": [
             [
              0.0,
              "#0d0887"
             ],
             [
              0.1111111111111111,
              "#46039f"
             ],
             [
              0.2222222222222222,
              "#7201a8"
             ],
             [
              0.3333333333333333,
              "#9c179e"
             ],
             [
              0.4444444444444444,
              "#bd3786"
             ],
             [
              0.5555555555555556,
              "#d8576b"
             ],
             [
              0.6666666666666666,
              "#ed7953"
             ],
             [
              0.7777777777777778,
              "#fb9f3a"
             ],
             [
              0.8888888888888888,
              "#fdca26"
             ],
             [
              1.0,
              "#f0f921"
             ]
            ]
           }
          ],
          "contourcarpet": [
           {
            "type": "contourcarpet",
            "colorbar": {
             "outlinewidth": 0,
             "ticks": ""
            }
           }
          ],
          "contour": [
           {
            "type": "contour",
            "colorbar": {
             "outlinewidth": 0,
             "ticks": ""
            },
            "colorscale": [
             [
              0.0,
              "#0d0887"
             ],
             [
              0.1111111111111111,
              "#46039f"
             ],
             [
              0.2222222222222222,
              "#7201a8"
             ],
             [
              0.3333333333333333,
              "#9c179e"
             ],
             [
              0.4444444444444444,
              "#bd3786"
             ],
             [
              0.5555555555555556,
              "#d8576b"
             ],
             [
              0.6666666666666666,
              "#ed7953"
             ],
             [
              0.7777777777777778,
              "#fb9f3a"
             ],
             [
              0.8888888888888888,
              "#fdca26"
             ],
             [
              1.0,
              "#f0f921"
             ]
            ]
           }
          ],
          "surface": [
           {
            "type": "surface",
            "colorbar": {
             "outlinewidth": 0,
             "ticks": ""
            },
            "colorscale": [
             [
              0.0,
              "#0d0887"
             ],
             [
              0.1111111111111111,
              "#46039f"
             ],
             [
              0.2222222222222222,
              "#7201a8"
             ],
             [
              0.3333333333333333,
              "#9c179e"
             ],
             [
              0.4444444444444444,
              "#bd3786"
             ],
             [
              0.5555555555555556,
              "#d8576b"
             ],
             [
              0.6666666666666666,
              "#ed7953"
             ],
             [
              0.7777777777777778,
              "#fb9f3a"
             ],
             [
              0.8888888888888888,
              "#fdca26"
             ],
             [
              1.0,
              "#f0f921"
             ]
            ]
           }
          ],
          "mesh3d": [
           {
            "type": "mesh3d",
            "colorbar": {
             "outlinewidth": 0,
             "ticks": ""
            }
           }
          ],
          "scatter": [
           {
            "marker": {
             "line": {
              "color": "#283442"
             }
            },
            "type": "scatter"
           }
          ],
          "parcoords": [
           {
            "type": "parcoords",
            "line": {
             "colorbar": {
              "outlinewidth": 0,
              "ticks": ""
             }
            }
           }
          ],
          "scatterpolargl": [
           {
            "type": "scatterpolargl",
            "marker": {
             "colorbar": {
              "outlinewidth": 0,
              "ticks": ""
             }
            }
           }
          ],
          "bar": [
           {
            "error_x": {
             "color": "#f2f5fa"
            },
            "error_y": {
             "color": "#f2f5fa"
            },
            "marker": {
             "line": {
              "color": "rgb(17,17,17)",
              "width": 0.5
             },
             "pattern": {
              "fillmode": "overlay",
              "size": 10,
              "solidity": 0.2
             }
            },
            "type": "bar"
           }
          ],
          "scattergeo": [
           {
            "type": "scattergeo",
            "marker": {
             "colorbar": {
              "outlinewidth": 0,
              "ticks": ""
             }
            }
           }
          ],
          "scatterpolar": [
           {
            "type": "scatterpolar",
            "marker": {
             "colorbar": {
              "outlinewidth": 0,
              "ticks": ""
             }
            }
           }
          ],
          "histogram": [
           {
            "marker": {
             "pattern": {
              "fillmode": "overlay",
              "size": 10,
              "solidity": 0.2
             }
            },
            "type": "histogram"
           }
          ],
          "scattergl": [
           {
            "marker": {
             "line": {
              "color": "#283442"
             }
            },
            "type": "scattergl"
           }
          ],
          "scatter3d": [
           {
            "type": "scatter3d",
            "line": {
             "colorbar": {
              "outlinewidth": 0,
              "ticks": ""
             }
            },
            "marker": {
             "colorbar": {
              "outlinewidth": 0,
              "ticks": ""
             }
            }
           }
          ],
          "scattermapbox": [
           {
            "type": "scattermapbox",
            "marker": {
             "colorbar": {
              "outlinewidth": 0,
              "ticks": ""
             }
            }
           }
          ],
          "scatterternary": [
           {
            "type": "scatterternary",
            "marker": {
             "colorbar": {
              "outlinewidth": 0,
              "ticks": ""
             }
            }
           }
          ],
          "scattercarpet": [
           {
            "type": "scattercarpet",
            "marker": {
             "colorbar": {
              "outlinewidth": 0,
              "ticks": ""
             }
            }
           }
          ],
          "carpet": [
           {
            "aaxis": {
             "endlinecolor": "#A2B1C6",
             "gridcolor": "#506784",
             "linecolor": "#506784",
             "minorgridcolor": "#506784",
             "startlinecolor": "#A2B1C6"
            },
            "baxis": {
             "endlinecolor": "#A2B1C6",
             "gridcolor": "#506784",
             "linecolor": "#506784",
             "minorgridcolor": "#506784",
             "startlinecolor": "#A2B1C6"
            },
            "type": "carpet"
           }
          ],
          "table": [
           {
            "cells": {
             "fill": {
              "color": "#506784"
             },
             "line": {
              "color": "rgb(17,17,17)"
             }
            },
            "header": {
             "fill": {
              "color": "#2a3f5f"
             },
             "line": {
              "color": "rgb(17,17,17)"
             }
            },
            "type": "table"
           }
          ],
          "barpolar": [
           {
            "marker": {
             "line": {
              "color": "rgb(17,17,17)",
              "width": 0.5
             },
             "pattern": {
              "fillmode": "overlay",
              "size": 10,
              "solidity": 0.2
             }
            },
            "type": "barpolar"
           }
          ],
          "pie": [
           {
            "automargin": true,
            "type": "pie"
           }
          ]
         },
         "layout": {
          "autotypenumbers": "strict",
          "colorway": [
           "#636efa",
           "#EF553B",
           "#00cc96",
           "#ab63fa",
           "#FFA15A",
           "#19d3f3",
           "#FF6692",
           "#B6E880",
           "#FF97FF",
           "#FECB52"
          ],
          "font": {
           "color": "#f2f5fa"
          },
          "hovermode": "closest",
          "hoverlabel": {
           "align": "left"
          },
          "paper_bgcolor": "rgb(17,17,17)",
          "plot_bgcolor": "rgb(17,17,17)",
          "polar": {
           "bgcolor": "rgb(17,17,17)",
           "angularaxis": {
            "gridcolor": "#506784",
            "linecolor": "#506784",
            "ticks": ""
           },
           "radialaxis": {
            "gridcolor": "#506784",
            "linecolor": "#506784",
            "ticks": ""
           }
          },
          "ternary": {
           "bgcolor": "rgb(17,17,17)",
           "aaxis": {
            "gridcolor": "#506784",
            "linecolor": "#506784",
            "ticks": ""
           },
           "baxis": {
            "gridcolor": "#506784",
            "linecolor": "#506784",
            "ticks": ""
           },
           "caxis": {
            "gridcolor": "#506784",
            "linecolor": "#506784",
            "ticks": ""
           }
          },
          "coloraxis": {
           "colorbar": {
            "outlinewidth": 0,
            "ticks": ""
           }
          },
          "colorscale": {
           "sequential": [
            [
             0.0,
             "#0d0887"
            ],
            [
             0.1111111111111111,
             "#46039f"
            ],
            [
             0.2222222222222222,
             "#7201a8"
            ],
            [
             0.3333333333333333,
             "#9c179e"
            ],
            [
             0.4444444444444444,
             "#bd3786"
            ],
            [
             0.5555555555555556,
             "#d8576b"
            ],
            [
             0.6666666666666666,
             "#ed7953"
            ],
            [
             0.7777777777777778,
             "#fb9f3a"
            ],
            [
             0.8888888888888888,
             "#fdca26"
            ],
            [
             1.0,
             "#f0f921"
            ]
           ],
           "sequentialminus": [
            [
             0.0,
             "#0d0887"
            ],
            [
             0.1111111111111111,
             "#46039f"
            ],
            [
             0.2222222222222222,
             "#7201a8"
            ],
            [
             0.3333333333333333,
             "#9c179e"
            ],
            [
             0.4444444444444444,
             "#bd3786"
            ],
            [
             0.5555555555555556,
             "#d8576b"
            ],
            [
             0.6666666666666666,
             "#ed7953"
            ],
            [
             0.7777777777777778,
             "#fb9f3a"
            ],
            [
             0.8888888888888888,
             "#fdca26"
            ],
            [
             1.0,
             "#f0f921"
            ]
           ],
           "diverging": [
            [
             0,
             "#8e0152"
            ],
            [
             0.1,
             "#c51b7d"
            ],
            [
             0.2,
             "#de77ae"
            ],
            [
             0.3,
             "#f1b6da"
            ],
            [
             0.4,
             "#fde0ef"
            ],
            [
             0.5,
             "#f7f7f7"
            ],
            [
             0.6,
             "#e6f5d0"
            ],
            [
             0.7,
             "#b8e186"
            ],
            [
             0.8,
             "#7fbc41"
            ],
            [
             0.9,
             "#4d9221"
            ],
            [
             1,
             "#276419"
            ]
           ]
          },
          "xaxis": {
           "gridcolor": "#283442",
           "linecolor": "#506784",
           "ticks": "",
           "title": {
            "standoff": 15
           },
           "zerolinecolor": "#283442",
           "automargin": true,
           "zerolinewidth": 2
          },
          "yaxis": {
           "gridcolor": "#283442",
           "linecolor": "#506784",
           "ticks": "",
           "title": {
            "standoff": 15
           },
           "zerolinecolor": "#283442",
           "automargin": true,
           "zerolinewidth": 2
          },
          "scene": {
           "xaxis": {
            "backgroundcolor": "rgb(17,17,17)",
            "gridcolor": "#506784",
            "linecolor": "#506784",
            "showbackground": true,
            "ticks": "",
            "zerolinecolor": "#C8D4E3",
            "gridwidth": 2
           },
           "yaxis": {
            "backgroundcolor": "rgb(17,17,17)",
            "gridcolor": "#506784",
            "linecolor": "#506784",
            "showbackground": true,
            "ticks": "",
            "zerolinecolor": "#C8D4E3",
            "gridwidth": 2
           },
           "zaxis": {
            "backgroundcolor": "rgb(17,17,17)",
            "gridcolor": "#506784",
            "linecolor": "#506784",
            "showbackground": true,
            "ticks": "",
            "zerolinecolor": "#C8D4E3",
            "gridwidth": 2
           }
          },
          "shapedefaults": {
           "line": {
            "color": "#f2f5fa"
           }
          },
          "annotationdefaults": {
           "arrowcolor": "#f2f5fa",
           "arrowhead": 0,
           "arrowwidth": 1
          },
          "geo": {
           "bgcolor": "rgb(17,17,17)",
           "landcolor": "rgb(17,17,17)",
           "subunitcolor": "#506784",
           "showland": true,
           "showlakes": true,
           "lakecolor": "rgb(17,17,17)"
          },
          "title": {
           "x": 0.05
          },
          "updatemenudefaults": {
           "bgcolor": "#506784",
           "borderwidth": 0
          },
          "sliderdefaults": {
           "bgcolor": "#C8D4E3",
           "borderwidth": 1,
           "bordercolor": "rgb(17,17,17)",
           "tickwidth": 0
          },
          "mapbox": {
           "style": "dark"
          }
         }
        },
        "xaxis": {
         "anchor": "y",
         "domain": [
          0.0,
          1.0
         ],
         "title": {
          "text": "Felvételiző létszám"
         }
        },
        "yaxis": {
         "anchor": "x",
         "domain": [
          0.0,
          1.0
         ],
         "title": {
          "text": "Felvételi ráta"
         }
        },
        "legend": {
         "tracegroupgap": 0
        },
        "title": {
         "text": "Felvételi arányszámok"
        }
       },
       "config": {
        "plotlyServerURL": "https://plot.ly"
       }
      },
      "text/html": "<div>                            <div id=\"edfe7a02-1c57-4cd3-81cf-f68dc7489924\" class=\"plotly-graph-div\" style=\"height:525px; width:100%;\"></div>            <script type=\"text/javascript\">                require([\"plotly\"], function(Plotly) {                    window.PLOTLYENV=window.PLOTLYENV || {};                                    if (document.getElementById(\"edfe7a02-1c57-4cd3-81cf-f68dc7489924\")) {                    Plotly.newPlot(                        \"edfe7a02-1c57-4cd3-81cf-f68dc7489924\",                        [{\"customdata\":[[2.0],[2.0],[5.0],[2.0],[1.0],[1.0],[3.0],[6.0],[1.0],[2.0],[2.0],[1.0],[1.0],[6.0],[2.0],[6.0],[2.0],[2.0]],\"hovertemplate\":\"<b>%{hovertext}</b><br><br>Felv\\u00e9teliz\\u0151 l\\u00e9tsz\\u00e1m=%{x}<br>Felv\\u00e9teli r\\u00e1ta=%{y}<br>Felvett hallgat\\u00f3=%{customdata[0]}<extra></extra>\",\"hovertext\":[\"7_alkalmas_\\u0151szi_2022, 7 alkalmas textil\",\"7_alkalmas_\\u0151szi_2022, 7 alklamas rajz\",\"el\\u0151k\\u00e9sz\\u00edt\\u0151_2022, formatervez\\u00e9s\",\"el\\u0151k\\u00e9sz\\u00edt\\u0151_2022, fotogr\\u00e1fia\",\"el\\u0151k\\u00e9sz\\u00edt\\u0151_2022, m\\u00e9dia design\",\"el\\u0151k\\u00e9sz\\u00edt\\u0151_2022, rajzb\\u00e9rlet 10 alkalmas \",\"el\\u0151k\\u00e9sz\\u00edt\\u0151_2022, rajzb\\u00e9rlet 19 alkalmas \",\"el\\u0151k\\u00e9sz\\u00edt\\u0151_2022, tervez\\u0151grafika - halad\\u00f3\",\"el\\u0151k\\u00e9sz\\u00edt\\u0151_2022, tervez\\u0151grafika - kezd\\u0151\",\"el\\u0151k\\u00e9sz\\u00edt\\u0151_2022, textiltervez\\u00e9s\",\"el\\u0151k\\u00e9sz\\u00edt\\u0151_2022, t\\u00e1rgyalkot\\u00e1s\",\"intenz\\u00edv 2022, rajz\",\"intenz\\u00edv 2022, textil szakir\\u00e1ny\",\"intenz\\u00edv 2023, formatervez\\u00e9s\",\"intenz\\u00edv 2023, m\\u00e9dia design\",\"intenz\\u00edv 2023, tervez\\u0151grafika\",\"intenz\\u00edv 2023, textiltervez\\u00e9s\",\"intenz\\u00edv 2023, t\\u00e1rgyalkot\\u00e1s\"],\"legendgroup\":\"\",\"marker\":{\"color\":\"blue\",\"symbol\":\"circle\"},\"mode\":\"markers\",\"name\":\"\",\"orientation\":\"v\",\"showlegend\":false,\"x\":[9.0,14.0,10.0,5.0,12.0,10.0,13.0,8.0,6.0,8.0,4.0,2.0,2.0,8.0,4.0,7.0,3.0,3.0],\"xaxis\":\"x\",\"y\":[0.2222222222222222,0.14285714285714285,0.5,0.4,0.08333333333333333,0.1,0.23076923076923078,0.75,0.16666666666666666,0.25,0.5,0.5,0.5,0.75,0.5,0.8571428571428571,0.6666666666666666,0.6666666666666666],\"yaxis\":\"y\",\"type\":\"scatter\"},{\"customdata\":[[0.0],[0.0],[0.0],[0.0],[0.0],[0.0]],\"hovertemplate\":\"<b>%{hovertext}</b><br><br>Felv\\u00e9teliz\\u0151 l\\u00e9tsz\\u00e1m=%{x}<br>Felv\\u00e9teli r\\u00e1ta=%{y}<br>Felvett hallgat\\u00f3=%{customdata[0]}<extra></extra>\",\"hovertext\":[\"el\\u0151k\\u00e9sz\\u00edt\\u0151_2022, anim\\u00e1ci\\u00f3\",\"el\\u0151k\\u00e9sz\\u00edt\\u0151_2022, d\\u00e9lel\\u0151tti rajz\",\"el\\u0151k\\u00e9sz\\u00edt\\u0151_2022, \\u00e9p\\u00edt\\u00e9szet\",\"intenz\\u00edv 2022, anim\\u00e1ci\\u00f3 szakir\\u00e1ny\",\"intenz\\u00edv 2022, tervez\\u0151grafika szakir\\u00e1ny\",\"intenz\\u00edv 2023, rajz\"],\"legendgroup\":\"\",\"marker\":{\"color\":\"red\",\"symbol\":\"circle\"},\"mode\":\"markers\",\"name\":\"\",\"orientation\":\"v\",\"showlegend\":false,\"x\":[14.0,4.0,10.0,2.0,1.0,1.0],\"xaxis\":\"x\",\"y\":[0.0,0.0,0.0,0.0,0.0,0.0],\"yaxis\":\"y\",\"type\":\"scatter\"},{\"customdata\":[[3.0],[1.0],[1.0]],\"hovertemplate\":\"<b>%{hovertext}</b><br><br>Felv\\u00e9teliz\\u0151 l\\u00e9tsz\\u00e1m=%{x}<br>Felv\\u00e9teli r\\u00e1ta=%{y}<br>Felvett hallgat\\u00f3=%{customdata[0]}<extra></extra>\",\"hovertext\":[\"el\\u0151k\\u00e9sz\\u00edt\\u0151_2022, designkult\\u00fara\",\"intenz\\u00edv 2022, formatervez\\u00e9s szakir\\u00e1ny\",\"intenz\\u00edv 2022, fotogr\\u00e1fia szakir\\u00e1ny\"],\"legendgroup\":\"\",\"marker\":{\"color\":\"green\",\"symbol\":\"circle\"},\"mode\":\"markers\",\"name\":\"\",\"orientation\":\"v\",\"showlegend\":false,\"x\":[3.0,1.0,1.0],\"xaxis\":\"x\",\"y\":[1.0,1.0,1.0],\"yaxis\":\"y\",\"type\":\"scatter\"},{\"hoverinfo\":\"name+y\",\"line\":{\"color\":\"yellow\",\"width\":2},\"mode\":\"lines\",\"name\":\"nem j\\u00e1rt\",\"x\":[1.0,14.0],\"y\":[0.07374631268436578,0.07374631268436578],\"type\":\"scatter\"}],                        {\"template\":{\"data\":{\"histogram2dcontour\":[{\"type\":\"histogram2dcontour\",\"colorbar\":{\"outlinewidth\":0,\"ticks\":\"\"},\"colorscale\":[[0.0,\"#0d0887\"],[0.1111111111111111,\"#46039f\"],[0.2222222222222222,\"#7201a8\"],[0.3333333333333333,\"#9c179e\"],[0.4444444444444444,\"#bd3786\"],[0.5555555555555556,\"#d8576b\"],[0.6666666666666666,\"#ed7953\"],[0.7777777777777778,\"#fb9f3a\"],[0.8888888888888888,\"#fdca26\"],[1.0,\"#f0f921\"]]}],\"choropleth\":[{\"type\":\"choropleth\",\"colorbar\":{\"outlinewidth\":0,\"ticks\":\"\"}}],\"histogram2d\":[{\"type\":\"histogram2d\",\"colorbar\":{\"outlinewidth\":0,\"ticks\":\"\"},\"colorscale\":[[0.0,\"#0d0887\"],[0.1111111111111111,\"#46039f\"],[0.2222222222222222,\"#7201a8\"],[0.3333333333333333,\"#9c179e\"],[0.4444444444444444,\"#bd3786\"],[0.5555555555555556,\"#d8576b\"],[0.6666666666666666,\"#ed7953\"],[0.7777777777777778,\"#fb9f3a\"],[0.8888888888888888,\"#fdca26\"],[1.0,\"#f0f921\"]]}],\"heatmap\":[{\"type\":\"heatmap\",\"colorbar\":{\"outlinewidth\":0,\"ticks\":\"\"},\"colorscale\":[[0.0,\"#0d0887\"],[0.1111111111111111,\"#46039f\"],[0.2222222222222222,\"#7201a8\"],[0.3333333333333333,\"#9c179e\"],[0.4444444444444444,\"#bd3786\"],[0.5555555555555556,\"#d8576b\"],[0.6666666666666666,\"#ed7953\"],[0.7777777777777778,\"#fb9f3a\"],[0.8888888888888888,\"#fdca26\"],[1.0,\"#f0f921\"]]}],\"heatmapgl\":[{\"type\":\"heatmapgl\",\"colorbar\":{\"outlinewidth\":0,\"ticks\":\"\"},\"colorscale\":[[0.0,\"#0d0887\"],[0.1111111111111111,\"#46039f\"],[0.2222222222222222,\"#7201a8\"],[0.3333333333333333,\"#9c179e\"],[0.4444444444444444,\"#bd3786\"],[0.5555555555555556,\"#d8576b\"],[0.6666666666666666,\"#ed7953\"],[0.7777777777777778,\"#fb9f3a\"],[0.8888888888888888,\"#fdca26\"],[1.0,\"#f0f921\"]]}],\"contourcarpet\":[{\"type\":\"contourcarpet\",\"colorbar\":{\"outlinewidth\":0,\"ticks\":\"\"}}],\"contour\":[{\"type\":\"contour\",\"colorbar\":{\"outlinewidth\":0,\"ticks\":\"\"},\"colorscale\":[[0.0,\"#0d0887\"],[0.1111111111111111,\"#46039f\"],[0.2222222222222222,\"#7201a8\"],[0.3333333333333333,\"#9c179e\"],[0.4444444444444444,\"#bd3786\"],[0.5555555555555556,\"#d8576b\"],[0.6666666666666666,\"#ed7953\"],[0.7777777777777778,\"#fb9f3a\"],[0.8888888888888888,\"#fdca26\"],[1.0,\"#f0f921\"]]}],\"surface\":[{\"type\":\"surface\",\"colorbar\":{\"outlinewidth\":0,\"ticks\":\"\"},\"colorscale\":[[0.0,\"#0d0887\"],[0.1111111111111111,\"#46039f\"],[0.2222222222222222,\"#7201a8\"],[0.3333333333333333,\"#9c179e\"],[0.4444444444444444,\"#bd3786\"],[0.5555555555555556,\"#d8576b\"],[0.6666666666666666,\"#ed7953\"],[0.7777777777777778,\"#fb9f3a\"],[0.8888888888888888,\"#fdca26\"],[1.0,\"#f0f921\"]]}],\"mesh3d\":[{\"type\":\"mesh3d\",\"colorbar\":{\"outlinewidth\":0,\"ticks\":\"\"}}],\"scatter\":[{\"marker\":{\"line\":{\"color\":\"#283442\"}},\"type\":\"scatter\"}],\"parcoords\":[{\"type\":\"parcoords\",\"line\":{\"colorbar\":{\"outlinewidth\":0,\"ticks\":\"\"}}}],\"scatterpolargl\":[{\"type\":\"scatterpolargl\",\"marker\":{\"colorbar\":{\"outlinewidth\":0,\"ticks\":\"\"}}}],\"bar\":[{\"error_x\":{\"color\":\"#f2f5fa\"},\"error_y\":{\"color\":\"#f2f5fa\"},\"marker\":{\"line\":{\"color\":\"rgb(17,17,17)\",\"width\":0.5},\"pattern\":{\"fillmode\":\"overlay\",\"size\":10,\"solidity\":0.2}},\"type\":\"bar\"}],\"scattergeo\":[{\"type\":\"scattergeo\",\"marker\":{\"colorbar\":{\"outlinewidth\":0,\"ticks\":\"\"}}}],\"scatterpolar\":[{\"type\":\"scatterpolar\",\"marker\":{\"colorbar\":{\"outlinewidth\":0,\"ticks\":\"\"}}}],\"histogram\":[{\"marker\":{\"pattern\":{\"fillmode\":\"overlay\",\"size\":10,\"solidity\":0.2}},\"type\":\"histogram\"}],\"scattergl\":[{\"marker\":{\"line\":{\"color\":\"#283442\"}},\"type\":\"scattergl\"}],\"scatter3d\":[{\"type\":\"scatter3d\",\"line\":{\"colorbar\":{\"outlinewidth\":0,\"ticks\":\"\"}},\"marker\":{\"colorbar\":{\"outlinewidth\":0,\"ticks\":\"\"}}}],\"scattermapbox\":[{\"type\":\"scattermapbox\",\"marker\":{\"colorbar\":{\"outlinewidth\":0,\"ticks\":\"\"}}}],\"scatterternary\":[{\"type\":\"scatterternary\",\"marker\":{\"colorbar\":{\"outlinewidth\":0,\"ticks\":\"\"}}}],\"scattercarpet\":[{\"type\":\"scattercarpet\",\"marker\":{\"colorbar\":{\"outlinewidth\":0,\"ticks\":\"\"}}}],\"carpet\":[{\"aaxis\":{\"endlinecolor\":\"#A2B1C6\",\"gridcolor\":\"#506784\",\"linecolor\":\"#506784\",\"minorgridcolor\":\"#506784\",\"startlinecolor\":\"#A2B1C6\"},\"baxis\":{\"endlinecolor\":\"#A2B1C6\",\"gridcolor\":\"#506784\",\"linecolor\":\"#506784\",\"minorgridcolor\":\"#506784\",\"startlinecolor\":\"#A2B1C6\"},\"type\":\"carpet\"}],\"table\":[{\"cells\":{\"fill\":{\"color\":\"#506784\"},\"line\":{\"color\":\"rgb(17,17,17)\"}},\"header\":{\"fill\":{\"color\":\"#2a3f5f\"},\"line\":{\"color\":\"rgb(17,17,17)\"}},\"type\":\"table\"}],\"barpolar\":[{\"marker\":{\"line\":{\"color\":\"rgb(17,17,17)\",\"width\":0.5},\"pattern\":{\"fillmode\":\"overlay\",\"size\":10,\"solidity\":0.2}},\"type\":\"barpolar\"}],\"pie\":[{\"automargin\":true,\"type\":\"pie\"}]},\"layout\":{\"autotypenumbers\":\"strict\",\"colorway\":[\"#636efa\",\"#EF553B\",\"#00cc96\",\"#ab63fa\",\"#FFA15A\",\"#19d3f3\",\"#FF6692\",\"#B6E880\",\"#FF97FF\",\"#FECB52\"],\"font\":{\"color\":\"#f2f5fa\"},\"hovermode\":\"closest\",\"hoverlabel\":{\"align\":\"left\"},\"paper_bgcolor\":\"rgb(17,17,17)\",\"plot_bgcolor\":\"rgb(17,17,17)\",\"polar\":{\"bgcolor\":\"rgb(17,17,17)\",\"angularaxis\":{\"gridcolor\":\"#506784\",\"linecolor\":\"#506784\",\"ticks\":\"\"},\"radialaxis\":{\"gridcolor\":\"#506784\",\"linecolor\":\"#506784\",\"ticks\":\"\"}},\"ternary\":{\"bgcolor\":\"rgb(17,17,17)\",\"aaxis\":{\"gridcolor\":\"#506784\",\"linecolor\":\"#506784\",\"ticks\":\"\"},\"baxis\":{\"gridcolor\":\"#506784\",\"linecolor\":\"#506784\",\"ticks\":\"\"},\"caxis\":{\"gridcolor\":\"#506784\",\"linecolor\":\"#506784\",\"ticks\":\"\"}},\"coloraxis\":{\"colorbar\":{\"outlinewidth\":0,\"ticks\":\"\"}},\"colorscale\":{\"sequential\":[[0.0,\"#0d0887\"],[0.1111111111111111,\"#46039f\"],[0.2222222222222222,\"#7201a8\"],[0.3333333333333333,\"#9c179e\"],[0.4444444444444444,\"#bd3786\"],[0.5555555555555556,\"#d8576b\"],[0.6666666666666666,\"#ed7953\"],[0.7777777777777778,\"#fb9f3a\"],[0.8888888888888888,\"#fdca26\"],[1.0,\"#f0f921\"]],\"sequentialminus\":[[0.0,\"#0d0887\"],[0.1111111111111111,\"#46039f\"],[0.2222222222222222,\"#7201a8\"],[0.3333333333333333,\"#9c179e\"],[0.4444444444444444,\"#bd3786\"],[0.5555555555555556,\"#d8576b\"],[0.6666666666666666,\"#ed7953\"],[0.7777777777777778,\"#fb9f3a\"],[0.8888888888888888,\"#fdca26\"],[1.0,\"#f0f921\"]],\"diverging\":[[0,\"#8e0152\"],[0.1,\"#c51b7d\"],[0.2,\"#de77ae\"],[0.3,\"#f1b6da\"],[0.4,\"#fde0ef\"],[0.5,\"#f7f7f7\"],[0.6,\"#e6f5d0\"],[0.7,\"#b8e186\"],[0.8,\"#7fbc41\"],[0.9,\"#4d9221\"],[1,\"#276419\"]]},\"xaxis\":{\"gridcolor\":\"#283442\",\"linecolor\":\"#506784\",\"ticks\":\"\",\"title\":{\"standoff\":15},\"zerolinecolor\":\"#283442\",\"automargin\":true,\"zerolinewidth\":2},\"yaxis\":{\"gridcolor\":\"#283442\",\"linecolor\":\"#506784\",\"ticks\":\"\",\"title\":{\"standoff\":15},\"zerolinecolor\":\"#283442\",\"automargin\":true,\"zerolinewidth\":2},\"scene\":{\"xaxis\":{\"backgroundcolor\":\"rgb(17,17,17)\",\"gridcolor\":\"#506784\",\"linecolor\":\"#506784\",\"showbackground\":true,\"ticks\":\"\",\"zerolinecolor\":\"#C8D4E3\",\"gridwidth\":2},\"yaxis\":{\"backgroundcolor\":\"rgb(17,17,17)\",\"gridcolor\":\"#506784\",\"linecolor\":\"#506784\",\"showbackground\":true,\"ticks\":\"\",\"zerolinecolor\":\"#C8D4E3\",\"gridwidth\":2},\"zaxis\":{\"backgroundcolor\":\"rgb(17,17,17)\",\"gridcolor\":\"#506784\",\"linecolor\":\"#506784\",\"showbackground\":true,\"ticks\":\"\",\"zerolinecolor\":\"#C8D4E3\",\"gridwidth\":2}},\"shapedefaults\":{\"line\":{\"color\":\"#f2f5fa\"}},\"annotationdefaults\":{\"arrowcolor\":\"#f2f5fa\",\"arrowhead\":0,\"arrowwidth\":1},\"geo\":{\"bgcolor\":\"rgb(17,17,17)\",\"landcolor\":\"rgb(17,17,17)\",\"subunitcolor\":\"#506784\",\"showland\":true,\"showlakes\":true,\"lakecolor\":\"rgb(17,17,17)\"},\"title\":{\"x\":0.05},\"updatemenudefaults\":{\"bgcolor\":\"#506784\",\"borderwidth\":0},\"sliderdefaults\":{\"bgcolor\":\"#C8D4E3\",\"borderwidth\":1,\"bordercolor\":\"rgb(17,17,17)\",\"tickwidth\":0},\"mapbox\":{\"style\":\"dark\"}}},\"xaxis\":{\"anchor\":\"y\",\"domain\":[0.0,1.0],\"title\":{\"text\":\"Felv\\u00e9teliz\\u0151 l\\u00e9tsz\\u00e1m\"}},\"yaxis\":{\"anchor\":\"x\",\"domain\":[0.0,1.0],\"title\":{\"text\":\"Felv\\u00e9teli r\\u00e1ta\"}},\"legend\":{\"tracegroupgap\":0},\"title\":{\"text\":\"Felv\\u00e9teli ar\\u00e1nysz\\u00e1mok\"}},                        {\"responsive\": true}                    ).then(function(){\n                            \nvar gd = document.getElementById('edfe7a02-1c57-4cd3-81cf-f68dc7489924');\nvar x = new MutationObserver(function (mutations, observer) {{\n        var display = window.getComputedStyle(gd).display;\n        if (!display || display === 'none') {{\n            console.log([gd, 'removed!']);\n            Plotly.purge(gd);\n            observer.disconnect();\n        }}\n}});\n\n// Listen for the removal of the full notebook cells\nvar notebookContainer = gd.closest('#notebook-container');\nif (notebookContainer) {{\n    x.observe(notebookContainer, {childList: true});\n}}\n\n// Listen for the clearing of the current output cell\nvar outputEl = gd.closest('.output');\nif (outputEl) {{\n    x.observe(outputEl, {childList: true});\n}}\n\n                        })                };                });            </script>        </div>"
     },
     "metadata": {},
     "output_type": "display_data"
    },
    {
     "name": "stdout",
     "output_type": "stream",
     "text": [
      "Kurzus típusok szerint (harmonizáltan)\n"
     ]
    },
    {
     "data": {
      "application/vnd.plotly.v1+json": {
       "data": [
        {
         "customdata": [
          [
           0.0
          ],
          [
           0.0
          ]
         ],
         "hovertemplate": "<b>%{hovertext}</b><br><br>Teljes létszám=%{x}<br>Jelentkezési ráta=%{y}<br>Jelentkező hallgató=%{customdata[0]}<extra></extra>",
         "hovertext": [
          "animáció",
          "építészet"
         ],
         "legendgroup": "",
         "marker": {
          "color": "red",
          "symbol": "circle"
         },
         "mode": "markers",
         "name": "",
         "orientation": "v",
         "showlegend": false,
         "x": [
          21.0,
          13.0
         ],
         "xaxis": "x",
         "y": [
          0.0,
          0.0
         ],
         "yaxis": "y",
         "type": "scatter"
        },
        {
         "customdata": [
          [
           3.0
          ],
          [
           18.0
          ],
          [
           1.0
          ],
          [
           6.0
          ],
          [
           16.0
          ],
          [
           44.0
          ],
          [
           22.0
          ],
          [
           22.0
          ],
          [
           7.0
          ]
         ],
         "hovertemplate": "<b>%{hovertext}</b><br><br>Teljes létszám=%{x}<br>Jelentkezési ráta=%{y}<br>Jelentkező hallgató=%{customdata[0]}<extra></extra>",
         "hovertext": [
          "designkultúra",
          "formatervezés",
          "formatervezés szakirány",
          "fotográfia",
          "média design",
          "rajz",
          "tervezőgrafika",
          "textiltervezés",
          "tárgyalkotás"
         ],
         "legendgroup": "",
         "marker": {
          "color": "blue",
          "symbol": "circle"
         },
         "mode": "markers",
         "name": "",
         "orientation": "v",
         "showlegend": false,
         "x": [
          4.0,
          20.0,
          4.0,
          12.0,
          17.0,
          94.0,
          38.0,
          44.0,
          9.0
         ],
         "xaxis": "x",
         "y": [
          0.75,
          0.9,
          0.25,
          0.5,
          0.9411764705882353,
          0.46808510638297873,
          0.5789473684210527,
          0.5,
          0.7777777777777778
         ],
         "yaxis": "y",
         "type": "scatter"
        }
       ],
       "layout": {
        "template": {
         "data": {
          "histogram2dcontour": [
           {
            "type": "histogram2dcontour",
            "colorbar": {
             "outlinewidth": 0,
             "ticks": ""
            },
            "colorscale": [
             [
              0.0,
              "#0d0887"
             ],
             [
              0.1111111111111111,
              "#46039f"
             ],
             [
              0.2222222222222222,
              "#7201a8"
             ],
             [
              0.3333333333333333,
              "#9c179e"
             ],
             [
              0.4444444444444444,
              "#bd3786"
             ],
             [
              0.5555555555555556,
              "#d8576b"
             ],
             [
              0.6666666666666666,
              "#ed7953"
             ],
             [
              0.7777777777777778,
              "#fb9f3a"
             ],
             [
              0.8888888888888888,
              "#fdca26"
             ],
             [
              1.0,
              "#f0f921"
             ]
            ]
           }
          ],
          "choropleth": [
           {
            "type": "choropleth",
            "colorbar": {
             "outlinewidth": 0,
             "ticks": ""
            }
           }
          ],
          "histogram2d": [
           {
            "type": "histogram2d",
            "colorbar": {
             "outlinewidth": 0,
             "ticks": ""
            },
            "colorscale": [
             [
              0.0,
              "#0d0887"
             ],
             [
              0.1111111111111111,
              "#46039f"
             ],
             [
              0.2222222222222222,
              "#7201a8"
             ],
             [
              0.3333333333333333,
              "#9c179e"
             ],
             [
              0.4444444444444444,
              "#bd3786"
             ],
             [
              0.5555555555555556,
              "#d8576b"
             ],
             [
              0.6666666666666666,
              "#ed7953"
             ],
             [
              0.7777777777777778,
              "#fb9f3a"
             ],
             [
              0.8888888888888888,
              "#fdca26"
             ],
             [
              1.0,
              "#f0f921"
             ]
            ]
           }
          ],
          "heatmap": [
           {
            "type": "heatmap",
            "colorbar": {
             "outlinewidth": 0,
             "ticks": ""
            },
            "colorscale": [
             [
              0.0,
              "#0d0887"
             ],
             [
              0.1111111111111111,
              "#46039f"
             ],
             [
              0.2222222222222222,
              "#7201a8"
             ],
             [
              0.3333333333333333,
              "#9c179e"
             ],
             [
              0.4444444444444444,
              "#bd3786"
             ],
             [
              0.5555555555555556,
              "#d8576b"
             ],
             [
              0.6666666666666666,
              "#ed7953"
             ],
             [
              0.7777777777777778,
              "#fb9f3a"
             ],
             [
              0.8888888888888888,
              "#fdca26"
             ],
             [
              1.0,
              "#f0f921"
             ]
            ]
           }
          ],
          "heatmapgl": [
           {
            "type": "heatmapgl",
            "colorbar": {
             "outlinewidth": 0,
             "ticks": ""
            },
            "colorscale": [
             [
              0.0,
              "#0d0887"
             ],
             [
              0.1111111111111111,
              "#46039f"
             ],
             [
              0.2222222222222222,
              "#7201a8"
             ],
             [
              0.3333333333333333,
              "#9c179e"
             ],
             [
              0.4444444444444444,
              "#bd3786"
             ],
             [
              0.5555555555555556,
              "#d8576b"
             ],
             [
              0.6666666666666666,
              "#ed7953"
             ],
             [
              0.7777777777777778,
              "#fb9f3a"
             ],
             [
              0.8888888888888888,
              "#fdca26"
             ],
             [
              1.0,
              "#f0f921"
             ]
            ]
           }
          ],
          "contourcarpet": [
           {
            "type": "contourcarpet",
            "colorbar": {
             "outlinewidth": 0,
             "ticks": ""
            }
           }
          ],
          "contour": [
           {
            "type": "contour",
            "colorbar": {
             "outlinewidth": 0,
             "ticks": ""
            },
            "colorscale": [
             [
              0.0,
              "#0d0887"
             ],
             [
              0.1111111111111111,
              "#46039f"
             ],
             [
              0.2222222222222222,
              "#7201a8"
             ],
             [
              0.3333333333333333,
              "#9c179e"
             ],
             [
              0.4444444444444444,
              "#bd3786"
             ],
             [
              0.5555555555555556,
              "#d8576b"
             ],
             [
              0.6666666666666666,
              "#ed7953"
             ],
             [
              0.7777777777777778,
              "#fb9f3a"
             ],
             [
              0.8888888888888888,
              "#fdca26"
             ],
             [
              1.0,
              "#f0f921"
             ]
            ]
           }
          ],
          "surface": [
           {
            "type": "surface",
            "colorbar": {
             "outlinewidth": 0,
             "ticks": ""
            },
            "colorscale": [
             [
              0.0,
              "#0d0887"
             ],
             [
              0.1111111111111111,
              "#46039f"
             ],
             [
              0.2222222222222222,
              "#7201a8"
             ],
             [
              0.3333333333333333,
              "#9c179e"
             ],
             [
              0.4444444444444444,
              "#bd3786"
             ],
             [
              0.5555555555555556,
              "#d8576b"
             ],
             [
              0.6666666666666666,
              "#ed7953"
             ],
             [
              0.7777777777777778,
              "#fb9f3a"
             ],
             [
              0.8888888888888888,
              "#fdca26"
             ],
             [
              1.0,
              "#f0f921"
             ]
            ]
           }
          ],
          "mesh3d": [
           {
            "type": "mesh3d",
            "colorbar": {
             "outlinewidth": 0,
             "ticks": ""
            }
           }
          ],
          "scatter": [
           {
            "marker": {
             "line": {
              "color": "#283442"
             }
            },
            "type": "scatter"
           }
          ],
          "parcoords": [
           {
            "type": "parcoords",
            "line": {
             "colorbar": {
              "outlinewidth": 0,
              "ticks": ""
             }
            }
           }
          ],
          "scatterpolargl": [
           {
            "type": "scatterpolargl",
            "marker": {
             "colorbar": {
              "outlinewidth": 0,
              "ticks": ""
             }
            }
           }
          ],
          "bar": [
           {
            "error_x": {
             "color": "#f2f5fa"
            },
            "error_y": {
             "color": "#f2f5fa"
            },
            "marker": {
             "line": {
              "color": "rgb(17,17,17)",
              "width": 0.5
             },
             "pattern": {
              "fillmode": "overlay",
              "size": 10,
              "solidity": 0.2
             }
            },
            "type": "bar"
           }
          ],
          "scattergeo": [
           {
            "type": "scattergeo",
            "marker": {
             "colorbar": {
              "outlinewidth": 0,
              "ticks": ""
             }
            }
           }
          ],
          "scatterpolar": [
           {
            "type": "scatterpolar",
            "marker": {
             "colorbar": {
              "outlinewidth": 0,
              "ticks": ""
             }
            }
           }
          ],
          "histogram": [
           {
            "marker": {
             "pattern": {
              "fillmode": "overlay",
              "size": 10,
              "solidity": 0.2
             }
            },
            "type": "histogram"
           }
          ],
          "scattergl": [
           {
            "marker": {
             "line": {
              "color": "#283442"
             }
            },
            "type": "scattergl"
           }
          ],
          "scatter3d": [
           {
            "type": "scatter3d",
            "line": {
             "colorbar": {
              "outlinewidth": 0,
              "ticks": ""
             }
            },
            "marker": {
             "colorbar": {
              "outlinewidth": 0,
              "ticks": ""
             }
            }
           }
          ],
          "scattermapbox": [
           {
            "type": "scattermapbox",
            "marker": {
             "colorbar": {
              "outlinewidth": 0,
              "ticks": ""
             }
            }
           }
          ],
          "scatterternary": [
           {
            "type": "scatterternary",
            "marker": {
             "colorbar": {
              "outlinewidth": 0,
              "ticks": ""
             }
            }
           }
          ],
          "scattercarpet": [
           {
            "type": "scattercarpet",
            "marker": {
             "colorbar": {
              "outlinewidth": 0,
              "ticks": ""
             }
            }
           }
          ],
          "carpet": [
           {
            "aaxis": {
             "endlinecolor": "#A2B1C6",
             "gridcolor": "#506784",
             "linecolor": "#506784",
             "minorgridcolor": "#506784",
             "startlinecolor": "#A2B1C6"
            },
            "baxis": {
             "endlinecolor": "#A2B1C6",
             "gridcolor": "#506784",
             "linecolor": "#506784",
             "minorgridcolor": "#506784",
             "startlinecolor": "#A2B1C6"
            },
            "type": "carpet"
           }
          ],
          "table": [
           {
            "cells": {
             "fill": {
              "color": "#506784"
             },
             "line": {
              "color": "rgb(17,17,17)"
             }
            },
            "header": {
             "fill": {
              "color": "#2a3f5f"
             },
             "line": {
              "color": "rgb(17,17,17)"
             }
            },
            "type": "table"
           }
          ],
          "barpolar": [
           {
            "marker": {
             "line": {
              "color": "rgb(17,17,17)",
              "width": 0.5
             },
             "pattern": {
              "fillmode": "overlay",
              "size": 10,
              "solidity": 0.2
             }
            },
            "type": "barpolar"
           }
          ],
          "pie": [
           {
            "automargin": true,
            "type": "pie"
           }
          ]
         },
         "layout": {
          "autotypenumbers": "strict",
          "colorway": [
           "#636efa",
           "#EF553B",
           "#00cc96",
           "#ab63fa",
           "#FFA15A",
           "#19d3f3",
           "#FF6692",
           "#B6E880",
           "#FF97FF",
           "#FECB52"
          ],
          "font": {
           "color": "#f2f5fa"
          },
          "hovermode": "closest",
          "hoverlabel": {
           "align": "left"
          },
          "paper_bgcolor": "rgb(17,17,17)",
          "plot_bgcolor": "rgb(17,17,17)",
          "polar": {
           "bgcolor": "rgb(17,17,17)",
           "angularaxis": {
            "gridcolor": "#506784",
            "linecolor": "#506784",
            "ticks": ""
           },
           "radialaxis": {
            "gridcolor": "#506784",
            "linecolor": "#506784",
            "ticks": ""
           }
          },
          "ternary": {
           "bgcolor": "rgb(17,17,17)",
           "aaxis": {
            "gridcolor": "#506784",
            "linecolor": "#506784",
            "ticks": ""
           },
           "baxis": {
            "gridcolor": "#506784",
            "linecolor": "#506784",
            "ticks": ""
           },
           "caxis": {
            "gridcolor": "#506784",
            "linecolor": "#506784",
            "ticks": ""
           }
          },
          "coloraxis": {
           "colorbar": {
            "outlinewidth": 0,
            "ticks": ""
           }
          },
          "colorscale": {
           "sequential": [
            [
             0.0,
             "#0d0887"
            ],
            [
             0.1111111111111111,
             "#46039f"
            ],
            [
             0.2222222222222222,
             "#7201a8"
            ],
            [
             0.3333333333333333,
             "#9c179e"
            ],
            [
             0.4444444444444444,
             "#bd3786"
            ],
            [
             0.5555555555555556,
             "#d8576b"
            ],
            [
             0.6666666666666666,
             "#ed7953"
            ],
            [
             0.7777777777777778,
             "#fb9f3a"
            ],
            [
             0.8888888888888888,
             "#fdca26"
            ],
            [
             1.0,
             "#f0f921"
            ]
           ],
           "sequentialminus": [
            [
             0.0,
             "#0d0887"
            ],
            [
             0.1111111111111111,
             "#46039f"
            ],
            [
             0.2222222222222222,
             "#7201a8"
            ],
            [
             0.3333333333333333,
             "#9c179e"
            ],
            [
             0.4444444444444444,
             "#bd3786"
            ],
            [
             0.5555555555555556,
             "#d8576b"
            ],
            [
             0.6666666666666666,
             "#ed7953"
            ],
            [
             0.7777777777777778,
             "#fb9f3a"
            ],
            [
             0.8888888888888888,
             "#fdca26"
            ],
            [
             1.0,
             "#f0f921"
            ]
           ],
           "diverging": [
            [
             0,
             "#8e0152"
            ],
            [
             0.1,
             "#c51b7d"
            ],
            [
             0.2,
             "#de77ae"
            ],
            [
             0.3,
             "#f1b6da"
            ],
            [
             0.4,
             "#fde0ef"
            ],
            [
             0.5,
             "#f7f7f7"
            ],
            [
             0.6,
             "#e6f5d0"
            ],
            [
             0.7,
             "#b8e186"
            ],
            [
             0.8,
             "#7fbc41"
            ],
            [
             0.9,
             "#4d9221"
            ],
            [
             1,
             "#276419"
            ]
           ]
          },
          "xaxis": {
           "gridcolor": "#283442",
           "linecolor": "#506784",
           "ticks": "",
           "title": {
            "standoff": 15
           },
           "zerolinecolor": "#283442",
           "automargin": true,
           "zerolinewidth": 2
          },
          "yaxis": {
           "gridcolor": "#283442",
           "linecolor": "#506784",
           "ticks": "",
           "title": {
            "standoff": 15
           },
           "zerolinecolor": "#283442",
           "automargin": true,
           "zerolinewidth": 2
          },
          "scene": {
           "xaxis": {
            "backgroundcolor": "rgb(17,17,17)",
            "gridcolor": "#506784",
            "linecolor": "#506784",
            "showbackground": true,
            "ticks": "",
            "zerolinecolor": "#C8D4E3",
            "gridwidth": 2
           },
           "yaxis": {
            "backgroundcolor": "rgb(17,17,17)",
            "gridcolor": "#506784",
            "linecolor": "#506784",
            "showbackground": true,
            "ticks": "",
            "zerolinecolor": "#C8D4E3",
            "gridwidth": 2
           },
           "zaxis": {
            "backgroundcolor": "rgb(17,17,17)",
            "gridcolor": "#506784",
            "linecolor": "#506784",
            "showbackground": true,
            "ticks": "",
            "zerolinecolor": "#C8D4E3",
            "gridwidth": 2
           }
          },
          "shapedefaults": {
           "line": {
            "color": "#f2f5fa"
           }
          },
          "annotationdefaults": {
           "arrowcolor": "#f2f5fa",
           "arrowhead": 0,
           "arrowwidth": 1
          },
          "geo": {
           "bgcolor": "rgb(17,17,17)",
           "landcolor": "rgb(17,17,17)",
           "subunitcolor": "#506784",
           "showland": true,
           "showlakes": true,
           "lakecolor": "rgb(17,17,17)"
          },
          "title": {
           "x": 0.05
          },
          "updatemenudefaults": {
           "bgcolor": "#506784",
           "borderwidth": 0
          },
          "sliderdefaults": {
           "bgcolor": "#C8D4E3",
           "borderwidth": 1,
           "bordercolor": "rgb(17,17,17)",
           "tickwidth": 0
          },
          "mapbox": {
           "style": "dark"
          }
         }
        },
        "xaxis": {
         "anchor": "y",
         "domain": [
          0.0,
          1.0
         ],
         "title": {
          "text": "Teljes létszám"
         }
        },
        "yaxis": {
         "anchor": "x",
         "domain": [
          0.0,
          1.0
         ],
         "title": {
          "text": "Jelentkezési ráta"
         }
        },
        "legend": {
         "tracegroupgap": 0
        },
        "title": {
         "text": "Jelentkezési arányszámok"
        }
       },
       "config": {
        "plotlyServerURL": "https://plot.ly"
       }
      },
      "text/html": "<div>                            <div id=\"3138bd62-fec5-401a-abdd-621c30d9e8d8\" class=\"plotly-graph-div\" style=\"height:525px; width:100%;\"></div>            <script type=\"text/javascript\">                require([\"plotly\"], function(Plotly) {                    window.PLOTLYENV=window.PLOTLYENV || {};                                    if (document.getElementById(\"3138bd62-fec5-401a-abdd-621c30d9e8d8\")) {                    Plotly.newPlot(                        \"3138bd62-fec5-401a-abdd-621c30d9e8d8\",                        [{\"customdata\":[[0.0],[0.0]],\"hovertemplate\":\"<b>%{hovertext}</b><br><br>Teljes l\\u00e9tsz\\u00e1m=%{x}<br>Jelentkez\\u00e9si r\\u00e1ta=%{y}<br>Jelentkez\\u0151 hallgat\\u00f3=%{customdata[0]}<extra></extra>\",\"hovertext\":[\"anim\\u00e1ci\\u00f3\",\"\\u00e9p\\u00edt\\u00e9szet\"],\"legendgroup\":\"\",\"marker\":{\"color\":\"red\",\"symbol\":\"circle\"},\"mode\":\"markers\",\"name\":\"\",\"orientation\":\"v\",\"showlegend\":false,\"x\":[21.0,13.0],\"xaxis\":\"x\",\"y\":[0.0,0.0],\"yaxis\":\"y\",\"type\":\"scatter\"},{\"customdata\":[[3.0],[18.0],[1.0],[6.0],[16.0],[44.0],[22.0],[22.0],[7.0]],\"hovertemplate\":\"<b>%{hovertext}</b><br><br>Teljes l\\u00e9tsz\\u00e1m=%{x}<br>Jelentkez\\u00e9si r\\u00e1ta=%{y}<br>Jelentkez\\u0151 hallgat\\u00f3=%{customdata[0]}<extra></extra>\",\"hovertext\":[\"designkult\\u00fara\",\"formatervez\\u00e9s\",\"formatervez\\u00e9s szakir\\u00e1ny\",\"fotogr\\u00e1fia\",\"m\\u00e9dia design\",\"rajz\",\"tervez\\u0151grafika\",\"textiltervez\\u00e9s\",\"t\\u00e1rgyalkot\\u00e1s\"],\"legendgroup\":\"\",\"marker\":{\"color\":\"blue\",\"symbol\":\"circle\"},\"mode\":\"markers\",\"name\":\"\",\"orientation\":\"v\",\"showlegend\":false,\"x\":[4.0,20.0,4.0,12.0,17.0,94.0,38.0,44.0,9.0],\"xaxis\":\"x\",\"y\":[0.75,0.9,0.25,0.5,0.9411764705882353,0.46808510638297873,0.5789473684210527,0.5,0.7777777777777778],\"yaxis\":\"y\",\"type\":\"scatter\"}],                        {\"template\":{\"data\":{\"histogram2dcontour\":[{\"type\":\"histogram2dcontour\",\"colorbar\":{\"outlinewidth\":0,\"ticks\":\"\"},\"colorscale\":[[0.0,\"#0d0887\"],[0.1111111111111111,\"#46039f\"],[0.2222222222222222,\"#7201a8\"],[0.3333333333333333,\"#9c179e\"],[0.4444444444444444,\"#bd3786\"],[0.5555555555555556,\"#d8576b\"],[0.6666666666666666,\"#ed7953\"],[0.7777777777777778,\"#fb9f3a\"],[0.8888888888888888,\"#fdca26\"],[1.0,\"#f0f921\"]]}],\"choropleth\":[{\"type\":\"choropleth\",\"colorbar\":{\"outlinewidth\":0,\"ticks\":\"\"}}],\"histogram2d\":[{\"type\":\"histogram2d\",\"colorbar\":{\"outlinewidth\":0,\"ticks\":\"\"},\"colorscale\":[[0.0,\"#0d0887\"],[0.1111111111111111,\"#46039f\"],[0.2222222222222222,\"#7201a8\"],[0.3333333333333333,\"#9c179e\"],[0.4444444444444444,\"#bd3786\"],[0.5555555555555556,\"#d8576b\"],[0.6666666666666666,\"#ed7953\"],[0.7777777777777778,\"#fb9f3a\"],[0.8888888888888888,\"#fdca26\"],[1.0,\"#f0f921\"]]}],\"heatmap\":[{\"type\":\"heatmap\",\"colorbar\":{\"outlinewidth\":0,\"ticks\":\"\"},\"colorscale\":[[0.0,\"#0d0887\"],[0.1111111111111111,\"#46039f\"],[0.2222222222222222,\"#7201a8\"],[0.3333333333333333,\"#9c179e\"],[0.4444444444444444,\"#bd3786\"],[0.5555555555555556,\"#d8576b\"],[0.6666666666666666,\"#ed7953\"],[0.7777777777777778,\"#fb9f3a\"],[0.8888888888888888,\"#fdca26\"],[1.0,\"#f0f921\"]]}],\"heatmapgl\":[{\"type\":\"heatmapgl\",\"colorbar\":{\"outlinewidth\":0,\"ticks\":\"\"},\"colorscale\":[[0.0,\"#0d0887\"],[0.1111111111111111,\"#46039f\"],[0.2222222222222222,\"#7201a8\"],[0.3333333333333333,\"#9c179e\"],[0.4444444444444444,\"#bd3786\"],[0.5555555555555556,\"#d8576b\"],[0.6666666666666666,\"#ed7953\"],[0.7777777777777778,\"#fb9f3a\"],[0.8888888888888888,\"#fdca26\"],[1.0,\"#f0f921\"]]}],\"contourcarpet\":[{\"type\":\"contourcarpet\",\"colorbar\":{\"outlinewidth\":0,\"ticks\":\"\"}}],\"contour\":[{\"type\":\"contour\",\"colorbar\":{\"outlinewidth\":0,\"ticks\":\"\"},\"colorscale\":[[0.0,\"#0d0887\"],[0.1111111111111111,\"#46039f\"],[0.2222222222222222,\"#7201a8\"],[0.3333333333333333,\"#9c179e\"],[0.4444444444444444,\"#bd3786\"],[0.5555555555555556,\"#d8576b\"],[0.6666666666666666,\"#ed7953\"],[0.7777777777777778,\"#fb9f3a\"],[0.8888888888888888,\"#fdca26\"],[1.0,\"#f0f921\"]]}],\"surface\":[{\"type\":\"surface\",\"colorbar\":{\"outlinewidth\":0,\"ticks\":\"\"},\"colorscale\":[[0.0,\"#0d0887\"],[0.1111111111111111,\"#46039f\"],[0.2222222222222222,\"#7201a8\"],[0.3333333333333333,\"#9c179e\"],[0.4444444444444444,\"#bd3786\"],[0.5555555555555556,\"#d8576b\"],[0.6666666666666666,\"#ed7953\"],[0.7777777777777778,\"#fb9f3a\"],[0.8888888888888888,\"#fdca26\"],[1.0,\"#f0f921\"]]}],\"mesh3d\":[{\"type\":\"mesh3d\",\"colorbar\":{\"outlinewidth\":0,\"ticks\":\"\"}}],\"scatter\":[{\"marker\":{\"line\":{\"color\":\"#283442\"}},\"type\":\"scatter\"}],\"parcoords\":[{\"type\":\"parcoords\",\"line\":{\"colorbar\":{\"outlinewidth\":0,\"ticks\":\"\"}}}],\"scatterpolargl\":[{\"type\":\"scatterpolargl\",\"marker\":{\"colorbar\":{\"outlinewidth\":0,\"ticks\":\"\"}}}],\"bar\":[{\"error_x\":{\"color\":\"#f2f5fa\"},\"error_y\":{\"color\":\"#f2f5fa\"},\"marker\":{\"line\":{\"color\":\"rgb(17,17,17)\",\"width\":0.5},\"pattern\":{\"fillmode\":\"overlay\",\"size\":10,\"solidity\":0.2}},\"type\":\"bar\"}],\"scattergeo\":[{\"type\":\"scattergeo\",\"marker\":{\"colorbar\":{\"outlinewidth\":0,\"ticks\":\"\"}}}],\"scatterpolar\":[{\"type\":\"scatterpolar\",\"marker\":{\"colorbar\":{\"outlinewidth\":0,\"ticks\":\"\"}}}],\"histogram\":[{\"marker\":{\"pattern\":{\"fillmode\":\"overlay\",\"size\":10,\"solidity\":0.2}},\"type\":\"histogram\"}],\"scattergl\":[{\"marker\":{\"line\":{\"color\":\"#283442\"}},\"type\":\"scattergl\"}],\"scatter3d\":[{\"type\":\"scatter3d\",\"line\":{\"colorbar\":{\"outlinewidth\":0,\"ticks\":\"\"}},\"marker\":{\"colorbar\":{\"outlinewidth\":0,\"ticks\":\"\"}}}],\"scattermapbox\":[{\"type\":\"scattermapbox\",\"marker\":{\"colorbar\":{\"outlinewidth\":0,\"ticks\":\"\"}}}],\"scatterternary\":[{\"type\":\"scatterternary\",\"marker\":{\"colorbar\":{\"outlinewidth\":0,\"ticks\":\"\"}}}],\"scattercarpet\":[{\"type\":\"scattercarpet\",\"marker\":{\"colorbar\":{\"outlinewidth\":0,\"ticks\":\"\"}}}],\"carpet\":[{\"aaxis\":{\"endlinecolor\":\"#A2B1C6\",\"gridcolor\":\"#506784\",\"linecolor\":\"#506784\",\"minorgridcolor\":\"#506784\",\"startlinecolor\":\"#A2B1C6\"},\"baxis\":{\"endlinecolor\":\"#A2B1C6\",\"gridcolor\":\"#506784\",\"linecolor\":\"#506784\",\"minorgridcolor\":\"#506784\",\"startlinecolor\":\"#A2B1C6\"},\"type\":\"carpet\"}],\"table\":[{\"cells\":{\"fill\":{\"color\":\"#506784\"},\"line\":{\"color\":\"rgb(17,17,17)\"}},\"header\":{\"fill\":{\"color\":\"#2a3f5f\"},\"line\":{\"color\":\"rgb(17,17,17)\"}},\"type\":\"table\"}],\"barpolar\":[{\"marker\":{\"line\":{\"color\":\"rgb(17,17,17)\",\"width\":0.5},\"pattern\":{\"fillmode\":\"overlay\",\"size\":10,\"solidity\":0.2}},\"type\":\"barpolar\"}],\"pie\":[{\"automargin\":true,\"type\":\"pie\"}]},\"layout\":{\"autotypenumbers\":\"strict\",\"colorway\":[\"#636efa\",\"#EF553B\",\"#00cc96\",\"#ab63fa\",\"#FFA15A\",\"#19d3f3\",\"#FF6692\",\"#B6E880\",\"#FF97FF\",\"#FECB52\"],\"font\":{\"color\":\"#f2f5fa\"},\"hovermode\":\"closest\",\"hoverlabel\":{\"align\":\"left\"},\"paper_bgcolor\":\"rgb(17,17,17)\",\"plot_bgcolor\":\"rgb(17,17,17)\",\"polar\":{\"bgcolor\":\"rgb(17,17,17)\",\"angularaxis\":{\"gridcolor\":\"#506784\",\"linecolor\":\"#506784\",\"ticks\":\"\"},\"radialaxis\":{\"gridcolor\":\"#506784\",\"linecolor\":\"#506784\",\"ticks\":\"\"}},\"ternary\":{\"bgcolor\":\"rgb(17,17,17)\",\"aaxis\":{\"gridcolor\":\"#506784\",\"linecolor\":\"#506784\",\"ticks\":\"\"},\"baxis\":{\"gridcolor\":\"#506784\",\"linecolor\":\"#506784\",\"ticks\":\"\"},\"caxis\":{\"gridcolor\":\"#506784\",\"linecolor\":\"#506784\",\"ticks\":\"\"}},\"coloraxis\":{\"colorbar\":{\"outlinewidth\":0,\"ticks\":\"\"}},\"colorscale\":{\"sequential\":[[0.0,\"#0d0887\"],[0.1111111111111111,\"#46039f\"],[0.2222222222222222,\"#7201a8\"],[0.3333333333333333,\"#9c179e\"],[0.4444444444444444,\"#bd3786\"],[0.5555555555555556,\"#d8576b\"],[0.6666666666666666,\"#ed7953\"],[0.7777777777777778,\"#fb9f3a\"],[0.8888888888888888,\"#fdca26\"],[1.0,\"#f0f921\"]],\"sequentialminus\":[[0.0,\"#0d0887\"],[0.1111111111111111,\"#46039f\"],[0.2222222222222222,\"#7201a8\"],[0.3333333333333333,\"#9c179e\"],[0.4444444444444444,\"#bd3786\"],[0.5555555555555556,\"#d8576b\"],[0.6666666666666666,\"#ed7953\"],[0.7777777777777778,\"#fb9f3a\"],[0.8888888888888888,\"#fdca26\"],[1.0,\"#f0f921\"]],\"diverging\":[[0,\"#8e0152\"],[0.1,\"#c51b7d\"],[0.2,\"#de77ae\"],[0.3,\"#f1b6da\"],[0.4,\"#fde0ef\"],[0.5,\"#f7f7f7\"],[0.6,\"#e6f5d0\"],[0.7,\"#b8e186\"],[0.8,\"#7fbc41\"],[0.9,\"#4d9221\"],[1,\"#276419\"]]},\"xaxis\":{\"gridcolor\":\"#283442\",\"linecolor\":\"#506784\",\"ticks\":\"\",\"title\":{\"standoff\":15},\"zerolinecolor\":\"#283442\",\"automargin\":true,\"zerolinewidth\":2},\"yaxis\":{\"gridcolor\":\"#283442\",\"linecolor\":\"#506784\",\"ticks\":\"\",\"title\":{\"standoff\":15},\"zerolinecolor\":\"#283442\",\"automargin\":true,\"zerolinewidth\":2},\"scene\":{\"xaxis\":{\"backgroundcolor\":\"rgb(17,17,17)\",\"gridcolor\":\"#506784\",\"linecolor\":\"#506784\",\"showbackground\":true,\"ticks\":\"\",\"zerolinecolor\":\"#C8D4E3\",\"gridwidth\":2},\"yaxis\":{\"backgroundcolor\":\"rgb(17,17,17)\",\"gridcolor\":\"#506784\",\"linecolor\":\"#506784\",\"showbackground\":true,\"ticks\":\"\",\"zerolinecolor\":\"#C8D4E3\",\"gridwidth\":2},\"zaxis\":{\"backgroundcolor\":\"rgb(17,17,17)\",\"gridcolor\":\"#506784\",\"linecolor\":\"#506784\",\"showbackground\":true,\"ticks\":\"\",\"zerolinecolor\":\"#C8D4E3\",\"gridwidth\":2}},\"shapedefaults\":{\"line\":{\"color\":\"#f2f5fa\"}},\"annotationdefaults\":{\"arrowcolor\":\"#f2f5fa\",\"arrowhead\":0,\"arrowwidth\":1},\"geo\":{\"bgcolor\":\"rgb(17,17,17)\",\"landcolor\":\"rgb(17,17,17)\",\"subunitcolor\":\"#506784\",\"showland\":true,\"showlakes\":true,\"lakecolor\":\"rgb(17,17,17)\"},\"title\":{\"x\":0.05},\"updatemenudefaults\":{\"bgcolor\":\"#506784\",\"borderwidth\":0},\"sliderdefaults\":{\"bgcolor\":\"#C8D4E3\",\"borderwidth\":1,\"bordercolor\":\"rgb(17,17,17)\",\"tickwidth\":0},\"mapbox\":{\"style\":\"dark\"}}},\"xaxis\":{\"anchor\":\"y\",\"domain\":[0.0,1.0],\"title\":{\"text\":\"Teljes l\\u00e9tsz\\u00e1m\"}},\"yaxis\":{\"anchor\":\"x\",\"domain\":[0.0,1.0],\"title\":{\"text\":\"Jelentkez\\u00e9si r\\u00e1ta\"}},\"legend\":{\"tracegroupgap\":0},\"title\":{\"text\":\"Jelentkez\\u00e9si ar\\u00e1nysz\\u00e1mok\"}},                        {\"responsive\": true}                    ).then(function(){\n                            \nvar gd = document.getElementById('3138bd62-fec5-401a-abdd-621c30d9e8d8');\nvar x = new MutationObserver(function (mutations, observer) {{\n        var display = window.getComputedStyle(gd).display;\n        if (!display || display === 'none') {{\n            console.log([gd, 'removed!']);\n            Plotly.purge(gd);\n            observer.disconnect();\n        }}\n}});\n\n// Listen for the removal of the full notebook cells\nvar notebookContainer = gd.closest('#notebook-container');\nif (notebookContainer) {{\n    x.observe(notebookContainer, {childList: true});\n}}\n\n// Listen for the clearing of the current output cell\nvar outputEl = gd.closest('.output');\nif (outputEl) {{\n    x.observe(outputEl, {childList: true});\n}}\n\n                        })                };                });            </script>        </div>"
     },
     "metadata": {},
     "output_type": "display_data"
    },
    {
     "name": "stdout",
     "output_type": "stream",
     "text": [
      "Kurzusok szerint (nem harmonizáltan)\n"
     ]
    },
    {
     "data": {
      "application/vnd.plotly.v1+json": {
       "data": [
        {
         "customdata": [
          [
           9.0
          ],
          [
           14.0
          ],
          [
           3.0
          ],
          [
           10.0
          ],
          [
           5.0
          ],
          [
           12.0
          ],
          [
           10.0
          ],
          [
           13.0
          ],
          [
           8.0
          ],
          [
           6.0
          ],
          [
           8.0
          ],
          [
           4.0
          ],
          [
           1.0
          ],
          [
           1.0
          ],
          [
           2.0
          ],
          [
           2.0
          ],
          [
           7.0
          ],
          [
           3.0
          ]
         ],
         "hovertemplate": "<b>%{hovertext}</b><br><br>Teljes létszám=%{x}<br>Jelentkezési ráta=%{y}<br>Jelentkező hallgató=%{customdata[0]}<extra></extra>",
         "hovertext": [
          "7_alkalmas_őszi_2022, 7 alkalmas textil",
          "7_alkalmas_őszi_2022, 7 alklamas rajz",
          "előkészítő_2022, designkultúra",
          "előkészítő_2022, formatervezés",
          "előkészítő_2022, fotográfia",
          "előkészítő_2022, média design",
          "előkészítő_2022, rajzbérlet 10 alkalmas ",
          "előkészítő_2022, rajzbérlet 19 alkalmas ",
          "előkészítő_2022, tervezőgrafika - haladó",
          "előkészítő_2022, tervezőgrafika - kezdő",
          "előkészítő_2022, textiltervezés",
          "előkészítő_2022, tárgyalkotás",
          "intenzív 2022, formatervezés szakirány",
          "intenzív 2022, fotográfia szakirány",
          "intenzív 2022, rajz",
          "intenzív 2022, textil szakirány",
          "intenzív 2023, tervezőgrafika",
          "intenzív 2023, tárgyalkotás"
         ],
         "legendgroup": "",
         "marker": {
          "color": "blue",
          "symbol": "circle"
         },
         "mode": "markers",
         "name": "",
         "orientation": "v",
         "showlegend": false,
         "x": [
          21.0,
          34.0,
          4.0,
          12.0,
          7.0,
          13.0,
          11.0,
          19.0,
          9.0,
          15.0,
          12.0,
          5.0,
          4.0,
          5.0,
          6.0,
          8.0,
          8.0,
          4.0
         ],
         "xaxis": "x",
         "y": [
          0.42857142857142855,
          0.4117647058823529,
          0.75,
          0.8333333333333334,
          0.7142857142857143,
          0.9230769230769231,
          0.9090909090909091,
          0.6842105263157895,
          0.8888888888888888,
          0.4,
          0.6666666666666666,
          0.8,
          0.25,
          0.2,
          0.3333333333333333,
          0.25,
          0.875,
          0.75
         ],
         "yaxis": "y",
         "type": "scatter"
        },
        {
         "customdata": [
          [
           0.0
          ],
          [
           0.0
          ],
          [
           0.0
          ],
          [
           0.0
          ],
          [
           0.0
          ],
          [
           0.0
          ]
         ],
         "hovertemplate": "<b>%{hovertext}</b><br><br>Teljes létszám=%{x}<br>Jelentkezési ráta=%{y}<br>Jelentkező hallgató=%{customdata[0]}<extra></extra>",
         "hovertext": [
          "előkészítő_2022, animáció",
          "előkészítő_2022, délelőtti rajz",
          "előkészítő_2022, építészet",
          "intenzív 2022, animáció szakirány",
          "intenzív 2022, tervezőgrafika szakirány",
          "intenzív 2023, rajz"
         ],
         "legendgroup": "",
         "marker": {
          "color": "red",
          "symbol": "circle"
         },
         "mode": "markers",
         "name": "",
         "orientation": "v",
         "showlegend": false,
         "x": [
          18.0,
          15.0,
          13.0,
          3.0,
          6.0,
          9.0
         ],
         "xaxis": "x",
         "y": [
          0.0,
          0.0,
          0.0,
          0.0,
          0.0,
          0.0
         ],
         "yaxis": "y",
         "type": "scatter"
        },
        {
         "customdata": [
          [
           8.0
          ],
          [
           4.0
          ],
          [
           3.0
          ]
         ],
         "hovertemplate": "<b>%{hovertext}</b><br><br>Teljes létszám=%{x}<br>Jelentkezési ráta=%{y}<br>Jelentkező hallgató=%{customdata[0]}<extra></extra>",
         "hovertext": [
          "intenzív 2023, formatervezés",
          "intenzív 2023, média design",
          "intenzív 2023, textiltervezés"
         ],
         "legendgroup": "",
         "marker": {
          "color": "green",
          "symbol": "circle"
         },
         "mode": "markers",
         "name": "",
         "orientation": "v",
         "showlegend": false,
         "x": [
          8.0,
          4.0,
          3.0
         ],
         "xaxis": "x",
         "y": [
          1.0,
          1.0,
          1.0
         ],
         "yaxis": "y",
         "type": "scatter"
        }
       ],
       "layout": {
        "template": {
         "data": {
          "histogram2dcontour": [
           {
            "type": "histogram2dcontour",
            "colorbar": {
             "outlinewidth": 0,
             "ticks": ""
            },
            "colorscale": [
             [
              0.0,
              "#0d0887"
             ],
             [
              0.1111111111111111,
              "#46039f"
             ],
             [
              0.2222222222222222,
              "#7201a8"
             ],
             [
              0.3333333333333333,
              "#9c179e"
             ],
             [
              0.4444444444444444,
              "#bd3786"
             ],
             [
              0.5555555555555556,
              "#d8576b"
             ],
             [
              0.6666666666666666,
              "#ed7953"
             ],
             [
              0.7777777777777778,
              "#fb9f3a"
             ],
             [
              0.8888888888888888,
              "#fdca26"
             ],
             [
              1.0,
              "#f0f921"
             ]
            ]
           }
          ],
          "choropleth": [
           {
            "type": "choropleth",
            "colorbar": {
             "outlinewidth": 0,
             "ticks": ""
            }
           }
          ],
          "histogram2d": [
           {
            "type": "histogram2d",
            "colorbar": {
             "outlinewidth": 0,
             "ticks": ""
            },
            "colorscale": [
             [
              0.0,
              "#0d0887"
             ],
             [
              0.1111111111111111,
              "#46039f"
             ],
             [
              0.2222222222222222,
              "#7201a8"
             ],
             [
              0.3333333333333333,
              "#9c179e"
             ],
             [
              0.4444444444444444,
              "#bd3786"
             ],
             [
              0.5555555555555556,
              "#d8576b"
             ],
             [
              0.6666666666666666,
              "#ed7953"
             ],
             [
              0.7777777777777778,
              "#fb9f3a"
             ],
             [
              0.8888888888888888,
              "#fdca26"
             ],
             [
              1.0,
              "#f0f921"
             ]
            ]
           }
          ],
          "heatmap": [
           {
            "type": "heatmap",
            "colorbar": {
             "outlinewidth": 0,
             "ticks": ""
            },
            "colorscale": [
             [
              0.0,
              "#0d0887"
             ],
             [
              0.1111111111111111,
              "#46039f"
             ],
             [
              0.2222222222222222,
              "#7201a8"
             ],
             [
              0.3333333333333333,
              "#9c179e"
             ],
             [
              0.4444444444444444,
              "#bd3786"
             ],
             [
              0.5555555555555556,
              "#d8576b"
             ],
             [
              0.6666666666666666,
              "#ed7953"
             ],
             [
              0.7777777777777778,
              "#fb9f3a"
             ],
             [
              0.8888888888888888,
              "#fdca26"
             ],
             [
              1.0,
              "#f0f921"
             ]
            ]
           }
          ],
          "heatmapgl": [
           {
            "type": "heatmapgl",
            "colorbar": {
             "outlinewidth": 0,
             "ticks": ""
            },
            "colorscale": [
             [
              0.0,
              "#0d0887"
             ],
             [
              0.1111111111111111,
              "#46039f"
             ],
             [
              0.2222222222222222,
              "#7201a8"
             ],
             [
              0.3333333333333333,
              "#9c179e"
             ],
             [
              0.4444444444444444,
              "#bd3786"
             ],
             [
              0.5555555555555556,
              "#d8576b"
             ],
             [
              0.6666666666666666,
              "#ed7953"
             ],
             [
              0.7777777777777778,
              "#fb9f3a"
             ],
             [
              0.8888888888888888,
              "#fdca26"
             ],
             [
              1.0,
              "#f0f921"
             ]
            ]
           }
          ],
          "contourcarpet": [
           {
            "type": "contourcarpet",
            "colorbar": {
             "outlinewidth": 0,
             "ticks": ""
            }
           }
          ],
          "contour": [
           {
            "type": "contour",
            "colorbar": {
             "outlinewidth": 0,
             "ticks": ""
            },
            "colorscale": [
             [
              0.0,
              "#0d0887"
             ],
             [
              0.1111111111111111,
              "#46039f"
             ],
             [
              0.2222222222222222,
              "#7201a8"
             ],
             [
              0.3333333333333333,
              "#9c179e"
             ],
             [
              0.4444444444444444,
              "#bd3786"
             ],
             [
              0.5555555555555556,
              "#d8576b"
             ],
             [
              0.6666666666666666,
              "#ed7953"
             ],
             [
              0.7777777777777778,
              "#fb9f3a"
             ],
             [
              0.8888888888888888,
              "#fdca26"
             ],
             [
              1.0,
              "#f0f921"
             ]
            ]
           }
          ],
          "surface": [
           {
            "type": "surface",
            "colorbar": {
             "outlinewidth": 0,
             "ticks": ""
            },
            "colorscale": [
             [
              0.0,
              "#0d0887"
             ],
             [
              0.1111111111111111,
              "#46039f"
             ],
             [
              0.2222222222222222,
              "#7201a8"
             ],
             [
              0.3333333333333333,
              "#9c179e"
             ],
             [
              0.4444444444444444,
              "#bd3786"
             ],
             [
              0.5555555555555556,
              "#d8576b"
             ],
             [
              0.6666666666666666,
              "#ed7953"
             ],
             [
              0.7777777777777778,
              "#fb9f3a"
             ],
             [
              0.8888888888888888,
              "#fdca26"
             ],
             [
              1.0,
              "#f0f921"
             ]
            ]
           }
          ],
          "mesh3d": [
           {
            "type": "mesh3d",
            "colorbar": {
             "outlinewidth": 0,
             "ticks": ""
            }
           }
          ],
          "scatter": [
           {
            "marker": {
             "line": {
              "color": "#283442"
             }
            },
            "type": "scatter"
           }
          ],
          "parcoords": [
           {
            "type": "parcoords",
            "line": {
             "colorbar": {
              "outlinewidth": 0,
              "ticks": ""
             }
            }
           }
          ],
          "scatterpolargl": [
           {
            "type": "scatterpolargl",
            "marker": {
             "colorbar": {
              "outlinewidth": 0,
              "ticks": ""
             }
            }
           }
          ],
          "bar": [
           {
            "error_x": {
             "color": "#f2f5fa"
            },
            "error_y": {
             "color": "#f2f5fa"
            },
            "marker": {
             "line": {
              "color": "rgb(17,17,17)",
              "width": 0.5
             },
             "pattern": {
              "fillmode": "overlay",
              "size": 10,
              "solidity": 0.2
             }
            },
            "type": "bar"
           }
          ],
          "scattergeo": [
           {
            "type": "scattergeo",
            "marker": {
             "colorbar": {
              "outlinewidth": 0,
              "ticks": ""
             }
            }
           }
          ],
          "scatterpolar": [
           {
            "type": "scatterpolar",
            "marker": {
             "colorbar": {
              "outlinewidth": 0,
              "ticks": ""
             }
            }
           }
          ],
          "histogram": [
           {
            "marker": {
             "pattern": {
              "fillmode": "overlay",
              "size": 10,
              "solidity": 0.2
             }
            },
            "type": "histogram"
           }
          ],
          "scattergl": [
           {
            "marker": {
             "line": {
              "color": "#283442"
             }
            },
            "type": "scattergl"
           }
          ],
          "scatter3d": [
           {
            "type": "scatter3d",
            "line": {
             "colorbar": {
              "outlinewidth": 0,
              "ticks": ""
             }
            },
            "marker": {
             "colorbar": {
              "outlinewidth": 0,
              "ticks": ""
             }
            }
           }
          ],
          "scattermapbox": [
           {
            "type": "scattermapbox",
            "marker": {
             "colorbar": {
              "outlinewidth": 0,
              "ticks": ""
             }
            }
           }
          ],
          "scatterternary": [
           {
            "type": "scatterternary",
            "marker": {
             "colorbar": {
              "outlinewidth": 0,
              "ticks": ""
             }
            }
           }
          ],
          "scattercarpet": [
           {
            "type": "scattercarpet",
            "marker": {
             "colorbar": {
              "outlinewidth": 0,
              "ticks": ""
             }
            }
           }
          ],
          "carpet": [
           {
            "aaxis": {
             "endlinecolor": "#A2B1C6",
             "gridcolor": "#506784",
             "linecolor": "#506784",
             "minorgridcolor": "#506784",
             "startlinecolor": "#A2B1C6"
            },
            "baxis": {
             "endlinecolor": "#A2B1C6",
             "gridcolor": "#506784",
             "linecolor": "#506784",
             "minorgridcolor": "#506784",
             "startlinecolor": "#A2B1C6"
            },
            "type": "carpet"
           }
          ],
          "table": [
           {
            "cells": {
             "fill": {
              "color": "#506784"
             },
             "line": {
              "color": "rgb(17,17,17)"
             }
            },
            "header": {
             "fill": {
              "color": "#2a3f5f"
             },
             "line": {
              "color": "rgb(17,17,17)"
             }
            },
            "type": "table"
           }
          ],
          "barpolar": [
           {
            "marker": {
             "line": {
              "color": "rgb(17,17,17)",
              "width": 0.5
             },
             "pattern": {
              "fillmode": "overlay",
              "size": 10,
              "solidity": 0.2
             }
            },
            "type": "barpolar"
           }
          ],
          "pie": [
           {
            "automargin": true,
            "type": "pie"
           }
          ]
         },
         "layout": {
          "autotypenumbers": "strict",
          "colorway": [
           "#636efa",
           "#EF553B",
           "#00cc96",
           "#ab63fa",
           "#FFA15A",
           "#19d3f3",
           "#FF6692",
           "#B6E880",
           "#FF97FF",
           "#FECB52"
          ],
          "font": {
           "color": "#f2f5fa"
          },
          "hovermode": "closest",
          "hoverlabel": {
           "align": "left"
          },
          "paper_bgcolor": "rgb(17,17,17)",
          "plot_bgcolor": "rgb(17,17,17)",
          "polar": {
           "bgcolor": "rgb(17,17,17)",
           "angularaxis": {
            "gridcolor": "#506784",
            "linecolor": "#506784",
            "ticks": ""
           },
           "radialaxis": {
            "gridcolor": "#506784",
            "linecolor": "#506784",
            "ticks": ""
           }
          },
          "ternary": {
           "bgcolor": "rgb(17,17,17)",
           "aaxis": {
            "gridcolor": "#506784",
            "linecolor": "#506784",
            "ticks": ""
           },
           "baxis": {
            "gridcolor": "#506784",
            "linecolor": "#506784",
            "ticks": ""
           },
           "caxis": {
            "gridcolor": "#506784",
            "linecolor": "#506784",
            "ticks": ""
           }
          },
          "coloraxis": {
           "colorbar": {
            "outlinewidth": 0,
            "ticks": ""
           }
          },
          "colorscale": {
           "sequential": [
            [
             0.0,
             "#0d0887"
            ],
            [
             0.1111111111111111,
             "#46039f"
            ],
            [
             0.2222222222222222,
             "#7201a8"
            ],
            [
             0.3333333333333333,
             "#9c179e"
            ],
            [
             0.4444444444444444,
             "#bd3786"
            ],
            [
             0.5555555555555556,
             "#d8576b"
            ],
            [
             0.6666666666666666,
             "#ed7953"
            ],
            [
             0.7777777777777778,
             "#fb9f3a"
            ],
            [
             0.8888888888888888,
             "#fdca26"
            ],
            [
             1.0,
             "#f0f921"
            ]
           ],
           "sequentialminus": [
            [
             0.0,
             "#0d0887"
            ],
            [
             0.1111111111111111,
             "#46039f"
            ],
            [
             0.2222222222222222,
             "#7201a8"
            ],
            [
             0.3333333333333333,
             "#9c179e"
            ],
            [
             0.4444444444444444,
             "#bd3786"
            ],
            [
             0.5555555555555556,
             "#d8576b"
            ],
            [
             0.6666666666666666,
             "#ed7953"
            ],
            [
             0.7777777777777778,
             "#fb9f3a"
            ],
            [
             0.8888888888888888,
             "#fdca26"
            ],
            [
             1.0,
             "#f0f921"
            ]
           ],
           "diverging": [
            [
             0,
             "#8e0152"
            ],
            [
             0.1,
             "#c51b7d"
            ],
            [
             0.2,
             "#de77ae"
            ],
            [
             0.3,
             "#f1b6da"
            ],
            [
             0.4,
             "#fde0ef"
            ],
            [
             0.5,
             "#f7f7f7"
            ],
            [
             0.6,
             "#e6f5d0"
            ],
            [
             0.7,
             "#b8e186"
            ],
            [
             0.8,
             "#7fbc41"
            ],
            [
             0.9,
             "#4d9221"
            ],
            [
             1,
             "#276419"
            ]
           ]
          },
          "xaxis": {
           "gridcolor": "#283442",
           "linecolor": "#506784",
           "ticks": "",
           "title": {
            "standoff": 15
           },
           "zerolinecolor": "#283442",
           "automargin": true,
           "zerolinewidth": 2
          },
          "yaxis": {
           "gridcolor": "#283442",
           "linecolor": "#506784",
           "ticks": "",
           "title": {
            "standoff": 15
           },
           "zerolinecolor": "#283442",
           "automargin": true,
           "zerolinewidth": 2
          },
          "scene": {
           "xaxis": {
            "backgroundcolor": "rgb(17,17,17)",
            "gridcolor": "#506784",
            "linecolor": "#506784",
            "showbackground": true,
            "ticks": "",
            "zerolinecolor": "#C8D4E3",
            "gridwidth": 2
           },
           "yaxis": {
            "backgroundcolor": "rgb(17,17,17)",
            "gridcolor": "#506784",
            "linecolor": "#506784",
            "showbackground": true,
            "ticks": "",
            "zerolinecolor": "#C8D4E3",
            "gridwidth": 2
           },
           "zaxis": {
            "backgroundcolor": "rgb(17,17,17)",
            "gridcolor": "#506784",
            "linecolor": "#506784",
            "showbackground": true,
            "ticks": "",
            "zerolinecolor": "#C8D4E3",
            "gridwidth": 2
           }
          },
          "shapedefaults": {
           "line": {
            "color": "#f2f5fa"
           }
          },
          "annotationdefaults": {
           "arrowcolor": "#f2f5fa",
           "arrowhead": 0,
           "arrowwidth": 1
          },
          "geo": {
           "bgcolor": "rgb(17,17,17)",
           "landcolor": "rgb(17,17,17)",
           "subunitcolor": "#506784",
           "showland": true,
           "showlakes": true,
           "lakecolor": "rgb(17,17,17)"
          },
          "title": {
           "x": 0.05
          },
          "updatemenudefaults": {
           "bgcolor": "#506784",
           "borderwidth": 0
          },
          "sliderdefaults": {
           "bgcolor": "#C8D4E3",
           "borderwidth": 1,
           "bordercolor": "rgb(17,17,17)",
           "tickwidth": 0
          },
          "mapbox": {
           "style": "dark"
          }
         }
        },
        "xaxis": {
         "anchor": "y",
         "domain": [
          0.0,
          1.0
         ],
         "title": {
          "text": "Teljes létszám"
         }
        },
        "yaxis": {
         "anchor": "x",
         "domain": [
          0.0,
          1.0
         ],
         "title": {
          "text": "Jelentkezési ráta"
         }
        },
        "legend": {
         "tracegroupgap": 0
        },
        "title": {
         "text": "Jelentkezési arányszámok"
        }
       },
       "config": {
        "plotlyServerURL": "https://plot.ly"
       }
      },
      "text/html": "<div>                            <div id=\"5d94c983-5e31-45cf-8839-50bad85ec080\" class=\"plotly-graph-div\" style=\"height:525px; width:100%;\"></div>            <script type=\"text/javascript\">                require([\"plotly\"], function(Plotly) {                    window.PLOTLYENV=window.PLOTLYENV || {};                                    if (document.getElementById(\"5d94c983-5e31-45cf-8839-50bad85ec080\")) {                    Plotly.newPlot(                        \"5d94c983-5e31-45cf-8839-50bad85ec080\",                        [{\"customdata\":[[9.0],[14.0],[3.0],[10.0],[5.0],[12.0],[10.0],[13.0],[8.0],[6.0],[8.0],[4.0],[1.0],[1.0],[2.0],[2.0],[7.0],[3.0]],\"hovertemplate\":\"<b>%{hovertext}</b><br><br>Teljes l\\u00e9tsz\\u00e1m=%{x}<br>Jelentkez\\u00e9si r\\u00e1ta=%{y}<br>Jelentkez\\u0151 hallgat\\u00f3=%{customdata[0]}<extra></extra>\",\"hovertext\":[\"7_alkalmas_\\u0151szi_2022, 7 alkalmas textil\",\"7_alkalmas_\\u0151szi_2022, 7 alklamas rajz\",\"el\\u0151k\\u00e9sz\\u00edt\\u0151_2022, designkult\\u00fara\",\"el\\u0151k\\u00e9sz\\u00edt\\u0151_2022, formatervez\\u00e9s\",\"el\\u0151k\\u00e9sz\\u00edt\\u0151_2022, fotogr\\u00e1fia\",\"el\\u0151k\\u00e9sz\\u00edt\\u0151_2022, m\\u00e9dia design\",\"el\\u0151k\\u00e9sz\\u00edt\\u0151_2022, rajzb\\u00e9rlet 10 alkalmas \",\"el\\u0151k\\u00e9sz\\u00edt\\u0151_2022, rajzb\\u00e9rlet 19 alkalmas \",\"el\\u0151k\\u00e9sz\\u00edt\\u0151_2022, tervez\\u0151grafika - halad\\u00f3\",\"el\\u0151k\\u00e9sz\\u00edt\\u0151_2022, tervez\\u0151grafika - kezd\\u0151\",\"el\\u0151k\\u00e9sz\\u00edt\\u0151_2022, textiltervez\\u00e9s\",\"el\\u0151k\\u00e9sz\\u00edt\\u0151_2022, t\\u00e1rgyalkot\\u00e1s\",\"intenz\\u00edv 2022, formatervez\\u00e9s szakir\\u00e1ny\",\"intenz\\u00edv 2022, fotogr\\u00e1fia szakir\\u00e1ny\",\"intenz\\u00edv 2022, rajz\",\"intenz\\u00edv 2022, textil szakir\\u00e1ny\",\"intenz\\u00edv 2023, tervez\\u0151grafika\",\"intenz\\u00edv 2023, t\\u00e1rgyalkot\\u00e1s\"],\"legendgroup\":\"\",\"marker\":{\"color\":\"blue\",\"symbol\":\"circle\"},\"mode\":\"markers\",\"name\":\"\",\"orientation\":\"v\",\"showlegend\":false,\"x\":[21.0,34.0,4.0,12.0,7.0,13.0,11.0,19.0,9.0,15.0,12.0,5.0,4.0,5.0,6.0,8.0,8.0,4.0],\"xaxis\":\"x\",\"y\":[0.42857142857142855,0.4117647058823529,0.75,0.8333333333333334,0.7142857142857143,0.9230769230769231,0.9090909090909091,0.6842105263157895,0.8888888888888888,0.4,0.6666666666666666,0.8,0.25,0.2,0.3333333333333333,0.25,0.875,0.75],\"yaxis\":\"y\",\"type\":\"scatter\"},{\"customdata\":[[0.0],[0.0],[0.0],[0.0],[0.0],[0.0]],\"hovertemplate\":\"<b>%{hovertext}</b><br><br>Teljes l\\u00e9tsz\\u00e1m=%{x}<br>Jelentkez\\u00e9si r\\u00e1ta=%{y}<br>Jelentkez\\u0151 hallgat\\u00f3=%{customdata[0]}<extra></extra>\",\"hovertext\":[\"el\\u0151k\\u00e9sz\\u00edt\\u0151_2022, anim\\u00e1ci\\u00f3\",\"el\\u0151k\\u00e9sz\\u00edt\\u0151_2022, d\\u00e9lel\\u0151tti rajz\",\"el\\u0151k\\u00e9sz\\u00edt\\u0151_2022, \\u00e9p\\u00edt\\u00e9szet\",\"intenz\\u00edv 2022, anim\\u00e1ci\\u00f3 szakir\\u00e1ny\",\"intenz\\u00edv 2022, tervez\\u0151grafika szakir\\u00e1ny\",\"intenz\\u00edv 2023, rajz\"],\"legendgroup\":\"\",\"marker\":{\"color\":\"red\",\"symbol\":\"circle\"},\"mode\":\"markers\",\"name\":\"\",\"orientation\":\"v\",\"showlegend\":false,\"x\":[18.0,15.0,13.0,3.0,6.0,9.0],\"xaxis\":\"x\",\"y\":[0.0,0.0,0.0,0.0,0.0,0.0],\"yaxis\":\"y\",\"type\":\"scatter\"},{\"customdata\":[[8.0],[4.0],[3.0]],\"hovertemplate\":\"<b>%{hovertext}</b><br><br>Teljes l\\u00e9tsz\\u00e1m=%{x}<br>Jelentkez\\u00e9si r\\u00e1ta=%{y}<br>Jelentkez\\u0151 hallgat\\u00f3=%{customdata[0]}<extra></extra>\",\"hovertext\":[\"intenz\\u00edv 2023, formatervez\\u00e9s\",\"intenz\\u00edv 2023, m\\u00e9dia design\",\"intenz\\u00edv 2023, textiltervez\\u00e9s\"],\"legendgroup\":\"\",\"marker\":{\"color\":\"green\",\"symbol\":\"circle\"},\"mode\":\"markers\",\"name\":\"\",\"orientation\":\"v\",\"showlegend\":false,\"x\":[8.0,4.0,3.0],\"xaxis\":\"x\",\"y\":[1.0,1.0,1.0],\"yaxis\":\"y\",\"type\":\"scatter\"}],                        {\"template\":{\"data\":{\"histogram2dcontour\":[{\"type\":\"histogram2dcontour\",\"colorbar\":{\"outlinewidth\":0,\"ticks\":\"\"},\"colorscale\":[[0.0,\"#0d0887\"],[0.1111111111111111,\"#46039f\"],[0.2222222222222222,\"#7201a8\"],[0.3333333333333333,\"#9c179e\"],[0.4444444444444444,\"#bd3786\"],[0.5555555555555556,\"#d8576b\"],[0.6666666666666666,\"#ed7953\"],[0.7777777777777778,\"#fb9f3a\"],[0.8888888888888888,\"#fdca26\"],[1.0,\"#f0f921\"]]}],\"choropleth\":[{\"type\":\"choropleth\",\"colorbar\":{\"outlinewidth\":0,\"ticks\":\"\"}}],\"histogram2d\":[{\"type\":\"histogram2d\",\"colorbar\":{\"outlinewidth\":0,\"ticks\":\"\"},\"colorscale\":[[0.0,\"#0d0887\"],[0.1111111111111111,\"#46039f\"],[0.2222222222222222,\"#7201a8\"],[0.3333333333333333,\"#9c179e\"],[0.4444444444444444,\"#bd3786\"],[0.5555555555555556,\"#d8576b\"],[0.6666666666666666,\"#ed7953\"],[0.7777777777777778,\"#fb9f3a\"],[0.8888888888888888,\"#fdca26\"],[1.0,\"#f0f921\"]]}],\"heatmap\":[{\"type\":\"heatmap\",\"colorbar\":{\"outlinewidth\":0,\"ticks\":\"\"},\"colorscale\":[[0.0,\"#0d0887\"],[0.1111111111111111,\"#46039f\"],[0.2222222222222222,\"#7201a8\"],[0.3333333333333333,\"#9c179e\"],[0.4444444444444444,\"#bd3786\"],[0.5555555555555556,\"#d8576b\"],[0.6666666666666666,\"#ed7953\"],[0.7777777777777778,\"#fb9f3a\"],[0.8888888888888888,\"#fdca26\"],[1.0,\"#f0f921\"]]}],\"heatmapgl\":[{\"type\":\"heatmapgl\",\"colorbar\":{\"outlinewidth\":0,\"ticks\":\"\"},\"colorscale\":[[0.0,\"#0d0887\"],[0.1111111111111111,\"#46039f\"],[0.2222222222222222,\"#7201a8\"],[0.3333333333333333,\"#9c179e\"],[0.4444444444444444,\"#bd3786\"],[0.5555555555555556,\"#d8576b\"],[0.6666666666666666,\"#ed7953\"],[0.7777777777777778,\"#fb9f3a\"],[0.8888888888888888,\"#fdca26\"],[1.0,\"#f0f921\"]]}],\"contourcarpet\":[{\"type\":\"contourcarpet\",\"colorbar\":{\"outlinewidth\":0,\"ticks\":\"\"}}],\"contour\":[{\"type\":\"contour\",\"colorbar\":{\"outlinewidth\":0,\"ticks\":\"\"},\"colorscale\":[[0.0,\"#0d0887\"],[0.1111111111111111,\"#46039f\"],[0.2222222222222222,\"#7201a8\"],[0.3333333333333333,\"#9c179e\"],[0.4444444444444444,\"#bd3786\"],[0.5555555555555556,\"#d8576b\"],[0.6666666666666666,\"#ed7953\"],[0.7777777777777778,\"#fb9f3a\"],[0.8888888888888888,\"#fdca26\"],[1.0,\"#f0f921\"]]}],\"surface\":[{\"type\":\"surface\",\"colorbar\":{\"outlinewidth\":0,\"ticks\":\"\"},\"colorscale\":[[0.0,\"#0d0887\"],[0.1111111111111111,\"#46039f\"],[0.2222222222222222,\"#7201a8\"],[0.3333333333333333,\"#9c179e\"],[0.4444444444444444,\"#bd3786\"],[0.5555555555555556,\"#d8576b\"],[0.6666666666666666,\"#ed7953\"],[0.7777777777777778,\"#fb9f3a\"],[0.8888888888888888,\"#fdca26\"],[1.0,\"#f0f921\"]]}],\"mesh3d\":[{\"type\":\"mesh3d\",\"colorbar\":{\"outlinewidth\":0,\"ticks\":\"\"}}],\"scatter\":[{\"marker\":{\"line\":{\"color\":\"#283442\"}},\"type\":\"scatter\"}],\"parcoords\":[{\"type\":\"parcoords\",\"line\":{\"colorbar\":{\"outlinewidth\":0,\"ticks\":\"\"}}}],\"scatterpolargl\":[{\"type\":\"scatterpolargl\",\"marker\":{\"colorbar\":{\"outlinewidth\":0,\"ticks\":\"\"}}}],\"bar\":[{\"error_x\":{\"color\":\"#f2f5fa\"},\"error_y\":{\"color\":\"#f2f5fa\"},\"marker\":{\"line\":{\"color\":\"rgb(17,17,17)\",\"width\":0.5},\"pattern\":{\"fillmode\":\"overlay\",\"size\":10,\"solidity\":0.2}},\"type\":\"bar\"}],\"scattergeo\":[{\"type\":\"scattergeo\",\"marker\":{\"colorbar\":{\"outlinewidth\":0,\"ticks\":\"\"}}}],\"scatterpolar\":[{\"type\":\"scatterpolar\",\"marker\":{\"colorbar\":{\"outlinewidth\":0,\"ticks\":\"\"}}}],\"histogram\":[{\"marker\":{\"pattern\":{\"fillmode\":\"overlay\",\"size\":10,\"solidity\":0.2}},\"type\":\"histogram\"}],\"scattergl\":[{\"marker\":{\"line\":{\"color\":\"#283442\"}},\"type\":\"scattergl\"}],\"scatter3d\":[{\"type\":\"scatter3d\",\"line\":{\"colorbar\":{\"outlinewidth\":0,\"ticks\":\"\"}},\"marker\":{\"colorbar\":{\"outlinewidth\":0,\"ticks\":\"\"}}}],\"scattermapbox\":[{\"type\":\"scattermapbox\",\"marker\":{\"colorbar\":{\"outlinewidth\":0,\"ticks\":\"\"}}}],\"scatterternary\":[{\"type\":\"scatterternary\",\"marker\":{\"colorbar\":{\"outlinewidth\":0,\"ticks\":\"\"}}}],\"scattercarpet\":[{\"type\":\"scattercarpet\",\"marker\":{\"colorbar\":{\"outlinewidth\":0,\"ticks\":\"\"}}}],\"carpet\":[{\"aaxis\":{\"endlinecolor\":\"#A2B1C6\",\"gridcolor\":\"#506784\",\"linecolor\":\"#506784\",\"minorgridcolor\":\"#506784\",\"startlinecolor\":\"#A2B1C6\"},\"baxis\":{\"endlinecolor\":\"#A2B1C6\",\"gridcolor\":\"#506784\",\"linecolor\":\"#506784\",\"minorgridcolor\":\"#506784\",\"startlinecolor\":\"#A2B1C6\"},\"type\":\"carpet\"}],\"table\":[{\"cells\":{\"fill\":{\"color\":\"#506784\"},\"line\":{\"color\":\"rgb(17,17,17)\"}},\"header\":{\"fill\":{\"color\":\"#2a3f5f\"},\"line\":{\"color\":\"rgb(17,17,17)\"}},\"type\":\"table\"}],\"barpolar\":[{\"marker\":{\"line\":{\"color\":\"rgb(17,17,17)\",\"width\":0.5},\"pattern\":{\"fillmode\":\"overlay\",\"size\":10,\"solidity\":0.2}},\"type\":\"barpolar\"}],\"pie\":[{\"automargin\":true,\"type\":\"pie\"}]},\"layout\":{\"autotypenumbers\":\"strict\",\"colorway\":[\"#636efa\",\"#EF553B\",\"#00cc96\",\"#ab63fa\",\"#FFA15A\",\"#19d3f3\",\"#FF6692\",\"#B6E880\",\"#FF97FF\",\"#FECB52\"],\"font\":{\"color\":\"#f2f5fa\"},\"hovermode\":\"closest\",\"hoverlabel\":{\"align\":\"left\"},\"paper_bgcolor\":\"rgb(17,17,17)\",\"plot_bgcolor\":\"rgb(17,17,17)\",\"polar\":{\"bgcolor\":\"rgb(17,17,17)\",\"angularaxis\":{\"gridcolor\":\"#506784\",\"linecolor\":\"#506784\",\"ticks\":\"\"},\"radialaxis\":{\"gridcolor\":\"#506784\",\"linecolor\":\"#506784\",\"ticks\":\"\"}},\"ternary\":{\"bgcolor\":\"rgb(17,17,17)\",\"aaxis\":{\"gridcolor\":\"#506784\",\"linecolor\":\"#506784\",\"ticks\":\"\"},\"baxis\":{\"gridcolor\":\"#506784\",\"linecolor\":\"#506784\",\"ticks\":\"\"},\"caxis\":{\"gridcolor\":\"#506784\",\"linecolor\":\"#506784\",\"ticks\":\"\"}},\"coloraxis\":{\"colorbar\":{\"outlinewidth\":0,\"ticks\":\"\"}},\"colorscale\":{\"sequential\":[[0.0,\"#0d0887\"],[0.1111111111111111,\"#46039f\"],[0.2222222222222222,\"#7201a8\"],[0.3333333333333333,\"#9c179e\"],[0.4444444444444444,\"#bd3786\"],[0.5555555555555556,\"#d8576b\"],[0.6666666666666666,\"#ed7953\"],[0.7777777777777778,\"#fb9f3a\"],[0.8888888888888888,\"#fdca26\"],[1.0,\"#f0f921\"]],\"sequentialminus\":[[0.0,\"#0d0887\"],[0.1111111111111111,\"#46039f\"],[0.2222222222222222,\"#7201a8\"],[0.3333333333333333,\"#9c179e\"],[0.4444444444444444,\"#bd3786\"],[0.5555555555555556,\"#d8576b\"],[0.6666666666666666,\"#ed7953\"],[0.7777777777777778,\"#fb9f3a\"],[0.8888888888888888,\"#fdca26\"],[1.0,\"#f0f921\"]],\"diverging\":[[0,\"#8e0152\"],[0.1,\"#c51b7d\"],[0.2,\"#de77ae\"],[0.3,\"#f1b6da\"],[0.4,\"#fde0ef\"],[0.5,\"#f7f7f7\"],[0.6,\"#e6f5d0\"],[0.7,\"#b8e186\"],[0.8,\"#7fbc41\"],[0.9,\"#4d9221\"],[1,\"#276419\"]]},\"xaxis\":{\"gridcolor\":\"#283442\",\"linecolor\":\"#506784\",\"ticks\":\"\",\"title\":{\"standoff\":15},\"zerolinecolor\":\"#283442\",\"automargin\":true,\"zerolinewidth\":2},\"yaxis\":{\"gridcolor\":\"#283442\",\"linecolor\":\"#506784\",\"ticks\":\"\",\"title\":{\"standoff\":15},\"zerolinecolor\":\"#283442\",\"automargin\":true,\"zerolinewidth\":2},\"scene\":{\"xaxis\":{\"backgroundcolor\":\"rgb(17,17,17)\",\"gridcolor\":\"#506784\",\"linecolor\":\"#506784\",\"showbackground\":true,\"ticks\":\"\",\"zerolinecolor\":\"#C8D4E3\",\"gridwidth\":2},\"yaxis\":{\"backgroundcolor\":\"rgb(17,17,17)\",\"gridcolor\":\"#506784\",\"linecolor\":\"#506784\",\"showbackground\":true,\"ticks\":\"\",\"zerolinecolor\":\"#C8D4E3\",\"gridwidth\":2},\"zaxis\":{\"backgroundcolor\":\"rgb(17,17,17)\",\"gridcolor\":\"#506784\",\"linecolor\":\"#506784\",\"showbackground\":true,\"ticks\":\"\",\"zerolinecolor\":\"#C8D4E3\",\"gridwidth\":2}},\"shapedefaults\":{\"line\":{\"color\":\"#f2f5fa\"}},\"annotationdefaults\":{\"arrowcolor\":\"#f2f5fa\",\"arrowhead\":0,\"arrowwidth\":1},\"geo\":{\"bgcolor\":\"rgb(17,17,17)\",\"landcolor\":\"rgb(17,17,17)\",\"subunitcolor\":\"#506784\",\"showland\":true,\"showlakes\":true,\"lakecolor\":\"rgb(17,17,17)\"},\"title\":{\"x\":0.05},\"updatemenudefaults\":{\"bgcolor\":\"#506784\",\"borderwidth\":0},\"sliderdefaults\":{\"bgcolor\":\"#C8D4E3\",\"borderwidth\":1,\"bordercolor\":\"rgb(17,17,17)\",\"tickwidth\":0},\"mapbox\":{\"style\":\"dark\"}}},\"xaxis\":{\"anchor\":\"y\",\"domain\":[0.0,1.0],\"title\":{\"text\":\"Teljes l\\u00e9tsz\\u00e1m\"}},\"yaxis\":{\"anchor\":\"x\",\"domain\":[0.0,1.0],\"title\":{\"text\":\"Jelentkez\\u00e9si r\\u00e1ta\"}},\"legend\":{\"tracegroupgap\":0},\"title\":{\"text\":\"Jelentkez\\u00e9si ar\\u00e1nysz\\u00e1mok\"}},                        {\"responsive\": true}                    ).then(function(){\n                            \nvar gd = document.getElementById('5d94c983-5e31-45cf-8839-50bad85ec080');\nvar x = new MutationObserver(function (mutations, observer) {{\n        var display = window.getComputedStyle(gd).display;\n        if (!display || display === 'none') {{\n            console.log([gd, 'removed!']);\n            Plotly.purge(gd);\n            observer.disconnect();\n        }}\n}});\n\n// Listen for the removal of the full notebook cells\nvar notebookContainer = gd.closest('#notebook-container');\nif (notebookContainer) {{\n    x.observe(notebookContainer, {childList: true});\n}}\n\n// Listen for the clearing of the current output cell\nvar outputEl = gd.closest('.output');\nif (outputEl) {{\n    x.observe(outputEl, {childList: true});\n}}\n\n                        })                };                });            </script>        </div>"
     },
     "metadata": {},
     "output_type": "display_data"
    }
   ],
   "source": [
    "analize_acceptance_ratio(df)"
   ],
   "metadata": {
    "collapsed": false,
    "ExecuteTime": {
     "end_time": "2023-10-11T09:03:48.521096300Z",
     "start_time": "2023-10-11T09:03:41.811537100Z"
    }
   }
  },
  {
   "cell_type": "code",
   "execution_count": 68,
   "outputs": [
    {
     "data": {
      "text/plain": "előkészítő típusa                            nem premomés  premomés\nkurzus neve             felvételi kategória                        \nNaN                     felvett                     151.0       NaN\n                        nem felvett                1883.0       NaN\nSPARK Sprint            nem jelentkezett              NaN      20.0\nanimáció                nem felvett                   NaN      16.0\n                        nem jelentkezett              NaN       5.0\ndesignkultúra           felvett                       NaN       3.0\n                        nem jelentkezett              NaN       1.0\nformatervezés           felvett                       NaN      11.0\n                        nem felvett                   NaN       7.0\n                        nem jelentkezett              NaN       2.0\nformatervezés szakirány felvett                       NaN       1.0\n                        nem jelentkezett              NaN       3.0\nfotográfia              felvett                       NaN       3.0\n                        nem felvett                   NaN       3.0\n                        nem jelentkezett              NaN       6.0\nmédia design            felvett                       NaN       3.0\n                        nem felvett                   NaN      13.0\n                        nem jelentkezett              NaN       1.0\nrajz                    felvett                       NaN       7.0\n                        nem felvett                   NaN      37.0\n                        nem jelentkezett              NaN      50.0\ntervezőgrafika          felvett                       NaN      13.0\n                        nem felvett                   NaN       9.0\n                        nem jelentkezett              NaN      16.0\ntextiltervezés          felvett                       NaN       7.0\n                        nem felvett                   NaN      15.0\n                        nem jelentkezett              NaN      22.0\ntárgyalkotás            felvett                       NaN       4.0\n                        nem felvett                   NaN       3.0\n                        nem jelentkezett              NaN       2.0\népítészet               nem felvett                   NaN      10.0\n                        nem jelentkezett              NaN       3.0",
      "text/html": "<div>\n<style scoped>\n    .dataframe tbody tr th:only-of-type {\n        vertical-align: middle;\n    }\n\n    .dataframe tbody tr th {\n        vertical-align: top;\n    }\n\n    .dataframe thead th {\n        text-align: right;\n    }\n</style>\n<table border=\"1\" class=\"dataframe\">\n  <thead>\n    <tr style=\"text-align: right;\">\n      <th></th>\n      <th>előkészítő típusa</th>\n      <th>nem premomés</th>\n      <th>premomés</th>\n    </tr>\n    <tr>\n      <th>kurzus neve</th>\n      <th>felvételi kategória</th>\n      <th></th>\n      <th></th>\n    </tr>\n  </thead>\n  <tbody>\n    <tr>\n      <th rowspan=\"2\" valign=\"top\">NaN</th>\n      <th>felvett</th>\n      <td>151.0</td>\n      <td>NaN</td>\n    </tr>\n    <tr>\n      <th>nem felvett</th>\n      <td>1883.0</td>\n      <td>NaN</td>\n    </tr>\n    <tr>\n      <th>SPARK Sprint</th>\n      <th>nem jelentkezett</th>\n      <td>NaN</td>\n      <td>20.0</td>\n    </tr>\n    <tr>\n      <th rowspan=\"2\" valign=\"top\">animáció</th>\n      <th>nem felvett</th>\n      <td>NaN</td>\n      <td>16.0</td>\n    </tr>\n    <tr>\n      <th>nem jelentkezett</th>\n      <td>NaN</td>\n      <td>5.0</td>\n    </tr>\n    <tr>\n      <th rowspan=\"2\" valign=\"top\">designkultúra</th>\n      <th>felvett</th>\n      <td>NaN</td>\n      <td>3.0</td>\n    </tr>\n    <tr>\n      <th>nem jelentkezett</th>\n      <td>NaN</td>\n      <td>1.0</td>\n    </tr>\n    <tr>\n      <th rowspan=\"3\" valign=\"top\">formatervezés</th>\n      <th>felvett</th>\n      <td>NaN</td>\n      <td>11.0</td>\n    </tr>\n    <tr>\n      <th>nem felvett</th>\n      <td>NaN</td>\n      <td>7.0</td>\n    </tr>\n    <tr>\n      <th>nem jelentkezett</th>\n      <td>NaN</td>\n      <td>2.0</td>\n    </tr>\n    <tr>\n      <th rowspan=\"2\" valign=\"top\">formatervezés szakirány</th>\n      <th>felvett</th>\n      <td>NaN</td>\n      <td>1.0</td>\n    </tr>\n    <tr>\n      <th>nem jelentkezett</th>\n      <td>NaN</td>\n      <td>3.0</td>\n    </tr>\n    <tr>\n      <th rowspan=\"3\" valign=\"top\">fotográfia</th>\n      <th>felvett</th>\n      <td>NaN</td>\n      <td>3.0</td>\n    </tr>\n    <tr>\n      <th>nem felvett</th>\n      <td>NaN</td>\n      <td>3.0</td>\n    </tr>\n    <tr>\n      <th>nem jelentkezett</th>\n      <td>NaN</td>\n      <td>6.0</td>\n    </tr>\n    <tr>\n      <th rowspan=\"3\" valign=\"top\">média design</th>\n      <th>felvett</th>\n      <td>NaN</td>\n      <td>3.0</td>\n    </tr>\n    <tr>\n      <th>nem felvett</th>\n      <td>NaN</td>\n      <td>13.0</td>\n    </tr>\n    <tr>\n      <th>nem jelentkezett</th>\n      <td>NaN</td>\n      <td>1.0</td>\n    </tr>\n    <tr>\n      <th rowspan=\"3\" valign=\"top\">rajz</th>\n      <th>felvett</th>\n      <td>NaN</td>\n      <td>7.0</td>\n    </tr>\n    <tr>\n      <th>nem felvett</th>\n      <td>NaN</td>\n      <td>37.0</td>\n    </tr>\n    <tr>\n      <th>nem jelentkezett</th>\n      <td>NaN</td>\n      <td>50.0</td>\n    </tr>\n    <tr>\n      <th rowspan=\"3\" valign=\"top\">tervezőgrafika</th>\n      <th>felvett</th>\n      <td>NaN</td>\n      <td>13.0</td>\n    </tr>\n    <tr>\n      <th>nem felvett</th>\n      <td>NaN</td>\n      <td>9.0</td>\n    </tr>\n    <tr>\n      <th>nem jelentkezett</th>\n      <td>NaN</td>\n      <td>16.0</td>\n    </tr>\n    <tr>\n      <th rowspan=\"3\" valign=\"top\">textiltervezés</th>\n      <th>felvett</th>\n      <td>NaN</td>\n      <td>7.0</td>\n    </tr>\n    <tr>\n      <th>nem felvett</th>\n      <td>NaN</td>\n      <td>15.0</td>\n    </tr>\n    <tr>\n      <th>nem jelentkezett</th>\n      <td>NaN</td>\n      <td>22.0</td>\n    </tr>\n    <tr>\n      <th rowspan=\"3\" valign=\"top\">tárgyalkotás</th>\n      <th>felvett</th>\n      <td>NaN</td>\n      <td>4.0</td>\n    </tr>\n    <tr>\n      <th>nem felvett</th>\n      <td>NaN</td>\n      <td>3.0</td>\n    </tr>\n    <tr>\n      <th>nem jelentkezett</th>\n      <td>NaN</td>\n      <td>2.0</td>\n    </tr>\n    <tr>\n      <th rowspan=\"2\" valign=\"top\">építészet</th>\n      <th>nem felvett</th>\n      <td>NaN</td>\n      <td>10.0</td>\n    </tr>\n    <tr>\n      <th>nem jelentkezett</th>\n      <td>NaN</td>\n      <td>3.0</td>\n    </tr>\n  </tbody>\n</table>\n</div>"
     },
     "execution_count": 68,
     "metadata": {},
     "output_type": "execute_result"
    }
   ],
   "source": [
    "pd.DataFrame(\n",
    "    df.groupby(['kurzus neve', 'előkészítő típusa', 'felvételi kategória'], dropna=False).size()).reset_index().pivot(\n",
    "    index=['kurzus neve', 'felvételi kategória'], columns='előkészítő típusa', values=0)"
   ],
   "metadata": {
    "collapsed": false,
    "ExecuteTime": {
     "end_time": "2023-09-14T12:23:20.529242200Z",
     "start_time": "2023-09-14T12:23:20.434102800Z"
    }
   }
  },
  {
   "cell_type": "code",
   "execution_count": 69,
   "outputs": [],
   "source": [
    "grouped = df.groupby(['előkészítő típusa', 'felvételi kategória'])"
   ],
   "metadata": {
    "collapsed": false,
    "ExecuteTime": {
     "end_time": "2023-09-14T12:23:21.874360600Z",
     "start_time": "2023-09-14T12:23:21.713101Z"
    }
   }
  },
  {
   "cell_type": "code",
   "execution_count": 70,
   "outputs": [],
   "source": [
    "# Create a dictionary of DataFrames\n",
    "dfs_by_merge = {}\n",
    "for name, group in grouped:\n",
    "    cleaned_group = group.dropna(axis=1, how='all')\n",
    "    dfs_by_merge[name] = cleaned_group.reset_index(drop=True)\n"
   ],
   "metadata": {
    "collapsed": false,
    "ExecuteTime": {
     "end_time": "2023-09-14T12:23:23.286252Z",
     "start_time": "2023-09-14T12:23:23.184814700Z"
    }
   }
  },
  {
   "cell_type": "code",
   "execution_count": 71,
   "outputs": [],
   "source": [
    "# Save to Excel, each DataFrame as a separate sheet\n",
    "with pd.ExcelWriter('./results/jelentkezők szétválogatva.xlsx') as writer:\n",
    "    for sheet_name, df_felvi_neptun in dfs_by_merge.items():\n",
    "        df_felvi_neptun.to_excel(writer, sheet_name=', '.join(sheet_name), index=False)"
   ],
   "metadata": {
    "collapsed": false,
    "ExecuteTime": {
     "end_time": "2023-09-14T12:23:37.121397900Z",
     "start_time": "2023-09-14T12:23:31.984156200Z"
    }
   }
  },
  {
   "cell_type": "code",
   "execution_count": 85,
   "outputs": [],
   "source": [
    "df_subset_premome = df[df['előkészítő típusa'] == 'premomés'].copy()"
   ],
   "metadata": {
    "collapsed": false,
    "ExecuteTime": {
     "end_time": "2023-09-14T12:43:35.027080800Z",
     "start_time": "2023-09-14T12:43:34.991374700Z"
    }
   }
  },
  {
   "cell_type": "code",
   "execution_count": 89,
   "outputs": [],
   "source": [
    "df_subset_premome['hallgató képzése'] = df_subset_premome['hallgató képzése'].fillna(\n",
    "    df_subset_premome['felvételi kategória'])"
   ],
   "metadata": {
    "collapsed": false,
    "ExecuteTime": {
     "end_time": "2023-09-14T12:45:27.091551600Z",
     "start_time": "2023-09-14T12:45:27.068190700Z"
    }
   }
  },
  {
   "cell_type": "code",
   "execution_count": 94,
   "outputs": [],
   "source": [
    "tab_harm = df_subset_premome.drop_duplicates(['id', 'kurzus neve'])\n",
    "tab_full = df_subset_premome.drop_duplicates(['id', 'kurzus azonosító'])"
   ],
   "metadata": {
    "collapsed": false,
    "ExecuteTime": {
     "end_time": "2023-09-14T12:53:55.829535300Z",
     "start_time": "2023-09-14T12:53:55.790892100Z"
    }
   }
  },
  {
   "cell_type": "code",
   "execution_count": 99,
   "outputs": [],
   "source": [
    "# Create a crosstab to count transitions between states\n",
    "pd.crosstab(tab_harm['hallgató képzése'], tab_harm['kurzus neve'], rownames=['egyetemi kurzus'],\n",
    "            colnames=['előkészítő kurzus']).T.to_excel('./results/premome honnan hova harmonizált.xlsx')\n",
    "pd.crosstab(tab_full['hallgató képzése'], tab_full['kurzus azonosító'], rownames=['egyetemi kurzus'],\n",
    "            colnames=['előkészítő kurzus']).T.to_excel('./results/premome honnan hova teljes.xlsx')"
   ],
   "metadata": {
    "collapsed": false,
    "ExecuteTime": {
     "end_time": "2023-09-14T13:09:28.325535600Z",
     "start_time": "2023-09-14T13:09:28.051266800Z"
    }
   }
  },
  {
   "cell_type": "code",
   "execution_count": 105,
   "outputs": [
    {
     "data": {
      "text/plain": "array(['nem premomés', 'premomés'], dtype=object)"
     },
     "execution_count": 105,
     "metadata": {},
     "output_type": "execute_result"
    }
   ],
   "source": [
    "df['felvételi kategória'].unique()"
   ],
   "metadata": {
    "collapsed": false,
    "ExecuteTime": {
     "end_time": "2023-09-14T13:34:08.981580400Z",
     "start_time": "2023-09-14T13:34:08.926126300Z"
    }
   }
  },
  {
   "cell_type": "markdown",
   "source": [
    "## Generate Sankey"
   ],
   "metadata": {
    "collapsed": false
   }
  },
  {
   "cell_type": "code",
   "execution_count": 107,
   "outputs": [],
   "source": [
    "import itertools"
   ],
   "metadata": {
    "collapsed": false,
    "ExecuteTime": {
     "end_time": "2023-09-14T13:34:54.389530400Z",
     "start_time": "2023-09-14T13:34:54.315061400Z"
    }
   }
  },
  {
   "cell_type": "code",
   "execution_count": 151,
   "outputs": [],
   "source": [
    "def gen_states(dataframe, source_col: str = 'előkészítő típusa', target_col: str = 'felvételi kategória'):\n",
    "    states = pd.DataFrame(\n",
    "        list(itertools.product(dataframe[source_col].unique(), dataframe[target_col].unique())))\n",
    "    states.columns = ['source', 'target']\n",
    "    states['value'] = states.apply(lambda x: dataframe[\n",
    "        dataframe[target_col].str.contains(f'^{x[\"target\"]}') & dataframe[source_col].str.contains(\n",
    "            f'^{x[\"source\"]}')].drop_duplicates(['id']).shape[0], axis=1)\n",
    "    return states\n",
    "\n",
    "\n",
    "def visualize_sankey(df):\n",
    "    source_factorized, source_labels = pd.factorize(df['source'])\n",
    "    target_factorized, target_labels = pd.factorize(df['target'])\n",
    "\n",
    "    # Update DataFrame with factorized source and target columns\n",
    "    df['source_factorized'] = source_factorized\n",
    "    df['target_factorized'] = target_factorized\n",
    "\n",
    "    # Create lists for source, target, and values\n",
    "    source_list = df['source_factorized'].tolist()\n",
    "    target_list = df['target_factorized'].tolist()\n",
    "    value_list = df['value'].tolist()\n",
    "\n",
    "    # Combine source and target labels for unique labels\n",
    "    all_labels = source_labels.tolist() + target_labels.tolist()\n",
    "\n",
    "    # Adjust target indices to make them unique across source and target\n",
    "    target_list_adjusted = [x + len(source_labels) for x in target_list]\n",
    "\n",
    "    # Create the Sankey diagram\n",
    "    fig = go.Figure(data=[go.Sankey(\n",
    "        node=dict(\n",
    "            pad=15,\n",
    "            thickness=20,\n",
    "            line=dict(color=\"black\", width=0.5),\n",
    "            label=all_labels,\n",
    "        ),\n",
    "        link=dict(\n",
    "            source=source_list,\n",
    "            target=target_list_adjusted,\n",
    "            value=value_list,\n",
    "        )\n",
    "    )])\n",
    "\n",
    "    #fig.show()\n",
    "    return fig\n"
   ],
   "metadata": {
    "collapsed": false,
    "ExecuteTime": {
     "end_time": "2023-09-14T13:59:30.384517800Z",
     "start_time": "2023-09-14T13:59:30.353548300Z"
    }
   }
  },
  {
   "cell_type": "code",
   "execution_count": 143,
   "outputs": [],
   "source": [
    "states = gen_states(df)"
   ],
   "metadata": {
    "collapsed": false,
    "ExecuteTime": {
     "end_time": "2023-09-14T13:52:19.917296600Z",
     "start_time": "2023-09-14T13:52:19.806498600Z"
    }
   }
  },
  {
   "cell_type": "code",
   "execution_count": 160,
   "outputs": [],
   "source": [
    "fig = visualize_sankey(gen_states(df.drop_duplicates('id')))\n",
    "fig.update_layout(title='Felvételi folyamatok alakulása')\n",
    "fig.write_image(\"results/plots/sankey_diagram_teljes.png\", scale=5)"
   ],
   "metadata": {
    "collapsed": false,
    "ExecuteTime": {
     "end_time": "2023-09-14T14:06:45.586527900Z",
     "start_time": "2023-09-14T14:06:45.201949Z"
    }
   }
  },
  {
   "cell_type": "code",
   "execution_count": 156,
   "outputs": [],
   "source": [
    "df['hallgató képzése'] = df['hallgató képzése'].fillna(df['felvételi kategória'])"
   ],
   "metadata": {
    "collapsed": false,
    "ExecuteTime": {
     "end_time": "2023-09-14T14:04:10.549240Z",
     "start_time": "2023-09-14T14:04:10.502745200Z"
    }
   }
  },
  {
   "cell_type": "code",
   "execution_count": 175,
   "outputs": [],
   "source": [
    "visualize_sankey(\n",
    "    gen_states(df.drop_duplicates('id'), source_col='előkészítő típusa', target_col='hallgató képzése')).write_image(\n",
    "    \"results/plots/sankey_diagram_premome_hova.png\", scale=5)"
   ],
   "metadata": {
    "collapsed": false,
    "ExecuteTime": {
     "end_time": "2023-09-14T14:35:05.780385500Z",
     "start_time": "2023-09-14T14:35:03.643576Z"
    }
   }
  },
  {
   "cell_type": "code",
   "execution_count": 176,
   "outputs": [],
   "source": [
    "visualize_sankey(gen_states(df, source_col='kurzus neve', target_col='hallgató képzése')).write_image(\n",
    "    \"results/plots/sankey_diagram_premome_hurzus_hova.png\", scale=5)"
   ],
   "metadata": {
    "collapsed": false,
    "ExecuteTime": {
     "end_time": "2023-09-14T14:35:29.350570700Z",
     "start_time": "2023-09-14T14:35:26.355100800Z"
    }
   }
  }
 ],
 "metadata": {
  "kernelspec": {
   "display_name": "Python 3",
   "language": "python",
   "name": "python3"
  },
  "language_info": {
   "codemirror_mode": {
    "name": "ipython",
    "version": 2
   },
   "file_extension": ".py",
   "mimetype": "text/x-python",
   "name": "python",
   "nbconvert_exporter": "python",
   "pygments_lexer": "ipython2",
   "version": "2.7.6"
  }
 },
 "nbformat": 4,
 "nbformat_minor": 0
}
