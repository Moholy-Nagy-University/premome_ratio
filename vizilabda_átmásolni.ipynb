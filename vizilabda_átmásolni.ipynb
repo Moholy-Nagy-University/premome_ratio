{
 "cells": [
  {
   "cell_type": "code",
   "execution_count": 24,
   "outputs": [],
   "source": [
    "import requests\n",
    "\n",
    "headers = {\n",
    "    'authority': 'mvlsz-dbank-api.webpont.com',\n",
    "    'accept': '*/*',\n",
    "    'accept-language': 'hu-HU,hu;q=0.9,en-US;q=0.8,en;q=0.7,ro;q=0.6',\n",
    "    'origin': 'https://www.waterpolo.hu',\n",
    "    'referer': 'https://www.waterpolo.hu/',\n",
    "    'sec-ch-ua': '\"Chromium\";v=\"116\", \"Not)A;Brand\";v=\"24\", \"Google Chrome\";v=\"116\"',\n",
    "    'sec-ch-ua-mobile': '?0',\n",
    "    'sec-ch-ua-platform': '\"Windows\"',\n",
    "    'sec-fetch-dest': 'empty',\n",
    "    'sec-fetch-mode': 'cors',\n",
    "    'sec-fetch-site': 'cross-site',\n",
    "    'user-agent': 'Mozilla/5.0 (Windows NT 10.0; Win64; x64) AppleWebKit/537.36 (KHTML, like Gecko) Chrome/116.0.0.0 Safari/537.36',\n",
    "    'x-auth-api-key': 'vE9Zwhmozge90dO9Qrt8onUx0WSbHBAW',\n",
    "}\n",
    "\n",
    "response = requests.get('https://mvlsz-dbank-api.webpont.com/api/v1/players/search', headers=headers)"
   ],
   "metadata": {
    "collapsed": false,
    "ExecuteTime": {
     "end_time": "2023-08-28T11:38:52.269360200Z",
     "start_time": "2023-08-28T11:38:51.847066800Z"
    }
   }
  },
  {
   "cell_type": "code",
   "execution_count": 25,
   "outputs": [],
   "source": [
    "import pandas as pd"
   ],
   "metadata": {
    "collapsed": false,
    "ExecuteTime": {
     "end_time": "2023-08-28T11:38:52.276176400Z",
     "start_time": "2023-08-28T11:38:52.272652700Z"
    }
   }
  },
  {
   "cell_type": "code",
   "execution_count": 26,
   "outputs": [],
   "source": [
    "from tqdm import tqdm"
   ],
   "metadata": {
    "collapsed": false,
    "ExecuteTime": {
     "end_time": "2023-08-28T11:38:52.282653900Z",
     "start_time": "2023-08-28T11:38:52.277173100Z"
    }
   }
  },
  {
   "cell_type": "code",
   "execution_count": 27,
   "outputs": [],
   "source": [
    "df = pd.DataFrame(response.json()['data'])"
   ],
   "metadata": {
    "collapsed": false,
    "ExecuteTime": {
     "end_time": "2023-08-28T11:38:52.943778Z",
     "start_time": "2023-08-28T11:38:52.917635600Z"
    }
   }
  },
  {
   "cell_type": "code",
   "execution_count": 5,
   "outputs": [],
   "source": [
    "def get_player_from_id(id_list, headers):\n",
    "    return pd.concat([pd.DataFrame(requests.get(f'https://mvlsz-dbank-api.webpont.com/api/v1/players/{id}', headers=headers).json()['data']) for id in tqdm(id_list)])"
   ],
   "metadata": {
    "collapsed": false,
    "ExecuteTime": {
     "end_time": "2023-08-28T10:41:06.886542Z",
     "start_time": "2023-08-28T10:41:06.877526200Z"
    }
   }
  },
  {
   "cell_type": "code",
   "execution_count": 6,
   "outputs": [],
   "source": [
    "headers = {\n",
    "    'authority': 'mvlsz-dbank-api.webpont.com',\n",
    "    'accept': '*/*',\n",
    "    'accept-language': 'hu-HU,hu;q=0.9,en-US;q=0.8,en;q=0.7,ro;q=0.6',\n",
    "    'origin': 'https://www.waterpolo.hu',\n",
    "    'referer': 'https://www.waterpolo.hu/',\n",
    "    'sec-ch-ua': '\"Chromium\";v=\"116\", \"Not)A;Brand\";v=\"24\", \"Google Chrome\";v=\"116\"',\n",
    "    'sec-ch-ua-mobile': '?0',\n",
    "    'sec-ch-ua-platform': '\"Windows\"',\n",
    "    'sec-fetch-dest': 'empty',\n",
    "    'sec-fetch-mode': 'cors',\n",
    "    'sec-fetch-site': 'cross-site',\n",
    "    'user-agent': 'Mozilla/5.0 (Windows NT 10.0; Win64; x64) AppleWebKit/537.36 (KHTML, like Gecko) Chrome/116.0.0.0 Safari/537.36',\n",
    "    'x-auth-api-key': 'vE9Zwhmozge90dO9Qrt8onUx0WSbHBAW',\n",
    "}"
   ],
   "metadata": {
    "collapsed": false,
    "ExecuteTime": {
     "end_time": "2023-08-28T10:41:06.907880300Z",
     "start_time": "2023-08-28T10:41:06.891983300Z"
    }
   }
  },
  {
   "cell_type": "code",
   "execution_count": 7,
   "outputs": [
    {
     "name": "stderr",
     "output_type": "stream",
     "text": [
      "  0%|          | 0/1 [00:00<?, ?it/s]"
     ]
    },
    {
     "ename": "ValueError",
     "evalue": "Mixing dicts with non-Series may lead to ambiguous ordering.",
     "output_type": "error",
     "traceback": [
      "\u001B[1;31m---------------------------------------------------------------------------\u001B[0m",
      "\u001B[1;31mValueError\u001B[0m                                Traceback (most recent call last)",
      "Cell \u001B[1;32mIn[7], line 1\u001B[0m\n\u001B[1;32m----> 1\u001B[0m df_players \u001B[38;5;241m=\u001B[39m get_player_from_id([df[\u001B[38;5;124m'\u001B[39m\u001B[38;5;124mj_id\u001B[39m\u001B[38;5;124m'\u001B[39m][\u001B[38;5;241m0\u001B[39m]], headers)\n",
      "Cell \u001B[1;32mIn[5], line 2\u001B[0m, in \u001B[0;36mget_player_from_id\u001B[1;34m(id_list, headers)\u001B[0m\n\u001B[0;32m      1\u001B[0m \u001B[38;5;28;01mdef\u001B[39;00m \u001B[38;5;21mget_player_from_id\u001B[39m(id_list, headers):\n\u001B[1;32m----> 2\u001B[0m     \u001B[38;5;28;01mreturn\u001B[39;00m pd\u001B[38;5;241m.\u001B[39mconcat([pd\u001B[38;5;241m.\u001B[39mDataFrame(requests\u001B[38;5;241m.\u001B[39mget(\u001B[38;5;124mf\u001B[39m\u001B[38;5;124m'\u001B[39m\u001B[38;5;124mhttps://mvlsz-dbank-api.webpont.com/api/v1/players/\u001B[39m\u001B[38;5;132;01m{\u001B[39;00m\u001B[38;5;28mid\u001B[39m\u001B[38;5;132;01m}\u001B[39;00m\u001B[38;5;124m'\u001B[39m, headers\u001B[38;5;241m=\u001B[39mheaders)\u001B[38;5;241m.\u001B[39mjson()[\u001B[38;5;124m'\u001B[39m\u001B[38;5;124mdata\u001B[39m\u001B[38;5;124m'\u001B[39m]) \u001B[38;5;28;01mfor\u001B[39;00m \u001B[38;5;28mid\u001B[39m \u001B[38;5;129;01min\u001B[39;00m tqdm(id_list)])\n",
      "Cell \u001B[1;32mIn[5], line 2\u001B[0m, in \u001B[0;36m<listcomp>\u001B[1;34m(.0)\u001B[0m\n\u001B[0;32m      1\u001B[0m \u001B[38;5;28;01mdef\u001B[39;00m \u001B[38;5;21mget_player_from_id\u001B[39m(id_list, headers):\n\u001B[1;32m----> 2\u001B[0m     \u001B[38;5;28;01mreturn\u001B[39;00m pd\u001B[38;5;241m.\u001B[39mconcat([pd\u001B[38;5;241m.\u001B[39mDataFrame(requests\u001B[38;5;241m.\u001B[39mget(\u001B[38;5;124mf\u001B[39m\u001B[38;5;124m'\u001B[39m\u001B[38;5;124mhttps://mvlsz-dbank-api.webpont.com/api/v1/players/\u001B[39m\u001B[38;5;132;01m{\u001B[39;00m\u001B[38;5;28mid\u001B[39m\u001B[38;5;132;01m}\u001B[39;00m\u001B[38;5;124m'\u001B[39m, headers\u001B[38;5;241m=\u001B[39mheaders)\u001B[38;5;241m.\u001B[39mjson()[\u001B[38;5;124m'\u001B[39m\u001B[38;5;124mdata\u001B[39m\u001B[38;5;124m'\u001B[39m]) \u001B[38;5;28;01mfor\u001B[39;00m \u001B[38;5;28mid\u001B[39m \u001B[38;5;129;01min\u001B[39;00m tqdm(id_list)])\n",
      "File \u001B[1;32m~\\.conda\\envs\\NLP_MOME\\Lib\\site-packages\\pandas\\core\\frame.py:664\u001B[0m, in \u001B[0;36mDataFrame.__init__\u001B[1;34m(self, data, index, columns, dtype, copy)\u001B[0m\n\u001B[0;32m    658\u001B[0m     mgr \u001B[38;5;241m=\u001B[39m \u001B[38;5;28mself\u001B[39m\u001B[38;5;241m.\u001B[39m_init_mgr(\n\u001B[0;32m    659\u001B[0m         data, axes\u001B[38;5;241m=\u001B[39m{\u001B[38;5;124m\"\u001B[39m\u001B[38;5;124mindex\u001B[39m\u001B[38;5;124m\"\u001B[39m: index, \u001B[38;5;124m\"\u001B[39m\u001B[38;5;124mcolumns\u001B[39m\u001B[38;5;124m\"\u001B[39m: columns}, dtype\u001B[38;5;241m=\u001B[39mdtype, copy\u001B[38;5;241m=\u001B[39mcopy\n\u001B[0;32m    660\u001B[0m     )\n\u001B[0;32m    662\u001B[0m \u001B[38;5;28;01melif\u001B[39;00m \u001B[38;5;28misinstance\u001B[39m(data, \u001B[38;5;28mdict\u001B[39m):\n\u001B[0;32m    663\u001B[0m     \u001B[38;5;66;03m# GH#38939 de facto copy defaults to False only in non-dict cases\u001B[39;00m\n\u001B[1;32m--> 664\u001B[0m     mgr \u001B[38;5;241m=\u001B[39m dict_to_mgr(data, index, columns, dtype\u001B[38;5;241m=\u001B[39mdtype, copy\u001B[38;5;241m=\u001B[39mcopy, typ\u001B[38;5;241m=\u001B[39mmanager)\n\u001B[0;32m    665\u001B[0m \u001B[38;5;28;01melif\u001B[39;00m \u001B[38;5;28misinstance\u001B[39m(data, ma\u001B[38;5;241m.\u001B[39mMaskedArray):\n\u001B[0;32m    666\u001B[0m     \u001B[38;5;28;01mimport\u001B[39;00m \u001B[38;5;21;01mnumpy\u001B[39;00m\u001B[38;5;21;01m.\u001B[39;00m\u001B[38;5;21;01mma\u001B[39;00m\u001B[38;5;21;01m.\u001B[39;00m\u001B[38;5;21;01mmrecords\u001B[39;00m \u001B[38;5;28;01mas\u001B[39;00m \u001B[38;5;21;01mmrecords\u001B[39;00m\n",
      "File \u001B[1;32m~\\.conda\\envs\\NLP_MOME\\Lib\\site-packages\\pandas\\core\\internals\\construction.py:493\u001B[0m, in \u001B[0;36mdict_to_mgr\u001B[1;34m(data, index, columns, dtype, typ, copy)\u001B[0m\n\u001B[0;32m    489\u001B[0m     \u001B[38;5;28;01melse\u001B[39;00m:\n\u001B[0;32m    490\u001B[0m         \u001B[38;5;66;03m# dtype check to exclude e.g. range objects, scalars\u001B[39;00m\n\u001B[0;32m    491\u001B[0m         arrays \u001B[38;5;241m=\u001B[39m [x\u001B[38;5;241m.\u001B[39mcopy() \u001B[38;5;28;01mif\u001B[39;00m \u001B[38;5;28mhasattr\u001B[39m(x, \u001B[38;5;124m\"\u001B[39m\u001B[38;5;124mdtype\u001B[39m\u001B[38;5;124m\"\u001B[39m) \u001B[38;5;28;01melse\u001B[39;00m x \u001B[38;5;28;01mfor\u001B[39;00m x \u001B[38;5;129;01min\u001B[39;00m arrays]\n\u001B[1;32m--> 493\u001B[0m \u001B[38;5;28;01mreturn\u001B[39;00m arrays_to_mgr(arrays, columns, index, dtype\u001B[38;5;241m=\u001B[39mdtype, typ\u001B[38;5;241m=\u001B[39mtyp, consolidate\u001B[38;5;241m=\u001B[39mcopy)\n",
      "File \u001B[1;32m~\\.conda\\envs\\NLP_MOME\\Lib\\site-packages\\pandas\\core\\internals\\construction.py:118\u001B[0m, in \u001B[0;36marrays_to_mgr\u001B[1;34m(arrays, columns, index, dtype, verify_integrity, typ, consolidate)\u001B[0m\n\u001B[0;32m    115\u001B[0m \u001B[38;5;28;01mif\u001B[39;00m verify_integrity:\n\u001B[0;32m    116\u001B[0m     \u001B[38;5;66;03m# figure out the index, if necessary\u001B[39;00m\n\u001B[0;32m    117\u001B[0m     \u001B[38;5;28;01mif\u001B[39;00m index \u001B[38;5;129;01mis\u001B[39;00m \u001B[38;5;28;01mNone\u001B[39;00m:\n\u001B[1;32m--> 118\u001B[0m         index \u001B[38;5;241m=\u001B[39m _extract_index(arrays)\n\u001B[0;32m    119\u001B[0m     \u001B[38;5;28;01melse\u001B[39;00m:\n\u001B[0;32m    120\u001B[0m         index \u001B[38;5;241m=\u001B[39m ensure_index(index)\n",
      "File \u001B[1;32m~\\.conda\\envs\\NLP_MOME\\Lib\\site-packages\\pandas\\core\\internals\\construction.py:669\u001B[0m, in \u001B[0;36m_extract_index\u001B[1;34m(data)\u001B[0m\n\u001B[0;32m    666\u001B[0m     \u001B[38;5;28;01mraise\u001B[39;00m \u001B[38;5;167;01mValueError\u001B[39;00m(\u001B[38;5;124m\"\u001B[39m\u001B[38;5;124mAll arrays must be of the same length\u001B[39m\u001B[38;5;124m\"\u001B[39m)\n\u001B[0;32m    668\u001B[0m \u001B[38;5;28;01mif\u001B[39;00m have_dicts:\n\u001B[1;32m--> 669\u001B[0m     \u001B[38;5;28;01mraise\u001B[39;00m \u001B[38;5;167;01mValueError\u001B[39;00m(\n\u001B[0;32m    670\u001B[0m         \u001B[38;5;124m\"\u001B[39m\u001B[38;5;124mMixing dicts with non-Series may lead to ambiguous ordering.\u001B[39m\u001B[38;5;124m\"\u001B[39m\n\u001B[0;32m    671\u001B[0m     )\n\u001B[0;32m    673\u001B[0m \u001B[38;5;28;01mif\u001B[39;00m have_series:\n\u001B[0;32m    674\u001B[0m     \u001B[38;5;28;01massert\u001B[39;00m index \u001B[38;5;129;01mis\u001B[39;00m \u001B[38;5;129;01mnot\u001B[39;00m \u001B[38;5;28;01mNone\u001B[39;00m  \u001B[38;5;66;03m# for mypy\u001B[39;00m\n",
      "\u001B[1;31mValueError\u001B[0m: Mixing dicts with non-Series may lead to ambiguous ordering."
     ]
    }
   ],
   "source": [
    "df_players = get_player_from_id([df['j_id'][0]], headers)"
   ],
   "metadata": {
    "collapsed": false,
    "ExecuteTime": {
     "end_time": "2023-08-28T10:41:11.705599400Z",
     "start_time": "2023-08-28T10:41:06.905961700Z"
    }
   }
  },
  {
   "cell_type": "code",
   "execution_count": 23,
   "outputs": [
    {
     "name": "stdout",
     "output_type": "stream",
     "text": [
      "{'data': {'jatekos': {'j_id': 24385, 'j_nssz': 'MVLSZ028636A16', 'j_kulfoldi': 0, 'j_fiokegyesuletben_jatszhat': 0, 'j_anyaegyesuletben_jatszhat': 1, 'j_ob1_count': 0, 'j_ob1_count_from_2015': 0, 'j_ob1_engedely': 0, 'j_vezeteknev': 'Ábrahám', 'j_keresztnev': 'István Aladár', 'j_szuldatum': '2010-04-14', 'j_szulhely': 'Budapest', 'j_anyjaneve': 'Zamárdy Beáta', 'j_allampolgarsag': 'magyar', 'j_torvkepviselo': '', 'j_torvkepvcim': '', 'j_usernev': '', 'j_jelszo': '', 'j_email': '', 'j_irsz': '2040', 'j_varos': 'Budaörs', 'j_cim': 'Felsőszállás 8118', 'j_mobil': '', 'j_nem': 'f', 'j_dominans_kez': '', 'j_aktcsapat': '', 'j_egyesuletid': 43, 'j_egyesuletid2': None, 'j_egyesuletid3': None, 'j_elozocsapat': '', 'j_nssztorzsszam': '28636', 'j_poszt': '', 'j_poszt_eng': '', 'j_sapka': None, 'j_eredmeny': '', 'j_eredmeny_eng': '', 'j_kep': '', 'j_bemutat': '', 'j_bemutat_eng': '', 'j_microsite': '', 'j_website': '', 'j_leigdoksik': '', 'j_sportorvosi': '2024-02-01', 'j_sportorvosi_save': '0000-00-00', 'j_jogviszony': 1, 'j_szerzodes': '0000-00-00', 'j_versenyengedely': '', 'j_inaktiv': 0, 'j_szemely': 110412, 'j_torolve': 0, 'j_valogatott': None, 'j_valogatott_volt': None, 'j_meret': None, 'created_at': '0000-00-00 00:00:00', 'is_duplication_checked': 0, 'szovetsegi_modositas_ideje': None, 'engedely_kervenyezve': 0, 'engedely_kervenyezve_datum': None, 'engedely_megadva_datum': None, 'uj_jatekos': 0, 'updated_at': '2023-08-15 15:55:52', 'deleted_at': None, 'club': {'id': 43, 'name': 'KSI SE', 'image': 'https://adatbank.waterpolo.hu/images/egyesulet_logo/43.jpg'}, 'player_position': None}, 'stat': [{'jid': 24385, 'bid': 705, 'csid': 726, 'meccs': 2, 'jatszott': 2, 'gol': 1, 'loves': 2, 'ga': 1, 'la': 2, 'gc': 0, 'lc': 0, 'gf': 0, 'lf': 0, 'gh': 0, 'lh': 0, 'gp': 0, 'lp': 0, 'gt': 0, 'lt': 0, 'gx': 0, 'lx': 0, 'hiba': 1, 'kipontozodott': 0, 'ef': 0, 'ec': 1, 'en': 0, 'ep': 0, 'es': 0, 'er': 0, 'pf': 0, 'yp': 0, 'rp': 0, 'as': 0, 'bl': 0, 'ta': 0, 'tf': 0, 'vedes': 0, 'vedesproba': 0, 'sa': 0, 'sat': 0, 'sc': 0, 'sct': 0, 'sf': 0, 'sft': 0, 'sh': 0, 'sht': 0, 'sp': 0, 'spt': 0, 'st': 0, 'stt': 0, 'sx': 0, 'sxt': 0, 'pont': '0.8', 'szezon': 2022, 'bajnoksag': 'Budapesti Gyermek II.', 'csapat': 'KSI SE', 'sorrend': '20'}, {'jid': 24385, 'bid': 706, 'csid': 806, 'meccs': 21, 'jatszott': 21, 'gol': 6, 'loves': 57, 'ga': 5, 'la': 39, 'gc': 0, 'lc': 6, 'gf': 0, 'lf': 0, 'gh': 0, 'lh': 0, 'gp': 0, 'lp': 0, 'gt': 0, 'lt': 0, 'gx': 1, 'lx': 12, 'hiba': 26, 'kipontozodott': 5, 'ef': 16, 'ec': 2, 'en': 0, 'ep': 0, 'es': 0, 'er': 0, 'pf': 8, 'yp': 0, 'rp': 0, 'as': 0, 'bl': 0, 'ta': 29, 'tf': 16, 'vedes': 0, 'vedesproba': 0, 'sa': 0, 'sat': 0, 'sc': 0, 'sct': 0, 'sf': 0, 'sft': 0, 'sh': 0, 'sht': 0, 'sp': 0, 'spt': 0, 'st': 0, 'stt': 0, 'sx': 0, 'sxt': 0, 'pont': '-8.1', 'szezon': 2022, 'bajnoksag': 'Budapesti Gyermek III.', 'csapat': 'KSI SE', 'sorrend': '21'}, {'jid': 24385, 'bid': 643, 'csid': 886, 'meccs': 13, 'jatszott': 13, 'gol': 16, 'loves': 50, 'ga': 13, 'la': 37, 'gc': 1, 'lc': 9, 'gf': 0, 'lf': 0, 'gh': 0, 'lh': 0, 'gp': 0, 'lp': 0, 'gt': 0, 'lt': 1, 'gx': 2, 'lx': 3, 'hiba': 7, 'kipontozodott': 1, 'ef': 3, 'ec': 1, 'en': 0, 'ep': 1, 'es': 0, 'er': 0, 'pf': 2, 'yp': 0, 'rp': 0, 'as': 0, 'bl': 0, 'ta': 11, 'tf': 8, 'vedes': 0, 'vedesproba': 0, 'sa': 0, 'sat': 0, 'sc': 0, 'sct': 0, 'sf': 0, 'sft': 0, 'sh': 0, 'sht': 0, 'sp': 0, 'spt': 0, 'st': 0, 'stt': 0, 'sx': 0, 'sxt': 0, 'pont': '12.3', 'szezon': 2021, 'bajnoksag': 'Budapesti Gyermek IV. Bajnokság ', 'csapat': 'KSI SE', 'sorrend': '22'}, {'jid': 24385, 'bid': 561, 'csid': 1628, 'meccs': 7, 'jatszott': 7, 'gol': 0, 'loves': 1, 'ga': 0, 'la': 0, 'gc': 0, 'lc': 0, 'gf': 0, 'lf': 0, 'gh': 0, 'lh': 0, 'gp': 0, 'lp': 0, 'gt': 0, 'lt': 0, 'gx': 0, 'lx': 1, 'hiba': 10, 'kipontozodott': 2, 'ef': 7, 'ec': 0, 'en': 0, 'ep': 0, 'es': 0, 'er': 0, 'pf': 3, 'yp': 0, 'rp': 0, 'as': 0, 'bl': 0, 'ta': 3, 'tf': 0, 'vedes': 0, 'vedesproba': 0, 'sa': 0, 'sat': 0, 'sc': 0, 'sct': 0, 'sf': 0, 'sft': 0, 'sh': 0, 'sht': 0, 'sp': 0, 'spt': 0, 'st': 0, 'stt': 0, 'sx': 0, 'sxt': 0, 'pont': '-2.8', 'szezon': 2020, 'bajnoksag': 'Budapesti gyermek IV.', 'csapat': 'Oázis SC', 'sorrend': '22'}, {'jid': 24385, 'bid': 562, 'csid': 2475, 'meccs': 6, 'jatszott': 6, 'gol': 0, 'loves': 11, 'ga': 0, 'la': 9, 'gc': 0, 'lc': 0, 'gf': 0, 'lf': 0, 'gh': 0, 'lh': 0, 'gp': 0, 'lp': 0, 'gt': 0, 'lt': 1, 'gx': 0, 'lx': 1, 'hiba': 7, 'kipontozodott': 2, 'ef': 7, 'ec': 0, 'en': 0, 'ep': 0, 'es': 0, 'er': 0, 'pf': 0, 'yp': 0, 'rp': 0, 'as': 0, 'bl': 0, 'ta': 6, 'tf': 0, 'vedes': 0, 'vedesproba': 0, 'sa': 0, 'sat': 0, 'sc': 0, 'sct': 0, 'sf': 0, 'sft': 0, 'sh': 0, 'sht': 0, 'sp': 0, 'spt': 0, 'st': 0, 'stt': 0, 'sx': 0, 'sxt': 0, 'pont': '-1.9', 'szezon': 2020, 'bajnoksag': 'Budapesti Baby I.', 'csapat': 'Oázis SC', 'sorrend': '23'}, {'jid': 24385, 'bid': 508, 'csid': 2475, 'meccs': 6, 'jatszott': 6, 'gol': 0, 'loves': 5, 'ga': 0, 'la': 5, 'gc': 0, 'lc': 0, 'gf': 0, 'lf': 0, 'gh': 0, 'lh': 0, 'gp': 0, 'lp': 0, 'gt': 0, 'lt': 0, 'gx': 0, 'lx': 0, 'hiba': 0, 'kipontozodott': 0, 'ef': 0, 'ec': 0, 'en': 0, 'ep': 0, 'es': 0, 'er': 0, 'pf': 0, 'yp': 0, 'rp': 0, 'as': 0, 'bl': 0, 'ta': 3, 'tf': 0, 'vedes': 0, 'vedesproba': 0, 'sa': 0, 'sat': 0, 'sc': 0, 'sct': 0, 'sf': 0, 'sft': 0, 'sh': 0, 'sht': 0, 'sp': 0, 'spt': 0, 'st': 0, 'stt': 0, 'sx': 0, 'sxt': 0, 'pont': '-0.4', 'szezon': 2019, 'bajnoksag': 'Budapesti LSU Baby 2009.', 'csapat': 'Oázis SC', 'sorrend': '23'}], 'player_image': 'https://adatbank.waterpolo.hu/images/jatekoskepek/028636.jpg', 'golok': 23, 'vedesek': 0}}\n"
     ]
    }
   ],
   "source": [
    "print(requests.get(f'https://mvlsz-dbank-api.webpont.com/api/v1/players/{24385}', headers=headers).json())"
   ],
   "metadata": {
    "collapsed": false,
    "ExecuteTime": {
     "end_time": "2023-08-28T10:47:34.493513600Z",
     "start_time": "2023-08-28T10:47:34.207591600Z"
    }
   }
  },
  {
   "cell_type": "code",
   "execution_count": null,
   "outputs": [],
   "source": [
    "df_players[0][1]"
   ],
   "metadata": {
    "collapsed": false,
    "ExecuteTime": {
     "start_time": "2023-08-28T10:41:11.673411900Z"
    }
   }
  },
  {
   "cell_type": "code",
   "execution_count": null,
   "outputs": [],
   "source": [],
   "metadata": {
    "collapsed": false
   }
  }
 ],
 "metadata": {
  "kernelspec": {
   "display_name": "Python 3",
   "language": "python",
   "name": "python3"
  },
  "language_info": {
   "codemirror_mode": {
    "name": "ipython",
    "version": 2
   },
   "file_extension": ".py",
   "mimetype": "text/x-python",
   "name": "python",
   "nbconvert_exporter": "python",
   "pygments_lexer": "ipython2",
   "version": "2.7.6"
  }
 },
 "nbformat": 4,
 "nbformat_minor": 0
}
